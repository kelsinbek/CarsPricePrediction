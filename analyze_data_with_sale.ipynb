{
 "cells": [
  {
   "cell_type": "markdown",
   "source": [
    "# Курсовой проект по машинному обучению\n",
    "## Car price prediction\n",
    "## Использование произвольных автомобильных данных для анализа предсказание цен на автомобили."
   ],
   "metadata": {
    "collapsed": false
   },
   "id": "53642d6255a037d1"
  },
  {
   "cell_type": "markdown",
   "source": [
    "### Описание признаков\n",
    "##### name: Название автомобиля (марка и модель),\n",
    "##### company: Компания-производитель,\n",
    "##### year: Год выпуска автомобиля,\n",
    "##### price: Цена автомобиля,\n",
    "##### kms_driven: Пробег автомобиля в километрах,\n",
    "##### fuel_type: Тип топлива, используемого автомобилем,\n",
    "##### sale_date: Дата продажи автомобиля,\n",
    "##### color: Цвет автомобиля\n"
   ],
   "metadata": {
    "collapsed": false
   },
   "id": "e9c5ea32d9ad774a"
  },
  {
   "cell_type": "code",
   "execution_count": 9,
   "outputs": [],
   "source": [
    "from sklearn.preprocessing import OneHotEncoder\n",
    "from sklearn.compose import make_column_transformer\n",
    "from sklearn.pipeline import make_pipeline\n",
    "from sklearn.metrics import r2_score\n",
    "from sklearn.linear_model import LinearRegression\n",
    "from sklearn.ensemble import RandomForestRegressor\n",
    "from sklearn.tree import DecisionTreeRegressor\n",
    "from sklearn.ensemble import GradientBoostingRegressor\n",
    "import pandas as pd\n",
    "import numpy as np\n",
    "import matplotlib.pyplot as plt\n",
    "import matplotlib as mpl\n",
    "%matplotlib inline\n",
    "mpl.style.use('ggplot')"
   ],
   "metadata": {
    "collapsed": false,
    "ExecuteTime": {
     "end_time": "2024-05-26T09:34:22.129523500Z",
     "start_time": "2024-05-26T09:34:22.115872200Z"
    }
   },
   "id": "464adca266f10513"
  },
  {
   "cell_type": "code",
   "execution_count": 10,
   "outputs": [],
   "source": [
    "data=pd.read_csv('dataset/car_data_with_sales.csv')"
   ],
   "metadata": {
    "collapsed": false,
    "ExecuteTime": {
     "end_time": "2024-05-26T09:34:22.879177900Z",
     "start_time": "2024-05-26T09:34:22.849828200Z"
    }
   },
   "id": "8a27e6f4a1af24c5"
  },
  {
   "cell_type": "code",
   "execution_count": 11,
   "outputs": [
    {
     "data": {
      "text/plain": "    ID       name company  year  price  kms_driven fuel_type   sale_date  \\\n0  800  Honda Fit   Honda  2020   5956      147404    Petrol  2020-01-01   \n1  801  Honda Fit   Honda  2021   7035      333376    Petrol  2020-02-01   \n2  802  Honda Fit   Honda  2022   7694      257131    Petrol  2020-03-01   \n3  803  Honda Fit   Honda  2023   8763      275895    Petrol  2020-04-01   \n4  804  Honda Fit   Honda  2024   5768      165431    Petrol  2020-05-01   \n5  805  Honda Fit   Honda  2020   7910      249994    Petrol  2020-06-01   \n6  806  Honda Fit   Honda  2021   5080      154123    Petrol  2020-07-01   \n7  807  Honda Fit   Honda  2022   5237      188114    Petrol  2020-08-01   \n8  808  Honda Fit   Honda  2023   5559      290926    Petrol  2020-09-01   \n9  809  Honda Fit   Honda  2024   8924      315265    Petrol  2020-10-01   \n\n    color  volume  \n0    Blue     1.3  \n1     Red     1.3  \n2    Blue     1.5  \n3   White     1.5  \n4     Red     1.6  \n5   White     1.6  \n6     Red     1.5  \n7  Silver     1.6  \n8   White     1.6  \n9    Blue     1.5  ",
      "text/html": "<div>\n<style scoped>\n    .dataframe tbody tr th:only-of-type {\n        vertical-align: middle;\n    }\n\n    .dataframe tbody tr th {\n        vertical-align: top;\n    }\n\n    .dataframe thead th {\n        text-align: right;\n    }\n</style>\n<table border=\"1\" class=\"dataframe\">\n  <thead>\n    <tr style=\"text-align: right;\">\n      <th></th>\n      <th>ID</th>\n      <th>name</th>\n      <th>company</th>\n      <th>year</th>\n      <th>price</th>\n      <th>kms_driven</th>\n      <th>fuel_type</th>\n      <th>sale_date</th>\n      <th>color</th>\n      <th>volume</th>\n    </tr>\n  </thead>\n  <tbody>\n    <tr>\n      <th>0</th>\n      <td>800</td>\n      <td>Honda Fit</td>\n      <td>Honda</td>\n      <td>2020</td>\n      <td>5956</td>\n      <td>147404</td>\n      <td>Petrol</td>\n      <td>2020-01-01</td>\n      <td>Blue</td>\n      <td>1.3</td>\n    </tr>\n    <tr>\n      <th>1</th>\n      <td>801</td>\n      <td>Honda Fit</td>\n      <td>Honda</td>\n      <td>2021</td>\n      <td>7035</td>\n      <td>333376</td>\n      <td>Petrol</td>\n      <td>2020-02-01</td>\n      <td>Red</td>\n      <td>1.3</td>\n    </tr>\n    <tr>\n      <th>2</th>\n      <td>802</td>\n      <td>Honda Fit</td>\n      <td>Honda</td>\n      <td>2022</td>\n      <td>7694</td>\n      <td>257131</td>\n      <td>Petrol</td>\n      <td>2020-03-01</td>\n      <td>Blue</td>\n      <td>1.5</td>\n    </tr>\n    <tr>\n      <th>3</th>\n      <td>803</td>\n      <td>Honda Fit</td>\n      <td>Honda</td>\n      <td>2023</td>\n      <td>8763</td>\n      <td>275895</td>\n      <td>Petrol</td>\n      <td>2020-04-01</td>\n      <td>White</td>\n      <td>1.5</td>\n    </tr>\n    <tr>\n      <th>4</th>\n      <td>804</td>\n      <td>Honda Fit</td>\n      <td>Honda</td>\n      <td>2024</td>\n      <td>5768</td>\n      <td>165431</td>\n      <td>Petrol</td>\n      <td>2020-05-01</td>\n      <td>Red</td>\n      <td>1.6</td>\n    </tr>\n    <tr>\n      <th>5</th>\n      <td>805</td>\n      <td>Honda Fit</td>\n      <td>Honda</td>\n      <td>2020</td>\n      <td>7910</td>\n      <td>249994</td>\n      <td>Petrol</td>\n      <td>2020-06-01</td>\n      <td>White</td>\n      <td>1.6</td>\n    </tr>\n    <tr>\n      <th>6</th>\n      <td>806</td>\n      <td>Honda Fit</td>\n      <td>Honda</td>\n      <td>2021</td>\n      <td>5080</td>\n      <td>154123</td>\n      <td>Petrol</td>\n      <td>2020-07-01</td>\n      <td>Red</td>\n      <td>1.5</td>\n    </tr>\n    <tr>\n      <th>7</th>\n      <td>807</td>\n      <td>Honda Fit</td>\n      <td>Honda</td>\n      <td>2022</td>\n      <td>5237</td>\n      <td>188114</td>\n      <td>Petrol</td>\n      <td>2020-08-01</td>\n      <td>Silver</td>\n      <td>1.6</td>\n    </tr>\n    <tr>\n      <th>8</th>\n      <td>808</td>\n      <td>Honda Fit</td>\n      <td>Honda</td>\n      <td>2023</td>\n      <td>5559</td>\n      <td>290926</td>\n      <td>Petrol</td>\n      <td>2020-09-01</td>\n      <td>White</td>\n      <td>1.6</td>\n    </tr>\n    <tr>\n      <th>9</th>\n      <td>809</td>\n      <td>Honda Fit</td>\n      <td>Honda</td>\n      <td>2024</td>\n      <td>8924</td>\n      <td>315265</td>\n      <td>Petrol</td>\n      <td>2020-10-01</td>\n      <td>Blue</td>\n      <td>1.5</td>\n    </tr>\n  </tbody>\n</table>\n</div>"
     },
     "execution_count": 11,
     "metadata": {},
     "output_type": "execute_result"
    }
   ],
   "source": [
    "data.head(10)"
   ],
   "metadata": {
    "collapsed": false,
    "ExecuteTime": {
     "end_time": "2024-05-26T09:34:23.894892900Z",
     "start_time": "2024-05-26T09:34:23.864343200Z"
    }
   },
   "id": "3f542f4db170b2fd"
  },
  {
   "cell_type": "code",
   "execution_count": 12,
   "outputs": [
    {
     "data": {
      "text/plain": "(500, 10)"
     },
     "execution_count": 12,
     "metadata": {},
     "output_type": "execute_result"
    }
   ],
   "source": [
    "data.shape"
   ],
   "metadata": {
    "collapsed": false,
    "ExecuteTime": {
     "end_time": "2024-05-26T09:34:26.490913600Z",
     "start_time": "2024-05-26T09:34:26.474787100Z"
    }
   },
   "id": "5a42d4e582e8ff9a"
  },
  {
   "cell_type": "code",
   "execution_count": 13,
   "outputs": [
    {
     "name": "stdout",
     "output_type": "stream",
     "text": [
      "<class 'pandas.core.frame.DataFrame'>\n",
      "RangeIndex: 500 entries, 0 to 499\n",
      "Data columns (total 10 columns):\n",
      " #   Column      Non-Null Count  Dtype  \n",
      "---  ------      --------------  -----  \n",
      " 0   ID          500 non-null    int64  \n",
      " 1   name        500 non-null    object \n",
      " 2   company     500 non-null    object \n",
      " 3   year        500 non-null    int64  \n",
      " 4   price       500 non-null    int64  \n",
      " 5   kms_driven  500 non-null    int64  \n",
      " 6   fuel_type   500 non-null    object \n",
      " 7   sale_date   500 non-null    object \n",
      " 8   color       500 non-null    object \n",
      " 9   volume      500 non-null    float64\n",
      "dtypes: float64(1), int64(4), object(5)\n",
      "memory usage: 39.2+ KB\n"
     ]
    }
   ],
   "source": [
    "data.info()"
   ],
   "metadata": {
    "collapsed": false,
    "ExecuteTime": {
     "end_time": "2024-05-26T09:34:27.135333500Z",
     "start_time": "2024-05-26T09:34:27.104158300Z"
    }
   },
   "id": "68625243d035a21"
  },
  {
   "cell_type": "code",
   "execution_count": 14,
   "outputs": [
    {
     "data": {
      "text/plain": "                ID         year        price     kms_driven      volume\ncount   500.000000   500.000000   500.000000     500.000000  500.000000\nmean   1049.500000  2021.922000  6551.126000  224348.132000    1.472600\nstd     144.481833     1.394204  1435.545352   74606.863523    0.123043\nmin     800.000000  2020.000000  4022.000000  100052.000000    1.300000\n25%     924.750000  2021.000000  5308.500000  158883.250000    1.300000\n50%    1049.500000  2022.000000  6584.500000  223091.000000    1.500000\n75%    1174.250000  2023.000000  7828.500000  289390.750000    1.600000\nmax    1299.000000  2024.000000  8993.000000  348854.000000    1.600000",
      "text/html": "<div>\n<style scoped>\n    .dataframe tbody tr th:only-of-type {\n        vertical-align: middle;\n    }\n\n    .dataframe tbody tr th {\n        vertical-align: top;\n    }\n\n    .dataframe thead th {\n        text-align: right;\n    }\n</style>\n<table border=\"1\" class=\"dataframe\">\n  <thead>\n    <tr style=\"text-align: right;\">\n      <th></th>\n      <th>ID</th>\n      <th>year</th>\n      <th>price</th>\n      <th>kms_driven</th>\n      <th>volume</th>\n    </tr>\n  </thead>\n  <tbody>\n    <tr>\n      <th>count</th>\n      <td>500.000000</td>\n      <td>500.000000</td>\n      <td>500.000000</td>\n      <td>500.000000</td>\n      <td>500.000000</td>\n    </tr>\n    <tr>\n      <th>mean</th>\n      <td>1049.500000</td>\n      <td>2021.922000</td>\n      <td>6551.126000</td>\n      <td>224348.132000</td>\n      <td>1.472600</td>\n    </tr>\n    <tr>\n      <th>std</th>\n      <td>144.481833</td>\n      <td>1.394204</td>\n      <td>1435.545352</td>\n      <td>74606.863523</td>\n      <td>0.123043</td>\n    </tr>\n    <tr>\n      <th>min</th>\n      <td>800.000000</td>\n      <td>2020.000000</td>\n      <td>4022.000000</td>\n      <td>100052.000000</td>\n      <td>1.300000</td>\n    </tr>\n    <tr>\n      <th>25%</th>\n      <td>924.750000</td>\n      <td>2021.000000</td>\n      <td>5308.500000</td>\n      <td>158883.250000</td>\n      <td>1.300000</td>\n    </tr>\n    <tr>\n      <th>50%</th>\n      <td>1049.500000</td>\n      <td>2022.000000</td>\n      <td>6584.500000</td>\n      <td>223091.000000</td>\n      <td>1.500000</td>\n    </tr>\n    <tr>\n      <th>75%</th>\n      <td>1174.250000</td>\n      <td>2023.000000</td>\n      <td>7828.500000</td>\n      <td>289390.750000</td>\n      <td>1.600000</td>\n    </tr>\n    <tr>\n      <th>max</th>\n      <td>1299.000000</td>\n      <td>2024.000000</td>\n      <td>8993.000000</td>\n      <td>348854.000000</td>\n      <td>1.600000</td>\n    </tr>\n  </tbody>\n</table>\n</div>"
     },
     "execution_count": 14,
     "metadata": {},
     "output_type": "execute_result"
    }
   ],
   "source": [
    "data.describe()"
   ],
   "metadata": {
    "collapsed": false,
    "ExecuteTime": {
     "end_time": "2024-05-26T09:34:27.998984800Z",
     "start_time": "2024-05-26T09:34:27.969013100Z"
    }
   },
   "id": "b16c1bfe76a28202"
  },
  {
   "cell_type": "code",
   "execution_count": 15,
   "outputs": [
    {
     "data": {
      "text/plain": "ID            0\nname          0\ncompany       0\nyear          0\nprice         0\nkms_driven    0\nfuel_type     0\nsale_date     0\ncolor         0\nvolume        0\ndtype: int64"
     },
     "execution_count": 15,
     "metadata": {},
     "output_type": "execute_result"
    }
   ],
   "source": [
    "data.isnull().sum()"
   ],
   "metadata": {
    "collapsed": false,
    "ExecuteTime": {
     "end_time": "2024-05-26T09:34:29.344330Z",
     "start_time": "2024-05-26T09:34:29.332131400Z"
    }
   },
   "id": "f2d55fbd5cf9a578"
  },
  {
   "cell_type": "code",
   "execution_count": null,
   "outputs": [],
   "source": [],
   "metadata": {
    "collapsed": false
   },
   "id": "234f97a22a4afa24"
  }
 ],
 "metadata": {
  "kernelspec": {
   "display_name": "Python 3",
   "language": "python",
   "name": "python3"
  },
  "language_info": {
   "codemirror_mode": {
    "name": "ipython",
    "version": 2
   },
   "file_extension": ".py",
   "mimetype": "text/x-python",
   "name": "python",
   "nbconvert_exporter": "python",
   "pygments_lexer": "ipython2",
   "version": "2.7.6"
  }
 },
 "nbformat": 4,
 "nbformat_minor": 5
}
