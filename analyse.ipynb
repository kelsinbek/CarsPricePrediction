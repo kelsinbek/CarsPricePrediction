{
 "cells": [
  {
   "cell_type": "markdown",
   "source": [
    "# Курсовой проект по машинному обучению\n",
    "# Car price prediction\n",
    "# Использование произвольных автомобильных данных для анализа прогноза цен на автомобили."
   ],
   "metadata": {
    "collapsed": false
   },
   "id": "74766608b4a7b985"
  },
  {
   "cell_type": "code",
   "execution_count": 1,
   "outputs": [],
   "source": [
    "import pandas as pd\n",
    "import numpy as np\n",
    "import matplotlib.pyplot as plt\n",
    "import matplotlib as mpl\n",
    "%matplotlib inline\n",
    "mpl.style.use('ggplot')"
   ],
   "metadata": {
    "collapsed": false,
    "ExecuteTime": {
     "end_time": "2024-05-21T16:06:56.319076400Z",
     "start_time": "2024-05-21T16:06:56.299439400Z"
    }
   },
   "id": "initial_id"
  },
  {
   "cell_type": "code",
   "execution_count": null,
   "outputs": [],
   "source": [],
   "metadata": {
    "collapsed": false
   },
   "id": "9ca3e4a6a1798991"
  },
  {
   "cell_type": "code",
   "execution_count": 2,
   "outputs": [],
   "source": [
    "car=pd.read_csv('dataset/CAR.csv')\n"
   ],
   "metadata": {
    "collapsed": false,
    "ExecuteTime": {
     "end_time": "2024-05-21T16:10:13.674484300Z",
     "start_time": "2024-05-21T16:10:13.645088400Z"
    }
   },
   "id": "323639fde088390f"
  },
  {
   "cell_type": "code",
   "execution_count": 3,
   "outputs": [
    {
     "data": {
      "text/plain": "   Unnamed: 0                        name company  year   Price  kms_driven  \\\n0           0    Toyota Camry 55 SE USA🇺🇸  Toyota  2015  15800$  150 000 km   \n1           1     Toyota Land Cruiser 200  Toyota  2015  47000$  145 000 km   \n2           2         Toyota Camry 70 XSE  Toyota  2019  20500$  180 246 km   \n3           3  Toyota Highlander IV (U70)  Toyota  2019  45300$  108 000 km   \n4           4     Toyota Crown XVI (S235)  Toyota  2023  51500$    7 750 km   \n\n  fuel_type  \n0    Hybrid  \n1    Petrol  \n2    Petrol  \n3    Hybrid  \n4    Hybrid  ",
      "text/html": "<div>\n<style scoped>\n    .dataframe tbody tr th:only-of-type {\n        vertical-align: middle;\n    }\n\n    .dataframe tbody tr th {\n        vertical-align: top;\n    }\n\n    .dataframe thead th {\n        text-align: right;\n    }\n</style>\n<table border=\"1\" class=\"dataframe\">\n  <thead>\n    <tr style=\"text-align: right;\">\n      <th></th>\n      <th>Unnamed: 0</th>\n      <th>name</th>\n      <th>company</th>\n      <th>year</th>\n      <th>Price</th>\n      <th>kms_driven</th>\n      <th>fuel_type</th>\n    </tr>\n  </thead>\n  <tbody>\n    <tr>\n      <th>0</th>\n      <td>0</td>\n      <td>Toyota Camry 55 SE USA🇺🇸</td>\n      <td>Toyota</td>\n      <td>2015</td>\n      <td>15800$</td>\n      <td>150 000 km</td>\n      <td>Hybrid</td>\n    </tr>\n    <tr>\n      <th>1</th>\n      <td>1</td>\n      <td>Toyota Land Cruiser 200</td>\n      <td>Toyota</td>\n      <td>2015</td>\n      <td>47000$</td>\n      <td>145 000 km</td>\n      <td>Petrol</td>\n    </tr>\n    <tr>\n      <th>2</th>\n      <td>2</td>\n      <td>Toyota Camry 70 XSE</td>\n      <td>Toyota</td>\n      <td>2019</td>\n      <td>20500$</td>\n      <td>180 246 km</td>\n      <td>Petrol</td>\n    </tr>\n    <tr>\n      <th>3</th>\n      <td>3</td>\n      <td>Toyota Highlander IV (U70)</td>\n      <td>Toyota</td>\n      <td>2019</td>\n      <td>45300$</td>\n      <td>108 000 km</td>\n      <td>Hybrid</td>\n    </tr>\n    <tr>\n      <th>4</th>\n      <td>4</td>\n      <td>Toyota Crown XVI (S235)</td>\n      <td>Toyota</td>\n      <td>2023</td>\n      <td>51500$</td>\n      <td>7 750 km</td>\n      <td>Hybrid</td>\n    </tr>\n  </tbody>\n</table>\n</div>"
     },
     "execution_count": 3,
     "metadata": {},
     "output_type": "execute_result"
    }
   ],
   "source": [
    "car.head()"
   ],
   "metadata": {
    "collapsed": false,
    "ExecuteTime": {
     "end_time": "2024-05-21T16:10:15.070737400Z",
     "start_time": "2024-05-21T16:10:15.032210300Z"
    }
   },
   "id": "ca8b60cb14b324e1"
  },
  {
   "cell_type": "code",
   "execution_count": 4,
   "outputs": [
    {
     "data": {
      "text/plain": "(602, 7)"
     },
     "execution_count": 4,
     "metadata": {},
     "output_type": "execute_result"
    }
   ],
   "source": [
    "car.shape"
   ],
   "metadata": {
    "collapsed": false,
    "ExecuteTime": {
     "end_time": "2024-05-21T16:10:37.649772100Z",
     "start_time": "2024-05-21T16:10:37.628493900Z"
    }
   },
   "id": "94fe13a903a460b8"
  },
  {
   "cell_type": "code",
   "execution_count": 5,
   "outputs": [
    {
     "name": "stdout",
     "output_type": "stream",
     "text": [
      "<class 'pandas.core.frame.DataFrame'>\n",
      "RangeIndex: 892 entries, 0 to 891\n",
      "Data columns (total 6 columns):\n",
      " #   Column      Non-Null Count  Dtype \n",
      "---  ------      --------------  ----- \n",
      " 0   name        892 non-null    object\n",
      " 1   company     892 non-null    object\n",
      " 2   year        892 non-null    object\n",
      " 3   Price       892 non-null    object\n",
      " 4   kms_driven  840 non-null    object\n",
      " 5   fuel_type   837 non-null    object\n",
      "dtypes: object(6)\n",
      "memory usage: 41.9+ KB\n"
     ]
    }
   ],
   "source": [
    "car.info()"
   ],
   "metadata": {
    "collapsed": false,
    "ExecuteTime": {
     "end_time": "2024-05-13T09:39:38.179506600Z",
     "start_time": "2024-05-13T09:39:38.142048Z"
    }
   },
   "id": "ca00d03f65029a62"
  },
  {
   "cell_type": "code",
   "execution_count": 6,
   "outputs": [],
   "source": [
    "backup=car.copy()"
   ],
   "metadata": {
    "collapsed": false,
    "ExecuteTime": {
     "end_time": "2024-05-13T09:39:48.497341100Z",
     "start_time": "2024-05-13T09:39:48.460574900Z"
    }
   },
   "id": "32289b5996630b47"
  },
  {
   "cell_type": "markdown",
   "source": [
    "## Quality\n",
    "\n",
    "- names are pretty inconsistent\n",
    "- names have company names attached to it\n",
    "- some names are spam like 'Maruti Ertiga showroom condition with' and 'Well mentained Tata Sumo'\n",
    "- company: many of the names are not of any company like 'Used', 'URJENT', and so on.\n",
    "- year has many non-year values\n",
    "- year is in object. Change to integer\n",
    "- Price has Ask for Price\n",
    "- Price has commas in its prices and is in object\n",
    "- kms_driven has object values with kms at last.\n",
    "- It has nan values and two rows have 'Petrol' in them\n",
    "- fuel_type has nan values"
   ],
   "metadata": {
    "collapsed": false
   },
   "id": "9f328b251b97b9ef"
  },
  {
   "cell_type": "markdown",
   "source": [
    "## Cleaning Data "
   ],
   "metadata": {
    "collapsed": false
   },
   "id": "faeee7bbf7f11bac"
  },
  {
   "cell_type": "code",
   "execution_count": null,
   "outputs": [],
   "source": [
    "#### year has many non-year values"
   ],
   "metadata": {
    "collapsed": false
   },
   "id": "61ed40d3fdad5904"
  }
 ],
 "metadata": {
  "kernelspec": {
   "display_name": "Python 3",
   "language": "python",
   "name": "python3"
  },
  "language_info": {
   "codemirror_mode": {
    "name": "ipython",
    "version": 2
   },
   "file_extension": ".py",
   "mimetype": "text/x-python",
   "name": "python",
   "nbconvert_exporter": "python",
   "pygments_lexer": "ipython2",
   "version": "2.7.6"
  }
 },
 "nbformat": 4,
 "nbformat_minor": 5
}
