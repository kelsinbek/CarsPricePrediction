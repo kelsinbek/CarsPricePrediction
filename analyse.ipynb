{
 "cells": [
  {
   "cell_type": "markdown",
   "source": [
    "# Курсовой проект по машинному обучению\n",
    "## Car price prediction\n",
    "## Использование произвольных автомобильных данных для анализа предсказание цен на автомобили.\n"
   ],
   "metadata": {
    "collapsed": false
   },
   "id": "74766608b4a7b985"
  },
  {
   "cell_type": "markdown",
   "source": [
    "### Описание признаков\n",
    "   - **name**: Название автомобиля (марка и модель),\n",
    "   - **company**: Компания-производитель,\n",
    "   - **year**: Год выпуска автомобиля,\n",
    "   - **Price**: Цена автомобиля,\n",
    "   - **kms_driven**: Пробег автомобиля в километрах,\n",
    "   - **fuel_type**: Тип топлива, используемого автомобилем"
   ],
   "metadata": {
    "collapsed": false
   },
   "id": "8213d94c5ae88fdc"
  },
  {
   "cell_type": "code",
   "execution_count": null,
   "outputs": [],
   "source": [],
   "metadata": {
    "collapsed": false
   },
   "id": "d374f6c54b6156d6"
  },
  {
   "cell_type": "markdown",
   "source": [
    "### Исследование данных"
   ],
   "metadata": {
    "collapsed": false
   },
   "id": "e7934e4ec0f4ae1b"
  },
  {
   "cell_type": "code",
   "execution_count": 279,
   "outputs": [],
   "source": [
    "\n",
    "import pandas as pd\n",
    "import numpy as np\n",
    "import matplotlib.pyplot as plt\n",
    "import matplotlib as mpl\n",
    "%matplotlib inline\n",
    "mpl.style.use('ggplot')"
   ],
   "metadata": {
    "collapsed": false,
    "ExecuteTime": {
     "end_time": "2024-05-23T18:45:28.585458800Z",
     "start_time": "2024-05-23T18:45:28.558327500Z"
    }
   },
   "id": "7f41c9367e2cbbec"
  },
  {
   "cell_type": "code",
   "execution_count": 280,
   "outputs": [],
   "source": [
    "data=pd.read_csv('dataset/CAR.csv')\n"
   ],
   "metadata": {
    "collapsed": false,
    "ExecuteTime": {
     "end_time": "2024-05-23T18:45:29.176995Z",
     "start_time": "2024-05-23T18:45:29.163443800Z"
    }
   },
   "id": "323639fde088390f"
  },
  {
   "cell_type": "code",
   "execution_count": 281,
   "outputs": [
    {
     "data": {
      "text/plain": "   Unnamed: 0                        name company  year    Price  kms_driven  \\\n0           0      Toyota Camry 55 SE USA  Toyota  2015   15800$  150 000 km   \n1           1     Toyota Land Cruiser 200  Toyota  2015   47000$  145 000 km   \n2           2         Toyota Camry 70 XSE  Toyota  2019   20500$  180 246 km   \n3           3  Toyota Highlander IV (U70)  Toyota  2019   45300$  108 000 km   \n4           4     Toyota Crown XVI (S235)  Toyota  2023   51500$    7 750 km   \n5           5  Toyota Sequoia I Restyling  Toyota  2004   23500$  167 000 km   \n6           6        Toyota RAV4 V (XA50)  Toyota  2021   37500$   56 000 km   \n7           7               Toyota Avalon  Toyota  2019   30000$   27 000 km   \n8           8                Toyota Crown  Toyota  2020   35500$   57 750 km   \n9           9              Toyota Sequoia  Toyota  2022   98500$   12 000 km   \n\n  fuel_type  \n0    Hybrid  \n1    Petrol  \n2    Petrol  \n3    Hybrid  \n4    Hybrid  \n5    Petrol  \n6    Hybrid  \n7    Hybrid  \n8    Petrol  \n9    Petrol  ",
      "text/html": "<div>\n<style scoped>\n    .dataframe tbody tr th:only-of-type {\n        vertical-align: middle;\n    }\n\n    .dataframe tbody tr th {\n        vertical-align: top;\n    }\n\n    .dataframe thead th {\n        text-align: right;\n    }\n</style>\n<table border=\"1\" class=\"dataframe\">\n  <thead>\n    <tr style=\"text-align: right;\">\n      <th></th>\n      <th>Unnamed: 0</th>\n      <th>name</th>\n      <th>company</th>\n      <th>year</th>\n      <th>Price</th>\n      <th>kms_driven</th>\n      <th>fuel_type</th>\n    </tr>\n  </thead>\n  <tbody>\n    <tr>\n      <th>0</th>\n      <td>0</td>\n      <td>Toyota Camry 55 SE USA</td>\n      <td>Toyota</td>\n      <td>2015</td>\n      <td>15800$</td>\n      <td>150 000 km</td>\n      <td>Hybrid</td>\n    </tr>\n    <tr>\n      <th>1</th>\n      <td>1</td>\n      <td>Toyota Land Cruiser 200</td>\n      <td>Toyota</td>\n      <td>2015</td>\n      <td>47000$</td>\n      <td>145 000 km</td>\n      <td>Petrol</td>\n    </tr>\n    <tr>\n      <th>2</th>\n      <td>2</td>\n      <td>Toyota Camry 70 XSE</td>\n      <td>Toyota</td>\n      <td>2019</td>\n      <td>20500$</td>\n      <td>180 246 km</td>\n      <td>Petrol</td>\n    </tr>\n    <tr>\n      <th>3</th>\n      <td>3</td>\n      <td>Toyota Highlander IV (U70)</td>\n      <td>Toyota</td>\n      <td>2019</td>\n      <td>45300$</td>\n      <td>108 000 km</td>\n      <td>Hybrid</td>\n    </tr>\n    <tr>\n      <th>4</th>\n      <td>4</td>\n      <td>Toyota Crown XVI (S235)</td>\n      <td>Toyota</td>\n      <td>2023</td>\n      <td>51500$</td>\n      <td>7 750 km</td>\n      <td>Hybrid</td>\n    </tr>\n    <tr>\n      <th>5</th>\n      <td>5</td>\n      <td>Toyota Sequoia I Restyling</td>\n      <td>Toyota</td>\n      <td>2004</td>\n      <td>23500$</td>\n      <td>167 000 km</td>\n      <td>Petrol</td>\n    </tr>\n    <tr>\n      <th>6</th>\n      <td>6</td>\n      <td>Toyota RAV4 V (XA50)</td>\n      <td>Toyota</td>\n      <td>2021</td>\n      <td>37500$</td>\n      <td>56 000 km</td>\n      <td>Hybrid</td>\n    </tr>\n    <tr>\n      <th>7</th>\n      <td>7</td>\n      <td>Toyota Avalon</td>\n      <td>Toyota</td>\n      <td>2019</td>\n      <td>30000$</td>\n      <td>27 000 km</td>\n      <td>Hybrid</td>\n    </tr>\n    <tr>\n      <th>8</th>\n      <td>8</td>\n      <td>Toyota Crown</td>\n      <td>Toyota</td>\n      <td>2020</td>\n      <td>35500$</td>\n      <td>57 750 km</td>\n      <td>Petrol</td>\n    </tr>\n    <tr>\n      <th>9</th>\n      <td>9</td>\n      <td>Toyota Sequoia</td>\n      <td>Toyota</td>\n      <td>2022</td>\n      <td>98500$</td>\n      <td>12 000 km</td>\n      <td>Petrol</td>\n    </tr>\n  </tbody>\n</table>\n</div>"
     },
     "execution_count": 281,
     "metadata": {},
     "output_type": "execute_result"
    }
   ],
   "source": [
    "data.head(10)"
   ],
   "metadata": {
    "collapsed": false,
    "ExecuteTime": {
     "end_time": "2024-05-23T18:45:29.871087Z",
     "start_time": "2024-05-23T18:45:29.852026800Z"
    }
   },
   "id": "ca8b60cb14b324e1"
  },
  {
   "cell_type": "code",
   "execution_count": 282,
   "outputs": [
    {
     "data": {
      "text/plain": "(921, 7)"
     },
     "execution_count": 282,
     "metadata": {},
     "output_type": "execute_result"
    }
   ],
   "source": [
    "data.shape"
   ],
   "metadata": {
    "collapsed": false,
    "ExecuteTime": {
     "end_time": "2024-05-23T18:45:30.715339800Z",
     "start_time": "2024-05-23T18:45:30.697492800Z"
    }
   },
   "id": "94fe13a903a460b8"
  },
  {
   "cell_type": "code",
   "execution_count": 284,
   "outputs": [
    {
     "name": "stdout",
     "output_type": "stream",
     "text": [
      "<class 'pandas.core.frame.DataFrame'>\n",
      "RangeIndex: 921 entries, 0 to 920\n",
      "Data columns (total 7 columns):\n",
      " #   Column      Non-Null Count  Dtype \n",
      "---  ------      --------------  ----- \n",
      " 0   Unnamed: 0  921 non-null    int64 \n",
      " 1   name        921 non-null    object\n",
      " 2   company     920 non-null    object\n",
      " 3   year        918 non-null    object\n",
      " 4   Price       915 non-null    object\n",
      " 5   kms_driven  920 non-null    object\n",
      " 6   fuel_type   914 non-null    object\n",
      "dtypes: int64(1), object(6)\n",
      "memory usage: 50.5+ KB\n"
     ]
    }
   ],
   "source": [
    "data.info()"
   ],
   "metadata": {
    "collapsed": false,
    "ExecuteTime": {
     "end_time": "2024-05-23T18:46:08.558068100Z",
     "start_time": "2024-05-23T18:46:08.535903700Z"
    }
   },
   "id": "ca00d03f65029a62"
  },
  {
   "cell_type": "code",
   "execution_count": 285,
   "outputs": [],
   "source": [
    "backup=data.copy()"
   ],
   "metadata": {
    "collapsed": false,
    "ExecuteTime": {
     "end_time": "2024-05-23T18:46:09.335297600Z",
     "start_time": "2024-05-23T18:46:09.310920200Z"
    }
   },
   "id": "32289b5996630b47"
  },
  {
   "cell_type": "code",
   "execution_count": 286,
   "outputs": [
    {
     "data": {
      "text/plain": "       Unnamed: 0\ncount  921.000000\nmean   452.350706\nstd    258.148137\nmin      0.000000\n25%    229.000000\n50%    459.000000\n75%    669.000000\nmax    899.000000",
      "text/html": "<div>\n<style scoped>\n    .dataframe tbody tr th:only-of-type {\n        vertical-align: middle;\n    }\n\n    .dataframe tbody tr th {\n        vertical-align: top;\n    }\n\n    .dataframe thead th {\n        text-align: right;\n    }\n</style>\n<table border=\"1\" class=\"dataframe\">\n  <thead>\n    <tr style=\"text-align: right;\">\n      <th></th>\n      <th>Unnamed: 0</th>\n    </tr>\n  </thead>\n  <tbody>\n    <tr>\n      <th>count</th>\n      <td>921.000000</td>\n    </tr>\n    <tr>\n      <th>mean</th>\n      <td>452.350706</td>\n    </tr>\n    <tr>\n      <th>std</th>\n      <td>258.148137</td>\n    </tr>\n    <tr>\n      <th>min</th>\n      <td>0.000000</td>\n    </tr>\n    <tr>\n      <th>25%</th>\n      <td>229.000000</td>\n    </tr>\n    <tr>\n      <th>50%</th>\n      <td>459.000000</td>\n    </tr>\n    <tr>\n      <th>75%</th>\n      <td>669.000000</td>\n    </tr>\n    <tr>\n      <th>max</th>\n      <td>899.000000</td>\n    </tr>\n  </tbody>\n</table>\n</div>"
     },
     "execution_count": 286,
     "metadata": {},
     "output_type": "execute_result"
    }
   ],
   "source": [
    "data.describe()"
   ],
   "metadata": {
    "collapsed": false,
    "ExecuteTime": {
     "end_time": "2024-05-23T18:46:10.188734200Z",
     "start_time": "2024-05-23T18:46:10.129576900Z"
    }
   },
   "id": "a92bd5e7d1be228d"
  },
  {
   "cell_type": "markdown",
   "source": [],
   "metadata": {
    "collapsed": false
   },
   "id": "9f328b251b97b9ef"
  },
  {
   "cell_type": "markdown",
   "source": [
    "## Очистка данных"
   ],
   "metadata": {
    "collapsed": false
   },
   "id": "faeee7bbf7f11bac"
  },
  {
   "cell_type": "code",
   "execution_count": 287,
   "outputs": [
    {
     "data": {
      "text/plain": "Unnamed: 0    0\nname          0\ncompany       1\nyear          3\nPrice         6\nkms_driven    1\nfuel_type     7\ndtype: int64"
     },
     "execution_count": 287,
     "metadata": {},
     "output_type": "execute_result"
    }
   ],
   "source": [
    "data.isnull().sum()"
   ],
   "metadata": {
    "collapsed": false,
    "ExecuteTime": {
     "end_time": "2024-05-23T18:46:12.166866600Z",
     "start_time": "2024-05-23T18:46:12.129959100Z"
    }
   },
   "id": "61ed40d3fdad5904"
  },
  {
   "cell_type": "code",
   "execution_count": 288,
   "outputs": [],
   "source": [
    "data = data.dropna()"
   ],
   "metadata": {
    "collapsed": false,
    "ExecuteTime": {
     "end_time": "2024-05-23T18:46:12.961675100Z",
     "start_time": "2024-05-23T18:46:12.928349700Z"
    }
   },
   "id": "ded70ce8436fffae"
  },
  {
   "cell_type": "code",
   "execution_count": 289,
   "outputs": [
    {
     "data": {
      "text/plain": "Unnamed: 0    0\nname          0\ncompany       0\nyear          0\nPrice         0\nkms_driven    0\nfuel_type     0\ndtype: int64"
     },
     "execution_count": 289,
     "metadata": {},
     "output_type": "execute_result"
    }
   ],
   "source": [
    "data.isnull().sum()"
   ],
   "metadata": {
    "collapsed": false,
    "ExecuteTime": {
     "end_time": "2024-05-23T18:46:13.562476300Z",
     "start_time": "2024-05-23T18:46:13.551959700Z"
    }
   },
   "id": "6ce0b5d46c611ead"
  },
  {
   "cell_type": "code",
   "execution_count": 290,
   "outputs": [
    {
     "data": {
      "text/plain": "0      False\n1      False\n2      False\n3      False\n4      False\n       ...  \n916    False\n917    False\n918    False\n919    False\n920    False\nLength: 903, dtype: bool"
     },
     "execution_count": 290,
     "metadata": {},
     "output_type": "execute_result"
    }
   ],
   "source": [
    "data.duplicated()"
   ],
   "metadata": {
    "collapsed": false,
    "ExecuteTime": {
     "end_time": "2024-05-23T18:46:13.798265700Z",
     "start_time": "2024-05-23T18:46:13.738544600Z"
    }
   },
   "id": "7314932fb475db69"
  },
  {
   "cell_type": "code",
   "execution_count": 291,
   "outputs": [],
   "source": [
    "data['Price'] = data['Price'].str.replace('$', '').astype(int)"
   ],
   "metadata": {
    "collapsed": false,
    "ExecuteTime": {
     "end_time": "2024-05-23T18:46:14.788502300Z",
     "start_time": "2024-05-23T18:46:14.697889700Z"
    }
   },
   "id": "588a45001b0d1088"
  },
  {
   "cell_type": "code",
   "execution_count": 292,
   "outputs": [],
   "source": [
    "data['kms_driven'] = data['kms_driven'].str.replace(' km', '').str.replace(' ', '').astype(int)\n"
   ],
   "metadata": {
    "collapsed": false,
    "ExecuteTime": {
     "end_time": "2024-05-23T18:46:15.435906900Z",
     "start_time": "2024-05-23T18:46:15.395408800Z"
    }
   },
   "id": "47f5d9896ad3455a"
  },
  {
   "cell_type": "code",
   "execution_count": 293,
   "outputs": [],
   "source": [
    "data['year'] = data['year'].astype(int)"
   ],
   "metadata": {
    "collapsed": false,
    "ExecuteTime": {
     "end_time": "2024-05-23T18:46:16.223318200Z",
     "start_time": "2024-05-23T18:46:16.183234200Z"
    }
   },
   "id": "419a18dabe24de83"
  },
  {
   "cell_type": "code",
   "execution_count": 294,
   "outputs": [
    {
     "name": "stdout",
     "output_type": "stream",
     "text": [
      "<class 'pandas.core.frame.DataFrame'>\n",
      "Index: 903 entries, 0 to 920\n",
      "Data columns (total 7 columns):\n",
      " #   Column      Non-Null Count  Dtype \n",
      "---  ------      --------------  ----- \n",
      " 0   Unnamed: 0  903 non-null    int64 \n",
      " 1   name        903 non-null    object\n",
      " 2   company     903 non-null    object\n",
      " 3   year        903 non-null    int32 \n",
      " 4   Price       903 non-null    int32 \n",
      " 5   kms_driven  903 non-null    int32 \n",
      " 6   fuel_type   903 non-null    object\n",
      "dtypes: int32(3), int64(1), object(3)\n",
      "memory usage: 45.9+ KB\n"
     ]
    }
   ],
   "source": [
    "data.info()"
   ],
   "metadata": {
    "collapsed": false,
    "ExecuteTime": {
     "end_time": "2024-05-23T18:46:16.252932700Z",
     "start_time": "2024-05-23T18:46:16.198146600Z"
    }
   },
   "id": "24228fe555adf8e0"
  },
  {
   "cell_type": "code",
   "execution_count": 295,
   "outputs": [],
   "source": [
    "data['name']=data['name'].str.split().str.slice(start=0,stop=3).str.join(' ')"
   ],
   "metadata": {
    "collapsed": false,
    "ExecuteTime": {
     "end_time": "2024-05-23T18:46:17.084083100Z",
     "start_time": "2024-05-23T18:46:17.074554800Z"
    }
   },
   "id": "25f525bae7dac755"
  },
  {
   "cell_type": "code",
   "execution_count": 296,
   "outputs": [],
   "source": [
    "data=data.reset_index(drop=True)"
   ],
   "metadata": {
    "collapsed": false,
    "ExecuteTime": {
     "end_time": "2024-05-23T18:46:17.608920200Z",
     "start_time": "2024-05-23T18:46:17.601913200Z"
    }
   },
   "id": "6e43ef557ac45f6c"
  },
  {
   "cell_type": "code",
   "execution_count": 297,
   "outputs": [
    {
     "data": {
      "text/plain": "     Unnamed: 0                  name company  year  Price  kms_driven  \\\n0             0       Toyota Camry 55  Toyota  2015  15800      150000   \n1             1   Toyota Land Cruiser  Toyota  2015  47000      145000   \n2             2       Toyota Camry 70  Toyota  2019  20500      180246   \n3             3  Toyota Highlander IV  Toyota  2019  45300      108000   \n4             4      Toyota Crown XVI  Toyota  2023  51500        7750   \n..          ...                   ...     ...   ...    ...         ...   \n898         895             Honda Fit   Honda  2003   5600      220000   \n899         896             Honda Fit   Honda  2004   6000      240000   \n900         897             Honda Fit   Honda  2005   6700      210000   \n901         898             Honda Fit   Honda  2001   6800      270000   \n902         899             Honda Fit   Honda  2002   4800      140000   \n\n    fuel_type  \n0      Hybrid  \n1      Petrol  \n2      Petrol  \n3      Hybrid  \n4      Hybrid  \n..        ...  \n898    Petrol  \n899    Petrol  \n900    Petrol  \n901    Petrol  \n902    Petrol  \n\n[903 rows x 7 columns]",
      "text/html": "<div>\n<style scoped>\n    .dataframe tbody tr th:only-of-type {\n        vertical-align: middle;\n    }\n\n    .dataframe tbody tr th {\n        vertical-align: top;\n    }\n\n    .dataframe thead th {\n        text-align: right;\n    }\n</style>\n<table border=\"1\" class=\"dataframe\">\n  <thead>\n    <tr style=\"text-align: right;\">\n      <th></th>\n      <th>Unnamed: 0</th>\n      <th>name</th>\n      <th>company</th>\n      <th>year</th>\n      <th>Price</th>\n      <th>kms_driven</th>\n      <th>fuel_type</th>\n    </tr>\n  </thead>\n  <tbody>\n    <tr>\n      <th>0</th>\n      <td>0</td>\n      <td>Toyota Camry 55</td>\n      <td>Toyota</td>\n      <td>2015</td>\n      <td>15800</td>\n      <td>150000</td>\n      <td>Hybrid</td>\n    </tr>\n    <tr>\n      <th>1</th>\n      <td>1</td>\n      <td>Toyota Land Cruiser</td>\n      <td>Toyota</td>\n      <td>2015</td>\n      <td>47000</td>\n      <td>145000</td>\n      <td>Petrol</td>\n    </tr>\n    <tr>\n      <th>2</th>\n      <td>2</td>\n      <td>Toyota Camry 70</td>\n      <td>Toyota</td>\n      <td>2019</td>\n      <td>20500</td>\n      <td>180246</td>\n      <td>Petrol</td>\n    </tr>\n    <tr>\n      <th>3</th>\n      <td>3</td>\n      <td>Toyota Highlander IV</td>\n      <td>Toyota</td>\n      <td>2019</td>\n      <td>45300</td>\n      <td>108000</td>\n      <td>Hybrid</td>\n    </tr>\n    <tr>\n      <th>4</th>\n      <td>4</td>\n      <td>Toyota Crown XVI</td>\n      <td>Toyota</td>\n      <td>2023</td>\n      <td>51500</td>\n      <td>7750</td>\n      <td>Hybrid</td>\n    </tr>\n    <tr>\n      <th>...</th>\n      <td>...</td>\n      <td>...</td>\n      <td>...</td>\n      <td>...</td>\n      <td>...</td>\n      <td>...</td>\n      <td>...</td>\n    </tr>\n    <tr>\n      <th>898</th>\n      <td>895</td>\n      <td>Honda Fit</td>\n      <td>Honda</td>\n      <td>2003</td>\n      <td>5600</td>\n      <td>220000</td>\n      <td>Petrol</td>\n    </tr>\n    <tr>\n      <th>899</th>\n      <td>896</td>\n      <td>Honda Fit</td>\n      <td>Honda</td>\n      <td>2004</td>\n      <td>6000</td>\n      <td>240000</td>\n      <td>Petrol</td>\n    </tr>\n    <tr>\n      <th>900</th>\n      <td>897</td>\n      <td>Honda Fit</td>\n      <td>Honda</td>\n      <td>2005</td>\n      <td>6700</td>\n      <td>210000</td>\n      <td>Petrol</td>\n    </tr>\n    <tr>\n      <th>901</th>\n      <td>898</td>\n      <td>Honda Fit</td>\n      <td>Honda</td>\n      <td>2001</td>\n      <td>6800</td>\n      <td>270000</td>\n      <td>Petrol</td>\n    </tr>\n    <tr>\n      <th>902</th>\n      <td>899</td>\n      <td>Honda Fit</td>\n      <td>Honda</td>\n      <td>2002</td>\n      <td>4800</td>\n      <td>140000</td>\n      <td>Petrol</td>\n    </tr>\n  </tbody>\n</table>\n<p>903 rows × 7 columns</p>\n</div>"
     },
     "execution_count": 297,
     "metadata": {},
     "output_type": "execute_result"
    }
   ],
   "source": [
    "data"
   ],
   "metadata": {
    "collapsed": false,
    "ExecuteTime": {
     "end_time": "2024-05-23T18:46:18.155395500Z",
     "start_time": "2024-05-23T18:46:18.126282Z"
    }
   },
   "id": "6d172281c157e3fa"
  },
  {
   "cell_type": "code",
   "execution_count": 299,
   "outputs": [],
   "source": [
    "#data.to_csv('dataset/cleaned_data_cars.csv',index = False)"
   ],
   "metadata": {
    "collapsed": false,
    "ExecuteTime": {
     "end_time": "2024-05-23T18:46:30.470488400Z",
     "start_time": "2024-05-23T18:46:30.433508300Z"
    }
   },
   "id": "710d90845ef15077"
  },
  {
   "cell_type": "code",
   "execution_count": 300,
   "outputs": [
    {
     "name": "stdout",
     "output_type": "stream",
     "text": [
      "<class 'pandas.core.frame.DataFrame'>\n",
      "RangeIndex: 903 entries, 0 to 902\n",
      "Data columns (total 7 columns):\n",
      " #   Column      Non-Null Count  Dtype \n",
      "---  ------      --------------  ----- \n",
      " 0   Unnamed: 0  903 non-null    int64 \n",
      " 1   name        903 non-null    object\n",
      " 2   company     903 non-null    object\n",
      " 3   year        903 non-null    int32 \n",
      " 4   Price       903 non-null    int32 \n",
      " 5   kms_driven  903 non-null    int32 \n",
      " 6   fuel_type   903 non-null    object\n",
      "dtypes: int32(3), int64(1), object(3)\n",
      "memory usage: 38.9+ KB\n"
     ]
    }
   ],
   "source": [
    "data.info()"
   ],
   "metadata": {
    "collapsed": false,
    "ExecuteTime": {
     "end_time": "2024-05-23T18:46:31.277359700Z",
     "start_time": "2024-05-23T18:46:31.208308Z"
    }
   },
   "id": "fc28e07e98f383c"
  },
  {
   "cell_type": "code",
   "execution_count": 301,
   "outputs": [
    {
     "data": {
      "text/plain": "        Unnamed: 0       name company         year          Price  \\\ncount   903.000000        903     903   903.000000     903.000000   \nunique         NaN        323       7          NaN            NaN   \ntop            NaN  Honda Fit   Honda          NaN            NaN   \nfreq           NaN        175     262          NaN            NaN   \nmean    449.209302        NaN     NaN  2014.349945   33625.808416   \nstd     259.532040        NaN     NaN     6.686802   45126.375012   \nmin       0.000000        NaN     NaN  1990.000000    2500.000000   \n25%     224.500000        NaN     NaN  2010.000000   11600.000000   \n50%     451.000000        NaN     NaN  2017.000000   24000.000000   \n75%     671.500000        NaN     NaN  2019.000000   42000.000000   \nmax     899.000000        NaN     NaN  2024.000000  960000.000000   \n\n           kms_driven fuel_type  \ncount      903.000000       903  \nunique            NaN         9  \ntop               NaN    Petrol  \nfreq              NaN       672  \nmean    100006.370986       NaN  \nstd      81007.869249       NaN  \nmin         17.000000       NaN  \n25%      40000.000000       NaN  \n50%      70000.000000       NaN  \n75%     150000.000000       NaN  \nmax     550000.000000       NaN  ",
      "text/html": "<div>\n<style scoped>\n    .dataframe tbody tr th:only-of-type {\n        vertical-align: middle;\n    }\n\n    .dataframe tbody tr th {\n        vertical-align: top;\n    }\n\n    .dataframe thead th {\n        text-align: right;\n    }\n</style>\n<table border=\"1\" class=\"dataframe\">\n  <thead>\n    <tr style=\"text-align: right;\">\n      <th></th>\n      <th>Unnamed: 0</th>\n      <th>name</th>\n      <th>company</th>\n      <th>year</th>\n      <th>Price</th>\n      <th>kms_driven</th>\n      <th>fuel_type</th>\n    </tr>\n  </thead>\n  <tbody>\n    <tr>\n      <th>count</th>\n      <td>903.000000</td>\n      <td>903</td>\n      <td>903</td>\n      <td>903.000000</td>\n      <td>903.000000</td>\n      <td>903.000000</td>\n      <td>903</td>\n    </tr>\n    <tr>\n      <th>unique</th>\n      <td>NaN</td>\n      <td>323</td>\n      <td>7</td>\n      <td>NaN</td>\n      <td>NaN</td>\n      <td>NaN</td>\n      <td>9</td>\n    </tr>\n    <tr>\n      <th>top</th>\n      <td>NaN</td>\n      <td>Honda Fit</td>\n      <td>Honda</td>\n      <td>NaN</td>\n      <td>NaN</td>\n      <td>NaN</td>\n      <td>Petrol</td>\n    </tr>\n    <tr>\n      <th>freq</th>\n      <td>NaN</td>\n      <td>175</td>\n      <td>262</td>\n      <td>NaN</td>\n      <td>NaN</td>\n      <td>NaN</td>\n      <td>672</td>\n    </tr>\n    <tr>\n      <th>mean</th>\n      <td>449.209302</td>\n      <td>NaN</td>\n      <td>NaN</td>\n      <td>2014.349945</td>\n      <td>33625.808416</td>\n      <td>100006.370986</td>\n      <td>NaN</td>\n    </tr>\n    <tr>\n      <th>std</th>\n      <td>259.532040</td>\n      <td>NaN</td>\n      <td>NaN</td>\n      <td>6.686802</td>\n      <td>45126.375012</td>\n      <td>81007.869249</td>\n      <td>NaN</td>\n    </tr>\n    <tr>\n      <th>min</th>\n      <td>0.000000</td>\n      <td>NaN</td>\n      <td>NaN</td>\n      <td>1990.000000</td>\n      <td>2500.000000</td>\n      <td>17.000000</td>\n      <td>NaN</td>\n    </tr>\n    <tr>\n      <th>25%</th>\n      <td>224.500000</td>\n      <td>NaN</td>\n      <td>NaN</td>\n      <td>2010.000000</td>\n      <td>11600.000000</td>\n      <td>40000.000000</td>\n      <td>NaN</td>\n    </tr>\n    <tr>\n      <th>50%</th>\n      <td>451.000000</td>\n      <td>NaN</td>\n      <td>NaN</td>\n      <td>2017.000000</td>\n      <td>24000.000000</td>\n      <td>70000.000000</td>\n      <td>NaN</td>\n    </tr>\n    <tr>\n      <th>75%</th>\n      <td>671.500000</td>\n      <td>NaN</td>\n      <td>NaN</td>\n      <td>2019.000000</td>\n      <td>42000.000000</td>\n      <td>150000.000000</td>\n      <td>NaN</td>\n    </tr>\n    <tr>\n      <th>max</th>\n      <td>899.000000</td>\n      <td>NaN</td>\n      <td>NaN</td>\n      <td>2024.000000</td>\n      <td>960000.000000</td>\n      <td>550000.000000</td>\n      <td>NaN</td>\n    </tr>\n  </tbody>\n</table>\n</div>"
     },
     "execution_count": 301,
     "metadata": {},
     "output_type": "execute_result"
    }
   ],
   "source": [
    "data.describe(include='all')"
   ],
   "metadata": {
    "collapsed": false,
    "ExecuteTime": {
     "end_time": "2024-05-23T18:46:32.034796900Z",
     "start_time": "2024-05-23T18:46:31.971071Z"
    }
   },
   "id": "b975eb8dc8fe2339"
  },
  {
   "cell_type": "code",
   "execution_count": 302,
   "outputs": [],
   "source": [
    "#data=data[data['Price']<60000]"
   ],
   "metadata": {
    "collapsed": false,
    "ExecuteTime": {
     "end_time": "2024-05-23T18:46:32.999787100Z",
     "start_time": "2024-05-23T18:46:32.972648900Z"
    }
   },
   "id": "398f9eb9f2b6b9f"
  },
  {
   "cell_type": "code",
   "execution_count": 303,
   "outputs": [
    {
     "data": {
      "text/plain": "array(['Toyota', 'Honda', 'Mercedes-Benz', 'Lexus', 'BMW', 'Hyundai',\n       'Kia'], dtype=object)"
     },
     "execution_count": 303,
     "metadata": {},
     "output_type": "execute_result"
    }
   ],
   "source": [
    "data['company'].unique()"
   ],
   "metadata": {
    "collapsed": false,
    "ExecuteTime": {
     "end_time": "2024-05-23T18:46:33.735501800Z",
     "start_time": "2024-05-23T18:46:33.711977800Z"
    }
   },
   "id": "185f7c3e063320aa"
  },
  {
   "cell_type": "code",
   "execution_count": 304,
   "outputs": [],
   "source": [
    "import pandas as pd\n",
    "import seaborn as sns\n",
    "import matplotlib.pyplot as plt"
   ],
   "metadata": {
    "collapsed": false,
    "ExecuteTime": {
     "end_time": "2024-05-23T18:46:35.084937700Z",
     "start_time": "2024-05-23T18:46:35.059684600Z"
    }
   },
   "id": "e6dfee204dc0fa2c"
  },
  {
   "cell_type": "code",
   "execution_count": 305,
   "outputs": [],
   "source": [
    "### Кодирование признаков\n"
   ],
   "metadata": {
    "collapsed": false,
    "ExecuteTime": {
     "end_time": "2024-05-23T18:46:35.888163600Z",
     "start_time": "2024-05-23T18:46:35.862871700Z"
    }
   },
   "id": "ba1c9cd218667be5"
  },
  {
   "cell_type": "code",
   "execution_count": 306,
   "outputs": [
    {
     "data": {
      "text/plain": "<Figure size 1000x800 with 2 Axes>",
      "image/png": "[encoded data removed]"
     },
     "metadata": {},
     "output_type": "display_data"
    }
   ],
   "source": [
    "# Вычисление корреляций\n",
    "numeric_cols = ['year', 'Price', 'kms_driven']\n",
    "corr_matrix = data[numeric_cols].corr()\n",
    "\n",
    "# Построение тепловой карты с помощью Seaborn\n",
    "plt.figure(figsize=(10, 8))\n",
    "sns.heatmap(corr_matrix, annot=True, cmap='coolwarm', vmin=-1, vmax=1)\n",
    "plt.title('Correlation Heatmap')\n",
    "plt.xticks(rotation=45)\n",
    "plt.yticks(rotation=0)\n",
    "plt.tight_layout()\n",
    "plt.show()"
   ],
   "metadata": {
    "collapsed": false,
    "ExecuteTime": {
     "end_time": "2024-05-23T18:46:37.329755Z",
     "start_time": "2024-05-23T18:46:36.538908100Z"
    }
   },
   "id": "77b22224364d09f5"
  },
  {
   "cell_type": "markdown",
   "source": [
    "## Построение модели "
   ],
   "metadata": {
    "collapsed": false
   },
   "id": "36ea530917fb1b5b"
  },
  {
   "cell_type": "code",
   "execution_count": 307,
   "outputs": [],
   "source": [
    "X=data[['name','company','year','kms_driven','fuel_type']]\n",
    "y=data['Price']"
   ],
   "metadata": {
    "collapsed": false,
    "ExecuteTime": {
     "end_time": "2024-05-23T18:46:38.919258300Z",
     "start_time": "2024-05-23T18:46:38.892608300Z"
    }
   },
   "id": "f0d397863b903fd0"
  },
  {
   "cell_type": "code",
   "execution_count": 308,
   "outputs": [
    {
     "data": {
      "text/plain": "                     name company  year  kms_driven fuel_type\n0         Toyota Camry 55  Toyota  2015      150000    Hybrid\n1     Toyota Land Cruiser  Toyota  2015      145000    Petrol\n2         Toyota Camry 70  Toyota  2019      180246    Petrol\n3    Toyota Highlander IV  Toyota  2019      108000    Hybrid\n4        Toyota Crown XVI  Toyota  2023        7750    Hybrid\n..                    ...     ...   ...         ...       ...\n898             Honda Fit   Honda  2003      220000    Petrol\n899             Honda Fit   Honda  2004      240000    Petrol\n900             Honda Fit   Honda  2005      210000    Petrol\n901             Honda Fit   Honda  2001      270000    Petrol\n902             Honda Fit   Honda  2002      140000    Petrol\n\n[903 rows x 5 columns]",
      "text/html": "<div>\n<style scoped>\n    .dataframe tbody tr th:only-of-type {\n        vertical-align: middle;\n    }\n\n    .dataframe tbody tr th {\n        vertical-align: top;\n    }\n\n    .dataframe thead th {\n        text-align: right;\n    }\n</style>\n<table border=\"1\" class=\"dataframe\">\n  <thead>\n    <tr style=\"text-align: right;\">\n      <th></th>\n      <th>name</th>\n      <th>company</th>\n      <th>year</th>\n      <th>kms_driven</th>\n      <th>fuel_type</th>\n    </tr>\n  </thead>\n  <tbody>\n    <tr>\n      <th>0</th>\n      <td>Toyota Camry 55</td>\n      <td>Toyota</td>\n      <td>2015</td>\n      <td>150000</td>\n      <td>Hybrid</td>\n    </tr>\n    <tr>\n      <th>1</th>\n      <td>Toyota Land Cruiser</td>\n      <td>Toyota</td>\n      <td>2015</td>\n      <td>145000</td>\n      <td>Petrol</td>\n    </tr>\n    <tr>\n      <th>2</th>\n      <td>Toyota Camry 70</td>\n      <td>Toyota</td>\n      <td>2019</td>\n      <td>180246</td>\n      <td>Petrol</td>\n    </tr>\n    <tr>\n      <th>3</th>\n      <td>Toyota Highlander IV</td>\n      <td>Toyota</td>\n      <td>2019</td>\n      <td>108000</td>\n      <td>Hybrid</td>\n    </tr>\n    <tr>\n      <th>4</th>\n      <td>Toyota Crown XVI</td>\n      <td>Toyota</td>\n      <td>2023</td>\n      <td>7750</td>\n      <td>Hybrid</td>\n    </tr>\n    <tr>\n      <th>...</th>\n      <td>...</td>\n      <td>...</td>\n      <td>...</td>\n      <td>...</td>\n      <td>...</td>\n    </tr>\n    <tr>\n      <th>898</th>\n      <td>Honda Fit</td>\n      <td>Honda</td>\n      <td>2003</td>\n      <td>220000</td>\n      <td>Petrol</td>\n    </tr>\n    <tr>\n      <th>899</th>\n      <td>Honda Fit</td>\n      <td>Honda</td>\n      <td>2004</td>\n      <td>240000</td>\n      <td>Petrol</td>\n    </tr>\n    <tr>\n      <th>900</th>\n      <td>Honda Fit</td>\n      <td>Honda</td>\n      <td>2005</td>\n      <td>210000</td>\n      <td>Petrol</td>\n    </tr>\n    <tr>\n      <th>901</th>\n      <td>Honda Fit</td>\n      <td>Honda</td>\n      <td>2001</td>\n      <td>270000</td>\n      <td>Petrol</td>\n    </tr>\n    <tr>\n      <th>902</th>\n      <td>Honda Fit</td>\n      <td>Honda</td>\n      <td>2002</td>\n      <td>140000</td>\n      <td>Petrol</td>\n    </tr>\n  </tbody>\n</table>\n<p>903 rows × 5 columns</p>\n</div>"
     },
     "execution_count": 308,
     "metadata": {},
     "output_type": "execute_result"
    }
   ],
   "source": [
    "X"
   ],
   "metadata": {
    "collapsed": false,
    "ExecuteTime": {
     "end_time": "2024-05-23T18:46:39.598202100Z",
     "start_time": "2024-05-23T18:46:39.567064700Z"
    }
   },
   "id": "aef46a35a9e359e3"
  },
  {
   "cell_type": "code",
   "execution_count": 309,
   "outputs": [
    {
     "data": {
      "text/plain": "(903,)"
     },
     "execution_count": 309,
     "metadata": {},
     "output_type": "execute_result"
    }
   ],
   "source": [
    "y.shape"
   ],
   "metadata": {
    "collapsed": false,
    "ExecuteTime": {
     "end_time": "2024-05-23T18:46:40.440931800Z",
     "start_time": "2024-05-23T18:46:40.416548300Z"
    }
   },
   "id": "1559b53d21073f54"
  },
  {
   "cell_type": "code",
   "execution_count": 310,
   "outputs": [],
   "source": [
    "from sklearn.model_selection import train_test_split\n",
    "X_train,X_test,y_train,y_test=train_test_split(X,y,test_size=0.2)"
   ],
   "metadata": {
    "collapsed": false,
    "ExecuteTime": {
     "end_time": "2024-05-23T18:46:41.104207800Z",
     "start_time": "2024-05-23T18:46:41.073640500Z"
    }
   },
   "id": "4334f76629da5168"
  },
  {
   "cell_type": "code",
   "execution_count": 311,
   "outputs": [],
   "source": [
    "from sklearn.linear_model import LinearRegression\n",
    "from sklearn.ensemble import RandomForestRegressor"
   ],
   "metadata": {
    "collapsed": false,
    "ExecuteTime": {
     "end_time": "2024-05-23T18:46:41.789142100Z",
     "start_time": "2024-05-23T18:46:41.773035900Z"
    }
   },
   "id": "a6b22a135ccf5a76"
  },
  {
   "cell_type": "code",
   "execution_count": 312,
   "outputs": [],
   "source": [
    "from sklearn.preprocessing import OneHotEncoder\n",
    "from sklearn.compose import make_column_transformer\n",
    "from sklearn.pipeline import make_pipeline\n",
    "from sklearn.metrics import r2_score"
   ],
   "metadata": {
    "collapsed": false,
    "ExecuteTime": {
     "end_time": "2024-05-23T18:46:42.612789700Z",
     "start_time": "2024-05-23T18:46:42.600184Z"
    }
   },
   "id": "9be2638cdb1646ff"
  },
  {
   "cell_type": "code",
   "execution_count": 313,
   "outputs": [
    {
     "data": {
      "text/plain": "OneHotEncoder()",
      "text/html": "<style>#sk-container-id-18 {color: black;}#sk-container-id-18 pre{padding: 0;}#sk-container-id-18 div.sk-toggleable {background-color: white;}#sk-container-id-18 label.sk-toggleable__label {cursor: pointer;display: block;width: 100%;margin-bottom: 0;padding: 0.3em;box-sizing: border-box;text-align: center;}#sk-container-id-18 label.sk-toggleable__label-arrow:before {content: \"▸\";float: left;margin-right: 0.25em;color: #696969;}#sk-container-id-18 label.sk-toggleable__label-arrow:hover:before {color: black;}#sk-container-id-18 div.sk-estimator:hover label.sk-toggleable__label-arrow:before {color: black;}#sk-container-id-18 div.sk-toggleable__content {max-height: 0;max-width: 0;overflow: hidden;text-align: left;background-color: #f0f8ff;}#sk-container-id-18 div.sk-toggleable__content pre {margin: 0.2em;color: black;border-radius: 0.25em;background-color: #f0f8ff;}#sk-container-id-18 input.sk-toggleable__control:checked~div.sk-toggleable__content {max-height: 200px;max-width: 100%;overflow: auto;}#sk-container-id-18 input.sk-toggleable__control:checked~label.sk-toggleable__label-arrow:before {content: \"▾\";}#sk-container-id-18 div.sk-estimator input.sk-toggleable__control:checked~label.sk-toggleable__label {background-color: #d4ebff;}#sk-container-id-18 div.sk-label input.sk-toggleable__control:checked~label.sk-toggleable__label {background-color: #d4ebff;}#sk-container-id-18 input.sk-hidden--visually {border: 0;clip: rect(1px 1px 1px 1px);clip: rect(1px, 1px, 1px, 1px);height: 1px;margin: -1px;overflow: hidden;padding: 0;position: absolute;width: 1px;}#sk-container-id-18 div.sk-estimator {font-family: monospace;background-color: #f0f8ff;border: 1px dotted black;border-radius: 0.25em;box-sizing: border-box;margin-bottom: 0.5em;}#sk-container-id-18 div.sk-estimator:hover {background-color: #d4ebff;}#sk-container-id-18 div.sk-parallel-item::after {content: \"\";width: 100%;border-bottom: 1px solid gray;flex-grow: 1;}#sk-container-id-18 div.sk-label:hover label.sk-toggleable__label {background-color: #d4ebff;}#sk-container-id-18 div.sk-serial::before {content: \"\";position: absolute;border-left: 1px solid gray;box-sizing: border-box;top: 0;bottom: 0;left: 50%;z-index: 0;}#sk-container-id-18 div.sk-serial {display: flex;flex-direction: column;align-items: center;background-color: white;padding-right: 0.2em;padding-left: 0.2em;position: relative;}#sk-container-id-18 div.sk-item {position: relative;z-index: 1;}#sk-container-id-18 div.sk-parallel {display: flex;align-items: stretch;justify-content: center;background-color: white;position: relative;}#sk-container-id-18 div.sk-item::before, #sk-container-id-18 div.sk-parallel-item::before {content: \"\";position: absolute;border-left: 1px solid gray;box-sizing: border-box;top: 0;bottom: 0;left: 50%;z-index: -1;}#sk-container-id-18 div.sk-parallel-item {display: flex;flex-direction: column;z-index: 1;position: relative;background-color: white;}#sk-container-id-18 div.sk-parallel-item:first-child::after {align-self: flex-end;width: 50%;}#sk-container-id-18 div.sk-parallel-item:last-child::after {align-self: flex-start;width: 50%;}#sk-container-id-18 div.sk-parallel-item:only-child::after {width: 0;}#sk-container-id-18 div.sk-dashed-wrapped {border: 1px dashed gray;margin: 0 0.4em 0.5em 0.4em;box-sizing: border-box;padding-bottom: 0.4em;background-color: white;}#sk-container-id-18 div.sk-label label {font-family: monospace;font-weight: bold;display: inline-block;line-height: 1.2em;}#sk-container-id-18 div.sk-label-container {text-align: center;}#sk-container-id-18 div.sk-container {/* jupyter's `normalize.less` sets `[hidden] { display: none; }` but bootstrap.min.css set `[hidden] { display: none !important; }` so we also need the `!important` here to be able to override the default hidden behavior on the sphinx rendered scikit-learn.org. See: https://github.com/scikit-learn/scikit-learn/issues/21755 */display: inline-block !important;position: relative;}#sk-container-id-18 div.sk-text-repr-fallback {display: none;}</style><div id=\"sk-container-id-18\" class=\"sk-top-container\"><div class=\"sk-text-repr-fallback\"><pre>OneHotEncoder()</pre><b>In a Jupyter environment, please rerun this cell to show the HTML representation or trust the notebook. <br />On GitHub, the HTML representation is unable to render, please try loading this page with nbviewer.org.</b></div><div class=\"sk-container\" hidden><div class=\"sk-item\"><div class=\"sk-estimator sk-toggleable\"><input class=\"sk-toggleable__control sk-hidden--visually\" id=\"sk-estimator-id-96\" type=\"checkbox\" checked><label for=\"sk-estimator-id-96\" class=\"sk-toggleable__label sk-toggleable__label-arrow\">OneHotEncoder</label><div class=\"sk-toggleable__content\"><pre>OneHotEncoder()</pre></div></div></div></div></div>"
     },
     "execution_count": 313,
     "metadata": {},
     "output_type": "execute_result"
    }
   ],
   "source": [
    "ohe=OneHotEncoder()\n",
    "ohe.fit(X[['name','company','fuel_type']])"
   ],
   "metadata": {
    "collapsed": false,
    "ExecuteTime": {
     "end_time": "2024-05-23T18:46:43.303081600Z",
     "start_time": "2024-05-23T18:46:43.271224200Z"
    }
   },
   "id": "fb891f939194ee8a"
  },
  {
   "cell_type": "code",
   "execution_count": 314,
   "outputs": [],
   "source": [
    "column_trans=make_column_transformer((OneHotEncoder(categories=ohe.categories_),['name','company','fuel_type']),\n",
    "                                    remainder='passthrough')"
   ],
   "metadata": {
    "collapsed": false,
    "ExecuteTime": {
     "end_time": "2024-05-23T18:46:44.009878800Z",
     "start_time": "2024-05-23T18:46:43.992144500Z"
    }
   },
   "id": "5ae6309b4bbcf4ee"
  },
  {
   "cell_type": "code",
   "execution_count": 315,
   "outputs": [],
   "source": [
    "lr=LinearRegression()"
   ],
   "metadata": {
    "collapsed": false,
    "ExecuteTime": {
     "end_time": "2024-05-23T18:46:44.631278800Z",
     "start_time": "2024-05-23T18:46:44.622741700Z"
    }
   },
   "id": "dad21e737bce5a83"
  },
  {
   "cell_type": "code",
   "execution_count": 316,
   "outputs": [],
   "source": [
    "pipe=make_pipeline(column_trans,lr)"
   ],
   "metadata": {
    "collapsed": false,
    "ExecuteTime": {
     "end_time": "2024-05-23T18:46:45.422379300Z",
     "start_time": "2024-05-23T18:46:45.416372600Z"
    }
   },
   "id": "f544855a2b7b15d9"
  },
  {
   "cell_type": "code",
   "execution_count": 317,
   "outputs": [
    {
     "data": {
      "text/plain": "Pipeline(steps=[('columntransformer',\n                 ColumnTransformer(remainder='passthrough',\n                                   transformers=[('onehotencoder',\n                                                  OneHotEncoder(categories=[array(['BMW 116i', 'BMW 118d', 'BMW 118d Hatchback', 'BMW 118i',\n       'BMW 125d', 'BMW 125d Hatchback', 'BMW 125i',\n       'BMW 125i Convertible', 'BMW 218i Gran', 'BMW 220d',\n       'BMW 220d Gran', 'BMW 220i', 'BMW 220i Convertible',\n       'BMW 225xe Active', 'BMW 318d', 'B...\n       'Toyota Supra A91', 'Toyota Supra GR', 'Toyota Yaris Hatchback',\n       'Toyota Yaris LE', 'Toyota Yaris Sedan'], dtype=object),\n                                                                            array(['BMW', 'Honda', 'Hyundai', 'Kia', 'Lexus', 'Mercedes-Benz',\n       'Toyota'], dtype=object),\n                                                                            array([' Diesel', ' Petrol', 'Diesel', 'Electric', 'Hybrid', 'Hydrogen',\n       'LPG', 'Petrol', 'Plug-in Hybrid'], dtype=object)]),\n                                                  ['name', 'company',\n                                                   'fuel_type'])])),\n                ('linearregression', LinearRegression())])",
      "text/html": "<style>#sk-container-id-19 {color: black;}#sk-container-id-19 pre{padding: 0;}#sk-container-id-19 div.sk-toggleable {background-color: white;}#sk-container-id-19 label.sk-toggleable__label {cursor: pointer;display: block;width: 100%;margin-bottom: 0;padding: 0.3em;box-sizing: border-box;text-align: center;}#sk-container-id-19 label.sk-toggleable__label-arrow:before {content: \"▸\";float: left;margin-right: 0.25em;color: #696969;}#sk-container-id-19 label.sk-toggleable__label-arrow:hover:before {color: black;}#sk-container-id-19 div.sk-estimator:hover label.sk-toggleable__label-arrow:before {color: black;}#sk-container-id-19 div.sk-toggleable__content {max-height: 0;max-width: 0;overflow: hidden;text-align: left;background-color: #f0f8ff;}#sk-container-id-19 div.sk-toggleable__content pre {margin: 0.2em;color: black;border-radius: 0.25em;background-color: #f0f8ff;}#sk-container-id-19 input.sk-toggleable__control:checked~div.sk-toggleable__content {max-height: 200px;max-width: 100%;overflow: auto;}#sk-container-id-19 input.sk-toggleable__control:checked~label.sk-toggleable__label-arrow:before {content: \"▾\";}#sk-container-id-19 div.sk-estimator input.sk-toggleable__control:checked~label.sk-toggleable__label {background-color: #d4ebff;}#sk-container-id-19 div.sk-label input.sk-toggleable__control:checked~label.sk-toggleable__label {background-color: #d4ebff;}#sk-container-id-19 input.sk-hidden--visually {border: 0;clip: rect(1px 1px 1px 1px);clip: rect(1px, 1px, 1px, 1px);height: 1px;margin: -1px;overflow: hidden;padding: 0;position: absolute;width: 1px;}#sk-container-id-19 div.sk-estimator {font-family: monospace;background-color: #f0f8ff;border: 1px dotted black;border-radius: 0.25em;box-sizing: border-box;margin-bottom: 0.5em;}#sk-container-id-19 div.sk-estimator:hover {background-color: #d4ebff;}#sk-container-id-19 div.sk-parallel-item::after {content: \"\";width: 100%;border-bottom: 1px solid gray;flex-grow: 1;}#sk-container-id-19 div.sk-label:hover label.sk-toggleable__label {background-color: #d4ebff;}#sk-container-id-19 div.sk-serial::before {content: \"\";position: absolute;border-left: 1px solid gray;box-sizing: border-box;top: 0;bottom: 0;left: 50%;z-index: 0;}#sk-container-id-19 div.sk-serial {display: flex;flex-direction: column;align-items: center;background-color: white;padding-right: 0.2em;padding-left: 0.2em;position: relative;}#sk-container-id-19 div.sk-item {position: relative;z-index: 1;}#sk-container-id-19 div.sk-parallel {display: flex;align-items: stretch;justify-content: center;background-color: white;position: relative;}#sk-container-id-19 div.sk-item::before, #sk-container-id-19 div.sk-parallel-item::before {content: \"\";position: absolute;border-left: 1px solid gray;box-sizing: border-box;top: 0;bottom: 0;left: 50%;z-index: -1;}#sk-container-id-19 div.sk-parallel-item {display: flex;flex-direction: column;z-index: 1;position: relative;background-color: white;}#sk-container-id-19 div.sk-parallel-item:first-child::after {align-self: flex-end;width: 50%;}#sk-container-id-19 div.sk-parallel-item:last-child::after {align-self: flex-start;width: 50%;}#sk-container-id-19 div.sk-parallel-item:only-child::after {width: 0;}#sk-container-id-19 div.sk-dashed-wrapped {border: 1px dashed gray;margin: 0 0.4em 0.5em 0.4em;box-sizing: border-box;padding-bottom: 0.4em;background-color: white;}#sk-container-id-19 div.sk-label label {font-family: monospace;font-weight: bold;display: inline-block;line-height: 1.2em;}#sk-container-id-19 div.sk-label-container {text-align: center;}#sk-container-id-19 div.sk-container {/* jupyter's `normalize.less` sets `[hidden] { display: none; }` but bootstrap.min.css set `[hidden] { display: none !important; }` so we also need the `!important` here to be able to override the default hidden behavior on the sphinx rendered scikit-learn.org. See: https://github.com/scikit-learn/scikit-learn/issues/21755 */display: inline-block !important;position: relative;}#sk-container-id-19 div.sk-text-repr-fallback {display: none;}</style><div id=\"sk-container-id-19\" class=\"sk-top-container\"><div class=\"sk-text-repr-fallback\"><pre>Pipeline(steps=[(&#x27;columntransformer&#x27;,\n                 ColumnTransformer(remainder=&#x27;passthrough&#x27;,\n                                   transformers=[(&#x27;onehotencoder&#x27;,\n                                                  OneHotEncoder(categories=[array([&#x27;BMW 116i&#x27;, &#x27;BMW 118d&#x27;, &#x27;BMW 118d Hatchback&#x27;, &#x27;BMW 118i&#x27;,\n       &#x27;BMW 125d&#x27;, &#x27;BMW 125d Hatchback&#x27;, &#x27;BMW 125i&#x27;,\n       &#x27;BMW 125i Convertible&#x27;, &#x27;BMW 218i Gran&#x27;, &#x27;BMW 220d&#x27;,\n       &#x27;BMW 220d Gran&#x27;, &#x27;BMW 220i&#x27;, &#x27;BMW 220i Convertible&#x27;,\n       &#x27;BMW 225xe Active&#x27;, &#x27;BMW 318d&#x27;, &#x27;B...\n       &#x27;Toyota Supra A91&#x27;, &#x27;Toyota Supra GR&#x27;, &#x27;Toyota Yaris Hatchback&#x27;,\n       &#x27;Toyota Yaris LE&#x27;, &#x27;Toyota Yaris Sedan&#x27;], dtype=object),\n                                                                            array([&#x27;BMW&#x27;, &#x27;Honda&#x27;, &#x27;Hyundai&#x27;, &#x27;Kia&#x27;, &#x27;Lexus&#x27;, &#x27;Mercedes-Benz&#x27;,\n       &#x27;Toyota&#x27;], dtype=object),\n                                                                            array([&#x27; Diesel&#x27;, &#x27; Petrol&#x27;, &#x27;Diesel&#x27;, &#x27;Electric&#x27;, &#x27;Hybrid&#x27;, &#x27;Hydrogen&#x27;,\n       &#x27;LPG&#x27;, &#x27;Petrol&#x27;, &#x27;Plug-in Hybrid&#x27;], dtype=object)]),\n                                                  [&#x27;name&#x27;, &#x27;company&#x27;,\n                                                   &#x27;fuel_type&#x27;])])),\n                (&#x27;linearregression&#x27;, LinearRegression())])</pre><b>In a Jupyter environment, please rerun this cell to show the HTML representation or trust the notebook. <br />On GitHub, the HTML representation is unable to render, please try loading this page with nbviewer.org.</b></div><div class=\"sk-container\" hidden><div class=\"sk-item sk-dashed-wrapped\"><div class=\"sk-label-container\"><div class=\"sk-label sk-toggleable\"><input class=\"sk-toggleable__control sk-hidden--visually\" id=\"sk-estimator-id-97\" type=\"checkbox\" ><label for=\"sk-estimator-id-97\" class=\"sk-toggleable__label sk-toggleable__label-arrow\">Pipeline</label><div class=\"sk-toggleable__content\"><pre>Pipeline(steps=[(&#x27;columntransformer&#x27;,\n                 ColumnTransformer(remainder=&#x27;passthrough&#x27;,\n                                   transformers=[(&#x27;onehotencoder&#x27;,\n                                                  OneHotEncoder(categories=[array([&#x27;BMW 116i&#x27;, &#x27;BMW 118d&#x27;, &#x27;BMW 118d Hatchback&#x27;, &#x27;BMW 118i&#x27;,\n       &#x27;BMW 125d&#x27;, &#x27;BMW 125d Hatchback&#x27;, &#x27;BMW 125i&#x27;,\n       &#x27;BMW 125i Convertible&#x27;, &#x27;BMW 218i Gran&#x27;, &#x27;BMW 220d&#x27;,\n       &#x27;BMW 220d Gran&#x27;, &#x27;BMW 220i&#x27;, &#x27;BMW 220i Convertible&#x27;,\n       &#x27;BMW 225xe Active&#x27;, &#x27;BMW 318d&#x27;, &#x27;B...\n       &#x27;Toyota Supra A91&#x27;, &#x27;Toyota Supra GR&#x27;, &#x27;Toyota Yaris Hatchback&#x27;,\n       &#x27;Toyota Yaris LE&#x27;, &#x27;Toyota Yaris Sedan&#x27;], dtype=object),\n                                                                            array([&#x27;BMW&#x27;, &#x27;Honda&#x27;, &#x27;Hyundai&#x27;, &#x27;Kia&#x27;, &#x27;Lexus&#x27;, &#x27;Mercedes-Benz&#x27;,\n       &#x27;Toyota&#x27;], dtype=object),\n                                                                            array([&#x27; Diesel&#x27;, &#x27; Petrol&#x27;, &#x27;Diesel&#x27;, &#x27;Electric&#x27;, &#x27;Hybrid&#x27;, &#x27;Hydrogen&#x27;,\n       &#x27;LPG&#x27;, &#x27;Petrol&#x27;, &#x27;Plug-in Hybrid&#x27;], dtype=object)]),\n                                                  [&#x27;name&#x27;, &#x27;company&#x27;,\n                                                   &#x27;fuel_type&#x27;])])),\n                (&#x27;linearregression&#x27;, LinearRegression())])</pre></div></div></div><div class=\"sk-serial\"><div class=\"sk-item sk-dashed-wrapped\"><div class=\"sk-label-container\"><div class=\"sk-label sk-toggleable\"><input class=\"sk-toggleable__control sk-hidden--visually\" id=\"sk-estimator-id-98\" type=\"checkbox\" ><label for=\"sk-estimator-id-98\" class=\"sk-toggleable__label sk-toggleable__label-arrow\">columntransformer: ColumnTransformer</label><div class=\"sk-toggleable__content\"><pre>ColumnTransformer(remainder=&#x27;passthrough&#x27;,\n                  transformers=[(&#x27;onehotencoder&#x27;,\n                                 OneHotEncoder(categories=[array([&#x27;BMW 116i&#x27;, &#x27;BMW 118d&#x27;, &#x27;BMW 118d Hatchback&#x27;, &#x27;BMW 118i&#x27;,\n       &#x27;BMW 125d&#x27;, &#x27;BMW 125d Hatchback&#x27;, &#x27;BMW 125i&#x27;,\n       &#x27;BMW 125i Convertible&#x27;, &#x27;BMW 218i Gran&#x27;, &#x27;BMW 220d&#x27;,\n       &#x27;BMW 220d Gran&#x27;, &#x27;BMW 220i&#x27;, &#x27;BMW 220i Convertible&#x27;,\n       &#x27;BMW 225xe Active&#x27;, &#x27;BMW 318d&#x27;, &#x27;BMW 318d Touring&#x27;,\n       &#x27;BMW 318i Touring&#x27;, &#x27;BMW 3...\n       &#x27;Toyota Sequoia I&#x27;, &#x27;Toyota Supra 2.0&#x27;, &#x27;Toyota Supra 3.0&#x27;,\n       &#x27;Toyota Supra A91&#x27;, &#x27;Toyota Supra GR&#x27;, &#x27;Toyota Yaris Hatchback&#x27;,\n       &#x27;Toyota Yaris LE&#x27;, &#x27;Toyota Yaris Sedan&#x27;], dtype=object),\n                                                           array([&#x27;BMW&#x27;, &#x27;Honda&#x27;, &#x27;Hyundai&#x27;, &#x27;Kia&#x27;, &#x27;Lexus&#x27;, &#x27;Mercedes-Benz&#x27;,\n       &#x27;Toyota&#x27;], dtype=object),\n                                                           array([&#x27; Diesel&#x27;, &#x27; Petrol&#x27;, &#x27;Diesel&#x27;, &#x27;Electric&#x27;, &#x27;Hybrid&#x27;, &#x27;Hydrogen&#x27;,\n       &#x27;LPG&#x27;, &#x27;Petrol&#x27;, &#x27;Plug-in Hybrid&#x27;], dtype=object)]),\n                                 [&#x27;name&#x27;, &#x27;company&#x27;, &#x27;fuel_type&#x27;])])</pre></div></div></div><div class=\"sk-parallel\"><div class=\"sk-parallel-item\"><div class=\"sk-item\"><div class=\"sk-label-container\"><div class=\"sk-label sk-toggleable\"><input class=\"sk-toggleable__control sk-hidden--visually\" id=\"sk-estimator-id-99\" type=\"checkbox\" ><label for=\"sk-estimator-id-99\" class=\"sk-toggleable__label sk-toggleable__label-arrow\">onehotencoder</label><div class=\"sk-toggleable__content\"><pre>[&#x27;name&#x27;, &#x27;company&#x27;, &#x27;fuel_type&#x27;]</pre></div></div></div><div class=\"sk-serial\"><div class=\"sk-item\"><div class=\"sk-estimator sk-toggleable\"><input class=\"sk-toggleable__control sk-hidden--visually\" id=\"sk-estimator-id-100\" type=\"checkbox\" ><label for=\"sk-estimator-id-100\" class=\"sk-toggleable__label sk-toggleable__label-arrow\">OneHotEncoder</label><div class=\"sk-toggleable__content\"><pre>OneHotEncoder(categories=[array([&#x27;BMW 116i&#x27;, &#x27;BMW 118d&#x27;, &#x27;BMW 118d Hatchback&#x27;, &#x27;BMW 118i&#x27;,\n       &#x27;BMW 125d&#x27;, &#x27;BMW 125d Hatchback&#x27;, &#x27;BMW 125i&#x27;,\n       &#x27;BMW 125i Convertible&#x27;, &#x27;BMW 218i Gran&#x27;, &#x27;BMW 220d&#x27;,\n       &#x27;BMW 220d Gran&#x27;, &#x27;BMW 220i&#x27;, &#x27;BMW 220i Convertible&#x27;,\n       &#x27;BMW 225xe Active&#x27;, &#x27;BMW 318d&#x27;, &#x27;BMW 318d Touring&#x27;,\n       &#x27;BMW 318i Touring&#x27;, &#x27;BMW 320d Gran&#x27;, &#x27;BMW 320d xDrive&#x27;, &#x27;BMW 320i&#x27;,\n       &#x27;BMW 320i Touring&#x27;, &#x27;BMW 330d Touring&#x27;, &#x27;BMW...\n       &#x27;Toyota Sequoia I&#x27;, &#x27;Toyota Supra 2.0&#x27;, &#x27;Toyota Supra 3.0&#x27;,\n       &#x27;Toyota Supra A91&#x27;, &#x27;Toyota Supra GR&#x27;, &#x27;Toyota Yaris Hatchback&#x27;,\n       &#x27;Toyota Yaris LE&#x27;, &#x27;Toyota Yaris Sedan&#x27;], dtype=object),\n                          array([&#x27;BMW&#x27;, &#x27;Honda&#x27;, &#x27;Hyundai&#x27;, &#x27;Kia&#x27;, &#x27;Lexus&#x27;, &#x27;Mercedes-Benz&#x27;,\n       &#x27;Toyota&#x27;], dtype=object),\n                          array([&#x27; Diesel&#x27;, &#x27; Petrol&#x27;, &#x27;Diesel&#x27;, &#x27;Electric&#x27;, &#x27;Hybrid&#x27;, &#x27;Hydrogen&#x27;,\n       &#x27;LPG&#x27;, &#x27;Petrol&#x27;, &#x27;Plug-in Hybrid&#x27;], dtype=object)])</pre></div></div></div></div></div></div><div class=\"sk-parallel-item\"><div class=\"sk-item\"><div class=\"sk-label-container\"><div class=\"sk-label sk-toggleable\"><input class=\"sk-toggleable__control sk-hidden--visually\" id=\"sk-estimator-id-101\" type=\"checkbox\" ><label for=\"sk-estimator-id-101\" class=\"sk-toggleable__label sk-toggleable__label-arrow\">remainder</label><div class=\"sk-toggleable__content\"><pre>[&#x27;year&#x27;, &#x27;kms_driven&#x27;]</pre></div></div></div><div class=\"sk-serial\"><div class=\"sk-item\"><div class=\"sk-estimator sk-toggleable\"><input class=\"sk-toggleable__control sk-hidden--visually\" id=\"sk-estimator-id-102\" type=\"checkbox\" ><label for=\"sk-estimator-id-102\" class=\"sk-toggleable__label sk-toggleable__label-arrow\">passthrough</label><div class=\"sk-toggleable__content\"><pre>passthrough</pre></div></div></div></div></div></div></div></div><div class=\"sk-item\"><div class=\"sk-estimator sk-toggleable\"><input class=\"sk-toggleable__control sk-hidden--visually\" id=\"sk-estimator-id-103\" type=\"checkbox\" ><label for=\"sk-estimator-id-103\" class=\"sk-toggleable__label sk-toggleable__label-arrow\">LinearRegression</label><div class=\"sk-toggleable__content\"><pre>LinearRegression()</pre></div></div></div></div></div></div></div>"
     },
     "execution_count": 317,
     "metadata": {},
     "output_type": "execute_result"
    }
   ],
   "source": [
    "pipe.fit(X_train,y_train)"
   ],
   "metadata": {
    "collapsed": false,
    "ExecuteTime": {
     "end_time": "2024-05-23T18:46:46.257313400Z",
     "start_time": "2024-05-23T18:46:46.052353200Z"
    }
   },
   "id": "3514a35857ca3ae7"
  },
  {
   "cell_type": "code",
   "execution_count": 318,
   "outputs": [],
   "source": [
    "y_pred=pipe.predict(X_test)"
   ],
   "metadata": {
    "collapsed": false,
    "ExecuteTime": {
     "end_time": "2024-05-23T18:46:48.124832600Z",
     "start_time": "2024-05-23T18:46:48.106044900Z"
    }
   },
   "id": "4abe38704cc9d650"
  },
  {
   "cell_type": "code",
   "execution_count": 319,
   "outputs": [
    {
     "data": {
      "text/plain": "0.47114614982532643"
     },
     "execution_count": 319,
     "metadata": {},
     "output_type": "execute_result"
    }
   ],
   "source": [
    "r2_score(y_test,y_pred)"
   ],
   "metadata": {
    "collapsed": false,
    "ExecuteTime": {
     "end_time": "2024-05-23T18:46:49.073700400Z",
     "start_time": "2024-05-23T18:46:49.050153400Z"
    }
   },
   "id": "89f20eeadda5370a"
  },
  {
   "cell_type": "code",
   "execution_count": 320,
   "outputs": [],
   "source": [
    "scores=[]\n",
    "for i in range(1000):\n",
    "    X_train,X_test,y_train,y_test=train_test_split(X,y,test_size=0.1,random_state=i)\n",
    "    lr=LinearRegression()\n",
    "    pipe=make_pipeline(column_trans,lr)\n",
    "    pipe.fit(X_train,y_train)\n",
    "    y_pred=pipe.predict(X_test)\n",
    "    scores.append(r2_score(y_test,y_pred))"
   ],
   "metadata": {
    "collapsed": false,
    "ExecuteTime": {
     "end_time": "2024-05-23T18:47:02.088353600Z",
     "start_time": "2024-05-23T18:46:50.003004200Z"
    }
   },
   "id": "4f99868892c30304"
  },
  {
   "cell_type": "code",
   "execution_count": 321,
   "outputs": [
    {
     "data": {
      "text/plain": "101"
     },
     "execution_count": 321,
     "metadata": {},
     "output_type": "execute_result"
    }
   ],
   "source": [
    "np.argmax(scores)"
   ],
   "metadata": {
    "collapsed": false,
    "ExecuteTime": {
     "end_time": "2024-05-23T18:47:03.188112100Z",
     "start_time": "2024-05-23T18:47:03.165349200Z"
    }
   },
   "id": "9a7a2e6bfc73099b"
  },
  {
   "cell_type": "code",
   "execution_count": 322,
   "outputs": [
    {
     "data": {
      "text/plain": "0.6785531556109883"
     },
     "execution_count": 322,
     "metadata": {},
     "output_type": "execute_result"
    }
   ],
   "source": [
    "scores[np.argmax(scores)]"
   ],
   "metadata": {
    "collapsed": false,
    "ExecuteTime": {
     "end_time": "2024-05-23T18:47:03.977664400Z",
     "start_time": "2024-05-23T18:47:03.932375400Z"
    }
   },
   "id": "956ab45b7677738"
  },
  {
   "cell_type": "code",
   "execution_count": 323,
   "outputs": [
    {
     "data": {
      "text/plain": "array([47063.47750964])"
     },
     "execution_count": 323,
     "metadata": {},
     "output_type": "execute_result"
    }
   ],
   "source": [
    "pipe.predict(pd.DataFrame(columns=X_test.columns,data=np.array(['Toyota Camry 75','Toyota',2023,30500,'Petrol']).reshape(1,5)))"
   ],
   "metadata": {
    "collapsed": false,
    "ExecuteTime": {
     "end_time": "2024-05-23T18:47:04.834617400Z",
     "start_time": "2024-05-23T18:47:04.801454900Z"
    }
   },
   "id": "662d8c2d854b9569"
  },
  {
   "cell_type": "code",
   "execution_count": 324,
   "outputs": [
    {
     "data": {
      "text/plain": "0.5557616182341734"
     },
     "execution_count": 324,
     "metadata": {},
     "output_type": "execute_result"
    }
   ],
   "source": [
    "X_train,X_test,y_train,y_test=train_test_split(X,y,test_size=0.2,random_state=np.argmax(scores))\n",
    "lr=LinearRegression()\n",
    "pipe=make_pipeline(column_trans,lr)\n",
    "pipe.fit(X_train,y_train)\n",
    "y_pred=pipe.predict(X_test)\n",
    "r2_score(y_test,y_pred)"
   ],
   "metadata": {
    "collapsed": false,
    "ExecuteTime": {
     "end_time": "2024-05-23T18:47:05.767144100Z",
     "start_time": "2024-05-23T18:47:05.724538100Z"
    }
   },
   "id": "5dd9fb96a59a9bab"
  },
  {
   "cell_type": "markdown",
   "source": [
    "## RandomForest"
   ],
   "metadata": {
    "collapsed": false
   },
   "id": "7b67d98c40b395e2"
  },
  {
   "cell_type": "code",
   "execution_count": 325,
   "outputs": [],
   "source": [
    "from sklearn.ensemble import RandomForestRegressor\n",
    "from sklearn.tree import DecisionTreeRegressor\n",
    "from sklearn.ensemble import GradientBoostingRegressor\n",
    "from sklearn.pipeline import make_pipeline\n",
    "from sklearn.model_selection import train_test_split\n",
    "from sklearn.metrics import r2_score\n",
    "import numpy as np\n"
   ],
   "metadata": {
    "collapsed": false,
    "ExecuteTime": {
     "end_time": "2024-05-23T18:47:07.523967500Z",
     "start_time": "2024-05-23T18:47:07.453208Z"
    }
   },
   "id": "a9403f216584c9ab"
  },
  {
   "cell_type": "code",
   "execution_count": 326,
   "outputs": [],
   "source": [
    "X_train, X_test, y_train, y_test = train_test_split(X, y, test_size=0.2, random_state=np.argmax(scores))\n"
   ],
   "metadata": {
    "collapsed": false,
    "ExecuteTime": {
     "end_time": "2024-05-23T18:47:08.348630700Z",
     "start_time": "2024-05-23T18:47:08.322700100Z"
    }
   },
   "id": "8601d1e5cfca0c9a"
  },
  {
   "cell_type": "code",
   "execution_count": 327,
   "outputs": [],
   "source": [
    "rf = RandomForestRegressor()\n"
   ],
   "metadata": {
    "collapsed": false,
    "ExecuteTime": {
     "end_time": "2024-05-23T18:47:09.099160200Z",
     "start_time": "2024-05-23T18:47:09.074068Z"
    }
   },
   "id": "37450b1a45bf20ea"
  },
  {
   "cell_type": "code",
   "execution_count": 328,
   "outputs": [],
   "source": [
    "pipe = make_pipeline(column_trans, rf)\n"
   ],
   "metadata": {
    "collapsed": false,
    "ExecuteTime": {
     "end_time": "2024-05-23T18:47:09.706345500Z",
     "start_time": "2024-05-23T18:47:09.695806400Z"
    }
   },
   "id": "ee40e82f1d6a40f9"
  },
  {
   "cell_type": "code",
   "execution_count": 329,
   "outputs": [
    {
     "data": {
      "text/plain": "Pipeline(steps=[('columntransformer',\n                 ColumnTransformer(remainder='passthrough',\n                                   transformers=[('onehotencoder',\n                                                  OneHotEncoder(categories=[array(['BMW 116i', 'BMW 118d', 'BMW 118d Hatchback', 'BMW 118i',\n       'BMW 125d', 'BMW 125d Hatchback', 'BMW 125i',\n       'BMW 125i Convertible', 'BMW 218i Gran', 'BMW 220d',\n       'BMW 220d Gran', 'BMW 220i', 'BMW 220i Convertible',\n       'BMW 225xe Active', 'BMW 318d', 'B...\n       'Toyota Supra A91', 'Toyota Supra GR', 'Toyota Yaris Hatchback',\n       'Toyota Yaris LE', 'Toyota Yaris Sedan'], dtype=object),\n                                                                            array(['BMW', 'Honda', 'Hyundai', 'Kia', 'Lexus', 'Mercedes-Benz',\n       'Toyota'], dtype=object),\n                                                                            array([' Diesel', ' Petrol', 'Diesel', 'Electric', 'Hybrid', 'Hydrogen',\n       'LPG', 'Petrol', 'Plug-in Hybrid'], dtype=object)]),\n                                                  ['name', 'company',\n                                                   'fuel_type'])])),\n                ('randomforestregressor', RandomForestRegressor())])",
      "text/html": "<style>#sk-container-id-20 {color: black;}#sk-container-id-20 pre{padding: 0;}#sk-container-id-20 div.sk-toggleable {background-color: white;}#sk-container-id-20 label.sk-toggleable__label {cursor: pointer;display: block;width: 100%;margin-bottom: 0;padding: 0.3em;box-sizing: border-box;text-align: center;}#sk-container-id-20 label.sk-toggleable__label-arrow:before {content: \"▸\";float: left;margin-right: 0.25em;color: #696969;}#sk-container-id-20 label.sk-toggleable__label-arrow:hover:before {color: black;}#sk-container-id-20 div.sk-estimator:hover label.sk-toggleable__label-arrow:before {color: black;}#sk-container-id-20 div.sk-toggleable__content {max-height: 0;max-width: 0;overflow: hidden;text-align: left;background-color: #f0f8ff;}#sk-container-id-20 div.sk-toggleable__content pre {margin: 0.2em;color: black;border-radius: 0.25em;background-color: #f0f8ff;}#sk-container-id-20 input.sk-toggleable__control:checked~div.sk-toggleable__content {max-height: 200px;max-width: 100%;overflow: auto;}#sk-container-id-20 input.sk-toggleable__control:checked~label.sk-toggleable__label-arrow:before {content: \"▾\";}#sk-container-id-20 div.sk-estimator input.sk-toggleable__control:checked~label.sk-toggleable__label {background-color: #d4ebff;}#sk-container-id-20 div.sk-label input.sk-toggleable__control:checked~label.sk-toggleable__label {background-color: #d4ebff;}#sk-container-id-20 input.sk-hidden--visually {border: 0;clip: rect(1px 1px 1px 1px);clip: rect(1px, 1px, 1px, 1px);height: 1px;margin: -1px;overflow: hidden;padding: 0;position: absolute;width: 1px;}#sk-container-id-20 div.sk-estimator {font-family: monospace;background-color: #f0f8ff;border: 1px dotted black;border-radius: 0.25em;box-sizing: border-box;margin-bottom: 0.5em;}#sk-container-id-20 div.sk-estimator:hover {background-color: #d4ebff;}#sk-container-id-20 div.sk-parallel-item::after {content: \"\";width: 100%;border-bottom: 1px solid gray;flex-grow: 1;}#sk-container-id-20 div.sk-label:hover label.sk-toggleable__label {background-color: #d4ebff;}#sk-container-id-20 div.sk-serial::before {content: \"\";position: absolute;border-left: 1px solid gray;box-sizing: border-box;top: 0;bottom: 0;left: 50%;z-index: 0;}#sk-container-id-20 div.sk-serial {display: flex;flex-direction: column;align-items: center;background-color: white;padding-right: 0.2em;padding-left: 0.2em;position: relative;}#sk-container-id-20 div.sk-item {position: relative;z-index: 1;}#sk-container-id-20 div.sk-parallel {display: flex;align-items: stretch;justify-content: center;background-color: white;position: relative;}#sk-container-id-20 div.sk-item::before, #sk-container-id-20 div.sk-parallel-item::before {content: \"\";position: absolute;border-left: 1px solid gray;box-sizing: border-box;top: 0;bottom: 0;left: 50%;z-index: -1;}#sk-container-id-20 div.sk-parallel-item {display: flex;flex-direction: column;z-index: 1;position: relative;background-color: white;}#sk-container-id-20 div.sk-parallel-item:first-child::after {align-self: flex-end;width: 50%;}#sk-container-id-20 div.sk-parallel-item:last-child::after {align-self: flex-start;width: 50%;}#sk-container-id-20 div.sk-parallel-item:only-child::after {width: 0;}#sk-container-id-20 div.sk-dashed-wrapped {border: 1px dashed gray;margin: 0 0.4em 0.5em 0.4em;box-sizing: border-box;padding-bottom: 0.4em;background-color: white;}#sk-container-id-20 div.sk-label label {font-family: monospace;font-weight: bold;display: inline-block;line-height: 1.2em;}#sk-container-id-20 div.sk-label-container {text-align: center;}#sk-container-id-20 div.sk-container {/* jupyter's `normalize.less` sets `[hidden] { display: none; }` but bootstrap.min.css set `[hidden] { display: none !important; }` so we also need the `!important` here to be able to override the default hidden behavior on the sphinx rendered scikit-learn.org. See: https://github.com/scikit-learn/scikit-learn/issues/21755 */display: inline-block !important;position: relative;}#sk-container-id-20 div.sk-text-repr-fallback {display: none;}</style><div id=\"sk-container-id-20\" class=\"sk-top-container\"><div class=\"sk-text-repr-fallback\"><pre>Pipeline(steps=[(&#x27;columntransformer&#x27;,\n                 ColumnTransformer(remainder=&#x27;passthrough&#x27;,\n                                   transformers=[(&#x27;onehotencoder&#x27;,\n                                                  OneHotEncoder(categories=[array([&#x27;BMW 116i&#x27;, &#x27;BMW 118d&#x27;, &#x27;BMW 118d Hatchback&#x27;, &#x27;BMW 118i&#x27;,\n       &#x27;BMW 125d&#x27;, &#x27;BMW 125d Hatchback&#x27;, &#x27;BMW 125i&#x27;,\n       &#x27;BMW 125i Convertible&#x27;, &#x27;BMW 218i Gran&#x27;, &#x27;BMW 220d&#x27;,\n       &#x27;BMW 220d Gran&#x27;, &#x27;BMW 220i&#x27;, &#x27;BMW 220i Convertible&#x27;,\n       &#x27;BMW 225xe Active&#x27;, &#x27;BMW 318d&#x27;, &#x27;B...\n       &#x27;Toyota Supra A91&#x27;, &#x27;Toyota Supra GR&#x27;, &#x27;Toyota Yaris Hatchback&#x27;,\n       &#x27;Toyota Yaris LE&#x27;, &#x27;Toyota Yaris Sedan&#x27;], dtype=object),\n                                                                            array([&#x27;BMW&#x27;, &#x27;Honda&#x27;, &#x27;Hyundai&#x27;, &#x27;Kia&#x27;, &#x27;Lexus&#x27;, &#x27;Mercedes-Benz&#x27;,\n       &#x27;Toyota&#x27;], dtype=object),\n                                                                            array([&#x27; Diesel&#x27;, &#x27; Petrol&#x27;, &#x27;Diesel&#x27;, &#x27;Electric&#x27;, &#x27;Hybrid&#x27;, &#x27;Hydrogen&#x27;,\n       &#x27;LPG&#x27;, &#x27;Petrol&#x27;, &#x27;Plug-in Hybrid&#x27;], dtype=object)]),\n                                                  [&#x27;name&#x27;, &#x27;company&#x27;,\n                                                   &#x27;fuel_type&#x27;])])),\n                (&#x27;randomforestregressor&#x27;, RandomForestRegressor())])</pre><b>In a Jupyter environment, please rerun this cell to show the HTML representation or trust the notebook. <br />On GitHub, the HTML representation is unable to render, please try loading this page with nbviewer.org.</b></div><div class=\"sk-container\" hidden><div class=\"sk-item sk-dashed-wrapped\"><div class=\"sk-label-container\"><div class=\"sk-label sk-toggleable\"><input class=\"sk-toggleable__control sk-hidden--visually\" id=\"sk-estimator-id-104\" type=\"checkbox\" ><label for=\"sk-estimator-id-104\" class=\"sk-toggleable__label sk-toggleable__label-arrow\">Pipeline</label><div class=\"sk-toggleable__content\"><pre>Pipeline(steps=[(&#x27;columntransformer&#x27;,\n                 ColumnTransformer(remainder=&#x27;passthrough&#x27;,\n                                   transformers=[(&#x27;onehotencoder&#x27;,\n                                                  OneHotEncoder(categories=[array([&#x27;BMW 116i&#x27;, &#x27;BMW 118d&#x27;, &#x27;BMW 118d Hatchback&#x27;, &#x27;BMW 118i&#x27;,\n       &#x27;BMW 125d&#x27;, &#x27;BMW 125d Hatchback&#x27;, &#x27;BMW 125i&#x27;,\n       &#x27;BMW 125i Convertible&#x27;, &#x27;BMW 218i Gran&#x27;, &#x27;BMW 220d&#x27;,\n       &#x27;BMW 220d Gran&#x27;, &#x27;BMW 220i&#x27;, &#x27;BMW 220i Convertible&#x27;,\n       &#x27;BMW 225xe Active&#x27;, &#x27;BMW 318d&#x27;, &#x27;B...\n       &#x27;Toyota Supra A91&#x27;, &#x27;Toyota Supra GR&#x27;, &#x27;Toyota Yaris Hatchback&#x27;,\n       &#x27;Toyota Yaris LE&#x27;, &#x27;Toyota Yaris Sedan&#x27;], dtype=object),\n                                                                            array([&#x27;BMW&#x27;, &#x27;Honda&#x27;, &#x27;Hyundai&#x27;, &#x27;Kia&#x27;, &#x27;Lexus&#x27;, &#x27;Mercedes-Benz&#x27;,\n       &#x27;Toyota&#x27;], dtype=object),\n                                                                            array([&#x27; Diesel&#x27;, &#x27; Petrol&#x27;, &#x27;Diesel&#x27;, &#x27;Electric&#x27;, &#x27;Hybrid&#x27;, &#x27;Hydrogen&#x27;,\n       &#x27;LPG&#x27;, &#x27;Petrol&#x27;, &#x27;Plug-in Hybrid&#x27;], dtype=object)]),\n                                                  [&#x27;name&#x27;, &#x27;company&#x27;,\n                                                   &#x27;fuel_type&#x27;])])),\n                (&#x27;randomforestregressor&#x27;, RandomForestRegressor())])</pre></div></div></div><div class=\"sk-serial\"><div class=\"sk-item sk-dashed-wrapped\"><div class=\"sk-label-container\"><div class=\"sk-label sk-toggleable\"><input class=\"sk-toggleable__control sk-hidden--visually\" id=\"sk-estimator-id-105\" type=\"checkbox\" ><label for=\"sk-estimator-id-105\" class=\"sk-toggleable__label sk-toggleable__label-arrow\">columntransformer: ColumnTransformer</label><div class=\"sk-toggleable__content\"><pre>ColumnTransformer(remainder=&#x27;passthrough&#x27;,\n                  transformers=[(&#x27;onehotencoder&#x27;,\n                                 OneHotEncoder(categories=[array([&#x27;BMW 116i&#x27;, &#x27;BMW 118d&#x27;, &#x27;BMW 118d Hatchback&#x27;, &#x27;BMW 118i&#x27;,\n       &#x27;BMW 125d&#x27;, &#x27;BMW 125d Hatchback&#x27;, &#x27;BMW 125i&#x27;,\n       &#x27;BMW 125i Convertible&#x27;, &#x27;BMW 218i Gran&#x27;, &#x27;BMW 220d&#x27;,\n       &#x27;BMW 220d Gran&#x27;, &#x27;BMW 220i&#x27;, &#x27;BMW 220i Convertible&#x27;,\n       &#x27;BMW 225xe Active&#x27;, &#x27;BMW 318d&#x27;, &#x27;BMW 318d Touring&#x27;,\n       &#x27;BMW 318i Touring&#x27;, &#x27;BMW 3...\n       &#x27;Toyota Sequoia I&#x27;, &#x27;Toyota Supra 2.0&#x27;, &#x27;Toyota Supra 3.0&#x27;,\n       &#x27;Toyota Supra A91&#x27;, &#x27;Toyota Supra GR&#x27;, &#x27;Toyota Yaris Hatchback&#x27;,\n       &#x27;Toyota Yaris LE&#x27;, &#x27;Toyota Yaris Sedan&#x27;], dtype=object),\n                                                           array([&#x27;BMW&#x27;, &#x27;Honda&#x27;, &#x27;Hyundai&#x27;, &#x27;Kia&#x27;, &#x27;Lexus&#x27;, &#x27;Mercedes-Benz&#x27;,\n       &#x27;Toyota&#x27;], dtype=object),\n                                                           array([&#x27; Diesel&#x27;, &#x27; Petrol&#x27;, &#x27;Diesel&#x27;, &#x27;Electric&#x27;, &#x27;Hybrid&#x27;, &#x27;Hydrogen&#x27;,\n       &#x27;LPG&#x27;, &#x27;Petrol&#x27;, &#x27;Plug-in Hybrid&#x27;], dtype=object)]),\n                                 [&#x27;name&#x27;, &#x27;company&#x27;, &#x27;fuel_type&#x27;])])</pre></div></div></div><div class=\"sk-parallel\"><div class=\"sk-parallel-item\"><div class=\"sk-item\"><div class=\"sk-label-container\"><div class=\"sk-label sk-toggleable\"><input class=\"sk-toggleable__control sk-hidden--visually\" id=\"sk-estimator-id-106\" type=\"checkbox\" ><label for=\"sk-estimator-id-106\" class=\"sk-toggleable__label sk-toggleable__label-arrow\">onehotencoder</label><div class=\"sk-toggleable__content\"><pre>[&#x27;name&#x27;, &#x27;company&#x27;, &#x27;fuel_type&#x27;]</pre></div></div></div><div class=\"sk-serial\"><div class=\"sk-item\"><div class=\"sk-estimator sk-toggleable\"><input class=\"sk-toggleable__control sk-hidden--visually\" id=\"sk-estimator-id-107\" type=\"checkbox\" ><label for=\"sk-estimator-id-107\" class=\"sk-toggleable__label sk-toggleable__label-arrow\">OneHotEncoder</label><div class=\"sk-toggleable__content\"><pre>OneHotEncoder(categories=[array([&#x27;BMW 116i&#x27;, &#x27;BMW 118d&#x27;, &#x27;BMW 118d Hatchback&#x27;, &#x27;BMW 118i&#x27;,\n       &#x27;BMW 125d&#x27;, &#x27;BMW 125d Hatchback&#x27;, &#x27;BMW 125i&#x27;,\n       &#x27;BMW 125i Convertible&#x27;, &#x27;BMW 218i Gran&#x27;, &#x27;BMW 220d&#x27;,\n       &#x27;BMW 220d Gran&#x27;, &#x27;BMW 220i&#x27;, &#x27;BMW 220i Convertible&#x27;,\n       &#x27;BMW 225xe Active&#x27;, &#x27;BMW 318d&#x27;, &#x27;BMW 318d Touring&#x27;,\n       &#x27;BMW 318i Touring&#x27;, &#x27;BMW 320d Gran&#x27;, &#x27;BMW 320d xDrive&#x27;, &#x27;BMW 320i&#x27;,\n       &#x27;BMW 320i Touring&#x27;, &#x27;BMW 330d Touring&#x27;, &#x27;BMW...\n       &#x27;Toyota Sequoia I&#x27;, &#x27;Toyota Supra 2.0&#x27;, &#x27;Toyota Supra 3.0&#x27;,\n       &#x27;Toyota Supra A91&#x27;, &#x27;Toyota Supra GR&#x27;, &#x27;Toyota Yaris Hatchback&#x27;,\n       &#x27;Toyota Yaris LE&#x27;, &#x27;Toyota Yaris Sedan&#x27;], dtype=object),\n                          array([&#x27;BMW&#x27;, &#x27;Honda&#x27;, &#x27;Hyundai&#x27;, &#x27;Kia&#x27;, &#x27;Lexus&#x27;, &#x27;Mercedes-Benz&#x27;,\n       &#x27;Toyota&#x27;], dtype=object),\n                          array([&#x27; Diesel&#x27;, &#x27; Petrol&#x27;, &#x27;Diesel&#x27;, &#x27;Electric&#x27;, &#x27;Hybrid&#x27;, &#x27;Hydrogen&#x27;,\n       &#x27;LPG&#x27;, &#x27;Petrol&#x27;, &#x27;Plug-in Hybrid&#x27;], dtype=object)])</pre></div></div></div></div></div></div><div class=\"sk-parallel-item\"><div class=\"sk-item\"><div class=\"sk-label-container\"><div class=\"sk-label sk-toggleable\"><input class=\"sk-toggleable__control sk-hidden--visually\" id=\"sk-estimator-id-108\" type=\"checkbox\" ><label for=\"sk-estimator-id-108\" class=\"sk-toggleable__label sk-toggleable__label-arrow\">remainder</label><div class=\"sk-toggleable__content\"><pre>[&#x27;year&#x27;, &#x27;kms_driven&#x27;]</pre></div></div></div><div class=\"sk-serial\"><div class=\"sk-item\"><div class=\"sk-estimator sk-toggleable\"><input class=\"sk-toggleable__control sk-hidden--visually\" id=\"sk-estimator-id-109\" type=\"checkbox\" ><label for=\"sk-estimator-id-109\" class=\"sk-toggleable__label sk-toggleable__label-arrow\">passthrough</label><div class=\"sk-toggleable__content\"><pre>passthrough</pre></div></div></div></div></div></div></div></div><div class=\"sk-item\"><div class=\"sk-estimator sk-toggleable\"><input class=\"sk-toggleable__control sk-hidden--visually\" id=\"sk-estimator-id-110\" type=\"checkbox\" ><label for=\"sk-estimator-id-110\" class=\"sk-toggleable__label sk-toggleable__label-arrow\">RandomForestRegressor</label><div class=\"sk-toggleable__content\"><pre>RandomForestRegressor()</pre></div></div></div></div></div></div></div>"
     },
     "execution_count": 329,
     "metadata": {},
     "output_type": "execute_result"
    }
   ],
   "source": [
    "pipe.fit(X_train, y_train)\n"
   ],
   "metadata": {
    "collapsed": false,
    "ExecuteTime": {
     "end_time": "2024-05-23T18:47:11.985043700Z",
     "start_time": "2024-05-23T18:47:10.295913400Z"
    }
   },
   "id": "554d2c02df626cd5"
  },
  {
   "cell_type": "code",
   "execution_count": 330,
   "outputs": [],
   "source": [
    "y_pred = pipe.predict(X_test)\n"
   ],
   "metadata": {
    "collapsed": false,
    "ExecuteTime": {
     "end_time": "2024-05-23T18:47:13.051811900Z",
     "start_time": "2024-05-23T18:47:13.021092500Z"
    }
   },
   "id": "3f93cdfb43359aff"
  },
  {
   "cell_type": "code",
   "execution_count": 331,
   "outputs": [
    {
     "data": {
      "text/plain": "0.8240859988546146"
     },
     "execution_count": 331,
     "metadata": {},
     "output_type": "execute_result"
    }
   ],
   "source": [
    "r2_score(y_test, y_pred)\n"
   ],
   "metadata": {
    "collapsed": false,
    "ExecuteTime": {
     "end_time": "2024-05-23T18:47:13.874785900Z",
     "start_time": "2024-05-23T18:47:13.848139100Z"
    }
   },
   "id": "929e4f3c5d2e9744"
  },
  {
   "cell_type": "code",
   "execution_count": 332,
   "outputs": [],
   "source": [
    "import pickle\n",
    "pickle.dump(pipe,open('RandomForestRegressionModel.pkl','wb'))"
   ],
   "metadata": {
    "collapsed": false,
    "ExecuteTime": {
     "end_time": "2024-05-23T18:47:16.160759100Z",
     "start_time": "2024-05-23T18:47:16.121894Z"
    }
   },
   "id": "3818b1727fdd39af"
  },
  {
   "cell_type": "code",
   "execution_count": 333,
   "outputs": [
    {
     "data": {
      "text/plain": "array([5974.78166667])"
     },
     "execution_count": 333,
     "metadata": {},
     "output_type": "execute_result"
    }
   ],
   "source": [
    "pipe.predict(pd.DataFrame(columns=X_test.columns,data=np.array(['Honda Fit','Honda',2003,85000,'Petrol']).reshape(1,5)))"
   ],
   "metadata": {
    "collapsed": false,
    "ExecuteTime": {
     "end_time": "2024-05-23T18:47:17.886363200Z",
     "start_time": "2024-05-23T18:47:17.849352200Z"
    }
   },
   "id": "89c5589eea20a46d"
  },
  {
   "cell_type": "code",
   "execution_count": 334,
   "outputs": [
    {
     "data": {
      "text/plain": "array(['BMW 116i', 'BMW 118d', 'BMW 118d Hatchback', 'BMW 118i',\n       'BMW 125d', 'BMW 125d Hatchback', 'BMW 125i',\n       'BMW 125i Convertible', 'BMW 218i Gran', 'BMW 220d',\n       'BMW 220d Gran', 'BMW 220i', 'BMW 220i Convertible',\n       'BMW 225xe Active', 'BMW 318d', 'BMW 318d Touring',\n       'BMW 318i Touring', 'BMW 320d Gran', 'BMW 320d xDrive', 'BMW 320i',\n       'BMW 320i Touring', 'BMW 330d Touring', 'BMW 330e',\n       'BMW 330e Plug-in', 'BMW 330i', 'BMW 330i M', 'BMW 330i Touring',\n       'BMW 330i xDrive', 'BMW 335d', 'BMW 420d Gran', 'BMW 420i Gran',\n       'BMW 430i Convertible', 'BMW 520d', 'BMW 520d Touring',\n       'BMW 520d xDrive', 'BMW 520i', 'BMW 530d Touring',\n       'BMW 530d xDrive', 'BMW 530e Plug-in', 'BMW 530i X', 'BMW 535i',\n       'BMW 540i X', 'BMW 640d Gran', 'BMW 640i Gran', 'BMW 730 LD',\n       'BMW 730d', 'BMW 730i', 'BMW 740Le xDrive', 'BMW 740i',\n       'BMW 760Li X', 'BMW M2', 'BMW M2 Competition', 'BMW M235i',\n       'BMW M3', 'BMW M3 Competition', 'BMW M4', 'BMW M4 CS',\n       'BMW M4 Convertible', 'BMW M5', 'BMW M5 Competition',\n       'BMW M6 Gran', 'BMW M850i xDrive', 'BMW X1 sDrive18d',\n       'BMW X1 sDrive18i', 'BMW X1 sDrive20d', 'BMW X1 sDrive20i',\n       'BMW X1 xDrive25i', 'BMW X2 sDrive18d', 'BMW X2 sDrive18i',\n       'BMW X2 sDrive20i', 'BMW X3 M', 'BMW X3 M40i', 'BMW X3 xDrive20d',\n       'BMW X3 xDrive30i', 'BMW X4 M', 'BMW X4 M40i', 'BMW X4 xDrive20d',\n       'BMW X4 xDrive30d', 'BMW X4 xDrive30i', 'BMW X4 xDrive35i',\n       'BMW X5 35i', 'BMW X5 G05', 'BMW X5 M', 'BMW X5 M50d',\n       'BMW X5 xDrive30d', 'BMW X5 xDrive40d', 'BMW X5 xDrive45e',\n       'BMW X5 xDrive50i', 'BMW X6 M', 'BMW X6 M50d', 'BMW X6 M50i',\n       'BMW X6 xDrive35i', 'BMW X6 xDrive40d', 'BMW X7 M50i',\n       'BMW X7 xDrive30d', 'BMW X7 xDrive40i', 'BMW i3', 'BMW i3s',\n       'BMW i8', 'Honda Accord', 'Honda CR-V', 'Honda CR-V III',\n       'Honda Civic', 'Honda Civic VIII', 'Honda Fit', 'Honda Fit I',\n       'Honda Jazz', 'Honda Jazz II', 'Honda Odyssey', 'Honda Stepwgn',\n       'Honda Stepwgn II', 'Honda Stream I', 'Hyundai Accent',\n       'Hyundai Accent Blue', 'Hyundai Atos', 'Hyundai Atos Prime',\n       'Hyundai Avante', 'Hyundai Avante AD', 'Hyundai Azera',\n       'Hyundai Centennial', 'Hyundai Coupe', 'Hyundai Creta',\n       'Hyundai Elantra', 'Hyundai Elantra GT', 'Hyundai Elantra N',\n       'Hyundai Encino', 'Hyundai Entourage', 'Hyundai Excel',\n       'Hyundai Galloper', 'Hyundai Genesis', 'Hyundai Genesis Coupe',\n       'Hyundai Getz', 'Hyundai Grand Starex', 'Hyundai Grand i10',\n       'Hyundai Grandeur', 'Hyundai H-1', 'Hyundai H-100', 'Hyundai HB20',\n       'Hyundai Ioniq Electric', 'Hyundai Ioniq Hybrid',\n       'Hyundai Ioniq Plug-in', 'Hyundai Kona', 'Hyundai Kona Electric',\n       'Hyundai Kona N', 'Hyundai Lantra', 'Hyundai Lavita',\n       'Hyundai Mistra', 'Hyundai Nexo', 'Hyundai Palisade',\n       'Hyundai Pony', 'Hyundai Santa Cruz', 'Hyundai Santa Fe',\n       'Hyundai Santa-fe', 'Hyundai Santro', 'Hyundai Santro Xing',\n       'Hyundai Scoupe', 'Hyundai Scoupe Turbo', 'Hyundai Solaris',\n       'Hyundai Sonata', 'Hyundai Sonata DN8', 'Hyundai Sonata Hybrid',\n       'Hyundai Sonata N', 'Hyundai Sonata Plug-in', 'Hyundai Starex',\n       'Hyundai Staria', 'Hyundai Terracan', 'Hyundai Tiburon',\n       'Hyundai Tucson', 'Hyundai Tucson Hybrid', 'Hyundai Veloster',\n       'Hyundai Veloster N', 'Hyundai Veloster Turbo', 'Hyundai Venue',\n       'Hyundai Veracruz', 'Hyundai Verna', 'Hyundai i10', 'Hyundai i20',\n       'Hyundai i30', 'Hyundai i40', 'Hyundai i40 Tourer', 'Hyundai i800',\n       'Hyundai ix20', 'Hyundai ix25', 'Hyundai ix35', 'Hyundai ix45',\n       'Hyundai ix55', 'Kia Carnival 2.2', 'Kia Carnival 3.3',\n       'Kia Carnival 3.5', 'Kia Ceed 1.4', 'Kia K3 1.6', 'Kia K5 1.6',\n       'Kia K5 1.6T', 'Kia K5 2.0', 'Kia K5 LPi', 'Kia K7 3.0',\n       'Kia K7 3.3', 'Kia Morning 1.0', 'Kia Optima 1.7',\n       'Kia Optima 2.0', 'Kia Optima 2.4', 'Kia Optima PHEV',\n       'Kia Rio 1.4', 'Kia Seltos 1.4', 'Kia Seltos 1.6',\n       'Kia Sorento 1.6', 'Kia Sorento 1.6T', 'Kia Sorento 2.0',\n       'Kia Sorento 2.2', 'Kia Sorento 2.2T', 'Kia Sorento 2.5',\n       'Kia Sorento 8-speed', 'Kia Soul 1.6', 'Kia Sportage 1.6',\n       'Kia Sportage 1.7', 'Kia Sportage 2.0', 'Lexus ES 300',\n       'Lexus ES 300h', 'Lexus ES 350', 'Lexus GX 460', 'Lexus GX 470',\n       'Lexus IS 250', 'Lexus IS 300', 'Lexus IS 300h', 'Lexus LS 460',\n       'Lexus LS 500', 'Lexus LS 500h', 'Lexus LX 570', 'Lexus NX 200t',\n       'Lexus NX 300', 'Lexus NX 300h', 'Lexus RC 200t', 'Lexus RC 350',\n       'Lexus RC F', 'Lexus RX 350', 'Lexus RX 450', 'Lexus RX 450h',\n       'Lexus UX 250h', 'Mercedes-Benz A-Класс W177',\n       'Mercedes-Benz B-Класс W246', 'Mercedes-Benz C-Класс W204',\n       'Mercedes-Benz C-Класс W205', 'Mercedes-Benz C-Класс W206',\n       'Mercedes-Benz CLA-Класс C117', 'Mercedes-Benz CLS-Класс C257',\n       'Mercedes-Benz E-Класс W210', 'Mercedes-Benz E-Класс W211',\n       'Mercedes-Benz E-Класс W212', 'Mercedes-Benz E-Класс W213',\n       'Mercedes-Benz EQC', 'Mercedes-Benz G-Класс W463',\n       'Mercedes-Benz G63 AMG', 'Mercedes-Benz GLA-Класс X156',\n       'Mercedes-Benz GLB-Класс X247', 'Mercedes-Benz GLC Coupe',\n       'Mercedes-Benz GLC-Класс X253', 'Mercedes-Benz GLE Coupe',\n       'Mercedes-Benz GLE-Класс W166', 'Mercedes-Benz GLE-Класс W167',\n       'Mercedes-Benz GLS Coupe', 'Mercedes-Benz GLS-Класс X167',\n       'Mercedes-Benz M-Класс W166', 'Mercedes-Benz S-Класс W220',\n       'Mercedes-Benz S-Класс W222', 'Mercedes-Benz S-Класс W223',\n       'Mercedes-Benz SLR McLaren', 'Mercedes-Benz SLS AMG',\n       'Mercedes-Benz Sprinter W906', 'Mercedes-Benz V-Класс W447',\n       'Toyota 4Runner Limited', 'Toyota 4Runner SR5',\n       'Toyota 4Runner TRD', 'Toyota Alphard Executive',\n       'Toyota Alphard Vellfire', 'Toyota Avalon',\n       'Toyota Avalon Limited', 'Toyota Avalon Touring',\n       'Toyota Avalon XLE', 'Toyota Avalon XSE', 'Toyota Camry 40',\n       'Toyota Camry 50', 'Toyota Camry 55', 'Toyota Camry 60',\n       'Toyota Camry 65', 'Toyota Camry 70', 'Toyota Camry 75',\n       'Toyota Corolla 45', 'Toyota Corolla 50', 'Toyota Corolla 55',\n       'Toyota Corolla 60', 'Toyota Crown', 'Toyota Crown 55',\n       'Toyota Crown Athlete', 'Toyota Crown Hybrid',\n       'Toyota Crown Majesta', 'Toyota Crown XVI', 'Toyota Estima Aeras',\n       'Toyota Estima Hybrid', 'Toyota Grand Highlander',\n       'Toyota Highlander', 'Toyota Highlander IV',\n       'Toyota Highlander Limited', 'Toyota Highlander XLE',\n       'Toyota Highlander XSE', 'Toyota Land Cruiser', 'Toyota Prado GXL',\n       'Toyota Prado Kakadu', 'Toyota Prado TXL', 'Toyota Prado VX',\n       'Toyota Prius L', 'Toyota Prius Prime', 'Toyota Prius XLE',\n       'Toyota RAV4', 'Toyota RAV4 V', 'Toyota Sequoia',\n       'Toyota Sequoia I', 'Toyota Supra 2.0', 'Toyota Supra 3.0',\n       'Toyota Supra A91', 'Toyota Supra GR', 'Toyota Yaris Hatchback',\n       'Toyota Yaris LE', 'Toyota Yaris Sedan'], dtype=object)"
     },
     "execution_count": 334,
     "metadata": {},
     "output_type": "execute_result"
    }
   ],
   "source": [
    "pipe.steps[0][1].transformers[0][1].categories[0]"
   ],
   "metadata": {
    "collapsed": false,
    "ExecuteTime": {
     "end_time": "2024-05-23T18:47:19.534800200Z",
     "start_time": "2024-05-23T18:47:19.514953700Z"
    }
   },
   "id": "933b784296235074"
  },
  {
   "cell_type": "code",
   "execution_count": 97,
   "outputs": [],
   "source": [],
   "metadata": {
    "collapsed": false,
    "ExecuteTime": {
     "end_time": "2024-05-23T08:50:08.896726200Z",
     "start_time": "2024-05-23T08:50:08.850733700Z"
    }
   },
   "id": "d2b5a3a916feeb5e"
  },
  {
   "cell_type": "code",
   "execution_count": null,
   "outputs": [],
   "source": [],
   "metadata": {
    "collapsed": false
   },
   "id": "b18f7c9aab950bcc"
  }
 ],
 "metadata": {
  "kernelspec": {
   "display_name": "Python 3",
   "language": "python",
   "name": "python3"
  },
  "language_info": {
   "codemirror_mode": {
    "name": "ipython",
    "version": 2
   },
   "file_extension": ".py",
   "mimetype": "text/x-python",
   "name": "python",
   "nbconvert_exporter": "python",
   "pygments_lexer": "ipython2",
   "version": "2.7.6"
  }
 },
 "nbformat": 4,
 "nbformat_minor": 5
}
