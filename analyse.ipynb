{
 "cells": [
  {
   "cell_type": "code",
   "execution_count": 1,
   "id": "initial_id",
   "metadata": {
    "collapsed": true,
    "ExecuteTime": {
     "end_time": "2024-05-13T09:37:03.603418200Z",
     "start_time": "2024-05-13T09:37:02.180801200Z"
    }
   },
   "outputs": [],
   "source": [
    "import pandas as pd\n",
    "import numpy as np\n",
    "import matplotlib.pyplot as plt\n",
    "import matplotlib as mpl\n",
    "%matplotlib inline\n",
    "mpl.style.use('ggplot')"
   ]
  },
  {
   "cell_type": "code",
   "execution_count": 2,
   "outputs": [],
   "source": [
    "car=pd.read_csv('quikr_car.csv')\n"
   ],
   "metadata": {
    "collapsed": false,
    "ExecuteTime": {
     "end_time": "2024-05-13T09:39:17.420111400Z",
     "start_time": "2024-05-13T09:39:17.357165900Z"
    }
   },
   "id": "323639fde088390f"
  },
  {
   "cell_type": "code",
   "execution_count": 3,
   "outputs": [
    {
     "data": {
      "text/plain": "                                     name   company  year          Price  \\\n0    Hyundai Santro Xing XO eRLX Euro III   Hyundai  2007         80,000   \n1                 Mahindra Jeep CL550 MDI  Mahindra  2006       4,25,000   \n2              Maruti Suzuki Alto 800 Vxi    Maruti  2018  Ask For Price   \n3  Hyundai Grand i10 Magna 1.2 Kappa VTVT   Hyundai  2014       3,25,000   \n4        Ford EcoSport Titanium 1.5L TDCi      Ford  2014       5,75,000   \n\n   kms_driven fuel_type  \n0  45,000 kms    Petrol  \n1      40 kms    Diesel  \n2  22,000 kms    Petrol  \n3  28,000 kms    Petrol  \n4  36,000 kms    Diesel  ",
      "text/html": "<div>\n<style scoped>\n    .dataframe tbody tr th:only-of-type {\n        vertical-align: middle;\n    }\n\n    .dataframe tbody tr th {\n        vertical-align: top;\n    }\n\n    .dataframe thead th {\n        text-align: right;\n    }\n</style>\n<table border=\"1\" class=\"dataframe\">\n  <thead>\n    <tr style=\"text-align: right;\">\n      <th></th>\n      <th>name</th>\n      <th>company</th>\n      <th>year</th>\n      <th>Price</th>\n      <th>kms_driven</th>\n      <th>fuel_type</th>\n    </tr>\n  </thead>\n  <tbody>\n    <tr>\n      <th>0</th>\n      <td>Hyundai Santro Xing XO eRLX Euro III</td>\n      <td>Hyundai</td>\n      <td>2007</td>\n      <td>80,000</td>\n      <td>45,000 kms</td>\n      <td>Petrol</td>\n    </tr>\n    <tr>\n      <th>1</th>\n      <td>Mahindra Jeep CL550 MDI</td>\n      <td>Mahindra</td>\n      <td>2006</td>\n      <td>4,25,000</td>\n      <td>40 kms</td>\n      <td>Diesel</td>\n    </tr>\n    <tr>\n      <th>2</th>\n      <td>Maruti Suzuki Alto 800 Vxi</td>\n      <td>Maruti</td>\n      <td>2018</td>\n      <td>Ask For Price</td>\n      <td>22,000 kms</td>\n      <td>Petrol</td>\n    </tr>\n    <tr>\n      <th>3</th>\n      <td>Hyundai Grand i10 Magna 1.2 Kappa VTVT</td>\n      <td>Hyundai</td>\n      <td>2014</td>\n      <td>3,25,000</td>\n      <td>28,000 kms</td>\n      <td>Petrol</td>\n    </tr>\n    <tr>\n      <th>4</th>\n      <td>Ford EcoSport Titanium 1.5L TDCi</td>\n      <td>Ford</td>\n      <td>2014</td>\n      <td>5,75,000</td>\n      <td>36,000 kms</td>\n      <td>Diesel</td>\n    </tr>\n  </tbody>\n</table>\n</div>"
     },
     "execution_count": 3,
     "metadata": {},
     "output_type": "execute_result"
    }
   ],
   "source": [
    "car.head()"
   ],
   "metadata": {
    "collapsed": false,
    "ExecuteTime": {
     "end_time": "2024-05-13T09:39:23.076723Z",
     "start_time": "2024-05-13T09:39:23.013389600Z"
    }
   },
   "id": "ca8b60cb14b324e1"
  },
  {
   "cell_type": "code",
   "execution_count": 4,
   "outputs": [
    {
     "data": {
      "text/plain": "(892, 6)"
     },
     "execution_count": 4,
     "metadata": {},
     "output_type": "execute_result"
    }
   ],
   "source": [
    "car.shape"
   ],
   "metadata": {
    "collapsed": false,
    "ExecuteTime": {
     "end_time": "2024-05-13T09:39:32.094399400Z",
     "start_time": "2024-05-13T09:39:32.044558200Z"
    }
   },
   "id": "94fe13a903a460b8"
  },
  {
   "cell_type": "code",
   "execution_count": 5,
   "outputs": [
    {
     "name": "stdout",
     "output_type": "stream",
     "text": [
      "<class 'pandas.core.frame.DataFrame'>\n",
      "RangeIndex: 892 entries, 0 to 891\n",
      "Data columns (total 6 columns):\n",
      " #   Column      Non-Null Count  Dtype \n",
      "---  ------      --------------  ----- \n",
      " 0   name        892 non-null    object\n",
      " 1   company     892 non-null    object\n",
      " 2   year        892 non-null    object\n",
      " 3   Price       892 non-null    object\n",
      " 4   kms_driven  840 non-null    object\n",
      " 5   fuel_type   837 non-null    object\n",
      "dtypes: object(6)\n",
      "memory usage: 41.9+ KB\n"
     ]
    }
   ],
   "source": [
    "car.info()"
   ],
   "metadata": {
    "collapsed": false,
    "ExecuteTime": {
     "end_time": "2024-05-13T09:39:38.179506600Z",
     "start_time": "2024-05-13T09:39:38.142048Z"
    }
   },
   "id": "ca00d03f65029a62"
  },
  {
   "cell_type": "code",
   "execution_count": 6,
   "outputs": [],
   "source": [
    "backup=car.copy()"
   ],
   "metadata": {
    "collapsed": false,
    "ExecuteTime": {
     "end_time": "2024-05-13T09:39:48.497341100Z",
     "start_time": "2024-05-13T09:39:48.460574900Z"
    }
   },
   "id": "32289b5996630b47"
  },
  {
   "cell_type": "markdown",
   "source": [
    "## Quality\n",
    "\n",
    "- names are pretty inconsistent\n",
    "- names have company names attached to it\n",
    "- some names are spam like 'Maruti Ertiga showroom condition with' and 'Well mentained Tata Sumo'\n",
    "- company: many of the names are not of any company like 'Used', 'URJENT', and so on.\n",
    "- year has many non-year values\n",
    "- year is in object. Change to integer\n",
    "- Price has Ask for Price\n",
    "- Price has commas in its prices and is in object\n",
    "- kms_driven has object values with kms at last.\n",
    "- It has nan values and two rows have 'Petrol' in them\n",
    "- fuel_type has nan values"
   ],
   "metadata": {
    "collapsed": false
   },
   "id": "9f328b251b97b9ef"
  },
  {
   "cell_type": "markdown",
   "source": [
    "## Cleaning Data "
   ],
   "metadata": {
    "collapsed": false
   },
   "id": "faeee7bbf7f11bac"
  },
  {
   "cell_type": "code",
   "execution_count": null,
   "outputs": [],
   "source": [
    "#### year has many non-year values"
   ],
   "metadata": {
    "collapsed": false
   },
   "id": "61ed40d3fdad5904"
  }
 ],
 "metadata": {
  "kernelspec": {
   "display_name": "Python 3",
   "language": "python",
   "name": "python3"
  },
  "language_info": {
   "codemirror_mode": {
    "name": "ipython",
    "version": 2
   },
   "file_extension": ".py",
   "mimetype": "text/x-python",
   "name": "python",
   "nbconvert_exporter": "python",
   "pygments_lexer": "ipython2",
   "version": "2.7.6"
  }
 },
 "nbformat": 4,
 "nbformat_minor": 5
}
