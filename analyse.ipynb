{
 "cells": [
  {
   "cell_type": "markdown",
   "source": [
    "# Курсовой проект по машинному обучению\n",
    "## Car price prediction\n",
    "## Использование произвольных автомобильных данных для анализа предсказание цен на автомобили.\n"
   ],
   "metadata": {
    "collapsed": false
   },
   "id": "74766608b4a7b985"
  },
  {
   "cell_type": "markdown",
   "source": [
    "### Описание признаков\n",
    "   - **name**: Название автомобиля (марка и модель),\n",
    "   - **company**: Компания-производитель,\n",
    "   - **year**: Год выпуска автомобиля,\n",
    "   - **Price**: Цена автомобиля,\n",
    "   - **kms_driven**: Пробег автомобиля в километрах,\n",
    "   - **fuel_type**: Тип топлива, используемого автомобилем"
   ],
   "metadata": {
    "collapsed": false
   },
   "id": "8213d94c5ae88fdc"
  },
  {
   "cell_type": "markdown",
   "source": [
    "### Исследование данных"
   ],
   "metadata": {
    "collapsed": false
   },
   "id": "e7934e4ec0f4ae1b"
  },
  {
   "cell_type": "code",
   "execution_count": 57,
   "outputs": [],
   "source": [
    "\n",
    "import pandas as pd\n",
    "import numpy as np\n",
    "import matplotlib.pyplot as plt\n",
    "import matplotlib as mpl\n",
    "%matplotlib inline\n",
    "mpl.style.use('ggplot')"
   ],
   "metadata": {
    "collapsed": false,
    "ExecuteTime": {
     "end_time": "2024-05-23T17:12:22.837242100Z",
     "start_time": "2024-05-23T17:12:22.791634300Z"
    }
   },
   "id": "7f41c9367e2cbbec"
  },
  {
   "cell_type": "code",
   "execution_count": 58,
   "outputs": [],
   "source": [
    "data=pd.read_csv('dataset/CAR.csv')\n"
   ],
   "metadata": {
    "collapsed": false,
    "ExecuteTime": {
     "end_time": "2024-05-23T17:12:23.320486400Z",
     "start_time": "2024-05-23T17:12:23.248652200Z"
    }
   },
   "id": "323639fde088390f"
  },
  {
   "cell_type": "code",
   "execution_count": 59,
   "outputs": [
    {
     "data": {
      "text/plain": "   Unnamed: 0                        name company    year    Price  \\\n0           0      Toyota Camry 55 SE USA  Toyota  2015.0   15800$   \n1           1     Toyota Land Cruiser 200  Toyota  2015.0   47000$   \n2           2         Toyota Camry 70 XSE  Toyota  2019.0   20500$   \n3           3  Toyota Highlander IV (U70)  Toyota  2019.0   45300$   \n4           4     Toyota Crown XVI (S235)  Toyota  2023.0   51500$   \n5           5  Toyota Sequoia I Restyling  Toyota  2004.0   23500$   \n6           6        Toyota RAV4 V (XA50)  Toyota  2021.0   37500$   \n7           7               Toyota Avalon  Toyota  2019.0   30000$   \n8           8                Toyota Crown  Toyota  2020.0   35500$   \n9           9              Toyota Sequoia  Toyota  2022.0   98500$   \n\n   kms_driven fuel_type  \n0  150 000 km    Hybrid  \n1  145 000 km    Petrol  \n2  180 246 km    Petrol  \n3  108 000 km    Hybrid  \n4    7 750 km    Hybrid  \n5  167 000 km    Petrol  \n6   56 000 km    Hybrid  \n7   27 000 km    Hybrid  \n8   57 750 km    Petrol  \n9   12 000 km    Petrol  ",
      "text/html": "<div>\n<style scoped>\n    .dataframe tbody tr th:only-of-type {\n        vertical-align: middle;\n    }\n\n    .dataframe tbody tr th {\n        vertical-align: top;\n    }\n\n    .dataframe thead th {\n        text-align: right;\n    }\n</style>\n<table border=\"1\" class=\"dataframe\">\n  <thead>\n    <tr style=\"text-align: right;\">\n      <th></th>\n      <th>Unnamed: 0</th>\n      <th>name</th>\n      <th>company</th>\n      <th>year</th>\n      <th>Price</th>\n      <th>kms_driven</th>\n      <th>fuel_type</th>\n    </tr>\n  </thead>\n  <tbody>\n    <tr>\n      <th>0</th>\n      <td>0</td>\n      <td>Toyota Camry 55 SE USA</td>\n      <td>Toyota</td>\n      <td>2015.0</td>\n      <td>15800$</td>\n      <td>150 000 km</td>\n      <td>Hybrid</td>\n    </tr>\n    <tr>\n      <th>1</th>\n      <td>1</td>\n      <td>Toyota Land Cruiser 200</td>\n      <td>Toyota</td>\n      <td>2015.0</td>\n      <td>47000$</td>\n      <td>145 000 km</td>\n      <td>Petrol</td>\n    </tr>\n    <tr>\n      <th>2</th>\n      <td>2</td>\n      <td>Toyota Camry 70 XSE</td>\n      <td>Toyota</td>\n      <td>2019.0</td>\n      <td>20500$</td>\n      <td>180 246 km</td>\n      <td>Petrol</td>\n    </tr>\n    <tr>\n      <th>3</th>\n      <td>3</td>\n      <td>Toyota Highlander IV (U70)</td>\n      <td>Toyota</td>\n      <td>2019.0</td>\n      <td>45300$</td>\n      <td>108 000 km</td>\n      <td>Hybrid</td>\n    </tr>\n    <tr>\n      <th>4</th>\n      <td>4</td>\n      <td>Toyota Crown XVI (S235)</td>\n      <td>Toyota</td>\n      <td>2023.0</td>\n      <td>51500$</td>\n      <td>7 750 km</td>\n      <td>Hybrid</td>\n    </tr>\n    <tr>\n      <th>5</th>\n      <td>5</td>\n      <td>Toyota Sequoia I Restyling</td>\n      <td>Toyota</td>\n      <td>2004.0</td>\n      <td>23500$</td>\n      <td>167 000 km</td>\n      <td>Petrol</td>\n    </tr>\n    <tr>\n      <th>6</th>\n      <td>6</td>\n      <td>Toyota RAV4 V (XA50)</td>\n      <td>Toyota</td>\n      <td>2021.0</td>\n      <td>37500$</td>\n      <td>56 000 km</td>\n      <td>Hybrid</td>\n    </tr>\n    <tr>\n      <th>7</th>\n      <td>7</td>\n      <td>Toyota Avalon</td>\n      <td>Toyota</td>\n      <td>2019.0</td>\n      <td>30000$</td>\n      <td>27 000 km</td>\n      <td>Hybrid</td>\n    </tr>\n    <tr>\n      <th>8</th>\n      <td>8</td>\n      <td>Toyota Crown</td>\n      <td>Toyota</td>\n      <td>2020.0</td>\n      <td>35500$</td>\n      <td>57 750 km</td>\n      <td>Petrol</td>\n    </tr>\n    <tr>\n      <th>9</th>\n      <td>9</td>\n      <td>Toyota Sequoia</td>\n      <td>Toyota</td>\n      <td>2022.0</td>\n      <td>98500$</td>\n      <td>12 000 km</td>\n      <td>Petrol</td>\n    </tr>\n  </tbody>\n</table>\n</div>"
     },
     "execution_count": 59,
     "metadata": {},
     "output_type": "execute_result"
    }
   ],
   "source": [
    "data.head(10)"
   ],
   "metadata": {
    "collapsed": false,
    "ExecuteTime": {
     "end_time": "2024-05-23T17:12:23.763832700Z",
     "start_time": "2024-05-23T17:12:23.739721400Z"
    }
   },
   "id": "ca8b60cb14b324e1"
  },
  {
   "cell_type": "code",
   "execution_count": 60,
   "outputs": [
    {
     "data": {
      "text/plain": "(786, 7)"
     },
     "execution_count": 60,
     "metadata": {},
     "output_type": "execute_result"
    }
   ],
   "source": [
    "data.shape"
   ],
   "metadata": {
    "collapsed": false,
    "ExecuteTime": {
     "end_time": "2024-05-23T17:12:24.329678Z",
     "start_time": "2024-05-23T17:12:24.295937600Z"
    }
   },
   "id": "94fe13a903a460b8"
  },
  {
   "cell_type": "code",
   "execution_count": 61,
   "outputs": [
    {
     "name": "stdout",
     "output_type": "stream",
     "text": [
      "<class 'pandas.core.frame.DataFrame'>\n",
      "RangeIndex: 786 entries, 0 to 785\n",
      "Data columns (total 7 columns):\n",
      " #   Column      Non-Null Count  Dtype  \n",
      "---  ------      --------------  -----  \n",
      " 0   Unnamed: 0  786 non-null    int64  \n",
      " 1   name        786 non-null    object \n",
      " 2   company     785 non-null    object \n",
      " 3   year        783 non-null    float64\n",
      " 4   Price       780 non-null    object \n",
      " 5   kms_driven  785 non-null    object \n",
      " 6   fuel_type   781 non-null    object \n",
      "dtypes: float64(1), int64(1), object(5)\n",
      "memory usage: 43.1+ KB\n"
     ]
    }
   ],
   "source": [
    "data.info()"
   ],
   "metadata": {
    "collapsed": false,
    "ExecuteTime": {
     "end_time": "2024-05-23T17:12:24.855227800Z",
     "start_time": "2024-05-23T17:12:24.824509300Z"
    }
   },
   "id": "ca00d03f65029a62"
  },
  {
   "cell_type": "code",
   "execution_count": 62,
   "outputs": [],
   "source": [
    "backup=data.copy()"
   ],
   "metadata": {
    "collapsed": false,
    "ExecuteTime": {
     "end_time": "2024-05-23T17:12:25.362102Z",
     "start_time": "2024-05-23T17:12:25.330273700Z"
    }
   },
   "id": "32289b5996630b47"
  },
  {
   "cell_type": "code",
   "execution_count": 63,
   "outputs": [
    {
     "data": {
      "text/plain": "       Unnamed: 0         year\ncount  786.000000   783.000000\nmean   395.134860  2014.315453\nstd    234.561305     6.591582\nmin      0.000000  1990.000000\n25%    195.250000  2011.000000\n50%    391.500000  2016.000000\n75%    585.000000  2019.000000\nmax    859.000000  2024.000000",
      "text/html": "<div>\n<style scoped>\n    .dataframe tbody tr th:only-of-type {\n        vertical-align: middle;\n    }\n\n    .dataframe tbody tr th {\n        vertical-align: top;\n    }\n\n    .dataframe thead th {\n        text-align: right;\n    }\n</style>\n<table border=\"1\" class=\"dataframe\">\n  <thead>\n    <tr style=\"text-align: right;\">\n      <th></th>\n      <th>Unnamed: 0</th>\n      <th>year</th>\n    </tr>\n  </thead>\n  <tbody>\n    <tr>\n      <th>count</th>\n      <td>786.000000</td>\n      <td>783.000000</td>\n    </tr>\n    <tr>\n      <th>mean</th>\n      <td>395.134860</td>\n      <td>2014.315453</td>\n    </tr>\n    <tr>\n      <th>std</th>\n      <td>234.561305</td>\n      <td>6.591582</td>\n    </tr>\n    <tr>\n      <th>min</th>\n      <td>0.000000</td>\n      <td>1990.000000</td>\n    </tr>\n    <tr>\n      <th>25%</th>\n      <td>195.250000</td>\n      <td>2011.000000</td>\n    </tr>\n    <tr>\n      <th>50%</th>\n      <td>391.500000</td>\n      <td>2016.000000</td>\n    </tr>\n    <tr>\n      <th>75%</th>\n      <td>585.000000</td>\n      <td>2019.000000</td>\n    </tr>\n    <tr>\n      <th>max</th>\n      <td>859.000000</td>\n      <td>2024.000000</td>\n    </tr>\n  </tbody>\n</table>\n</div>"
     },
     "execution_count": 63,
     "metadata": {},
     "output_type": "execute_result"
    }
   ],
   "source": [
    "data.describe()"
   ],
   "metadata": {
    "collapsed": false,
    "ExecuteTime": {
     "end_time": "2024-05-23T17:12:26.069042100Z",
     "start_time": "2024-05-23T17:12:26.038061500Z"
    }
   },
   "id": "a92bd5e7d1be228d"
  },
  {
   "cell_type": "markdown",
   "source": [],
   "metadata": {
    "collapsed": false
   },
   "id": "9f328b251b97b9ef"
  },
  {
   "cell_type": "markdown",
   "source": [
    "## Очистка данных"
   ],
   "metadata": {
    "collapsed": false
   },
   "id": "faeee7bbf7f11bac"
  },
  {
   "cell_type": "code",
   "execution_count": 64,
   "outputs": [
    {
     "data": {
      "text/plain": "Unnamed: 0    0\nname          0\ncompany       1\nyear          3\nPrice         6\nkms_driven    1\nfuel_type     5\ndtype: int64"
     },
     "execution_count": 64,
     "metadata": {},
     "output_type": "execute_result"
    }
   ],
   "source": [
    "data.isnull().sum()"
   ],
   "metadata": {
    "collapsed": false,
    "ExecuteTime": {
     "end_time": "2024-05-23T17:12:27.726795300Z",
     "start_time": "2024-05-23T17:12:27.704767900Z"
    }
   },
   "id": "61ed40d3fdad5904"
  },
  {
   "cell_type": "code",
   "execution_count": 65,
   "outputs": [],
   "source": [
    "data = data.dropna()"
   ],
   "metadata": {
    "collapsed": false,
    "ExecuteTime": {
     "end_time": "2024-05-23T17:12:28.228307500Z",
     "start_time": "2024-05-23T17:12:28.192925800Z"
    }
   },
   "id": "ded70ce8436fffae"
  },
  {
   "cell_type": "code",
   "execution_count": 66,
   "outputs": [
    {
     "data": {
      "text/plain": "Unnamed: 0    0\nname          0\ncompany       0\nyear          0\nPrice         0\nkms_driven    0\nfuel_type     0\ndtype: int64"
     },
     "execution_count": 66,
     "metadata": {},
     "output_type": "execute_result"
    }
   ],
   "source": [
    "data.isnull().sum()"
   ],
   "metadata": {
    "collapsed": false,
    "ExecuteTime": {
     "end_time": "2024-05-23T17:12:28.755832300Z",
     "start_time": "2024-05-23T17:12:28.735293Z"
    }
   },
   "id": "6ce0b5d46c611ead"
  },
  {
   "cell_type": "code",
   "execution_count": 67,
   "outputs": [
    {
     "data": {
      "text/plain": "0      False\n1      False\n2      False\n3      False\n4      False\n       ...  \n781    False\n782    False\n783    False\n784    False\n785    False\nLength: 770, dtype: bool"
     },
     "execution_count": 67,
     "metadata": {},
     "output_type": "execute_result"
    }
   ],
   "source": [
    "data.duplicated()"
   ],
   "metadata": {
    "collapsed": false,
    "ExecuteTime": {
     "end_time": "2024-05-23T17:12:29.357718700Z",
     "start_time": "2024-05-23T17:12:29.335805400Z"
    }
   },
   "id": "7314932fb475db69"
  },
  {
   "cell_type": "code",
   "execution_count": 68,
   "outputs": [],
   "source": [
    "data['Price'] = data['Price'].str.replace('$', '').astype(int)"
   ],
   "metadata": {
    "collapsed": false,
    "ExecuteTime": {
     "end_time": "2024-05-23T17:12:30.006367300Z",
     "start_time": "2024-05-23T17:12:29.967197100Z"
    }
   },
   "id": "588a45001b0d1088"
  },
  {
   "cell_type": "code",
   "execution_count": 69,
   "outputs": [],
   "source": [
    "data['kms_driven'] = data['kms_driven'].str.replace(' km', '').str.replace(' ', '').astype(int)\n"
   ],
   "metadata": {
    "collapsed": false,
    "ExecuteTime": {
     "end_time": "2024-05-23T17:12:30.352498900Z",
     "start_time": "2024-05-23T17:12:30.345270600Z"
    }
   },
   "id": "47f5d9896ad3455a"
  },
  {
   "cell_type": "code",
   "execution_count": 70,
   "outputs": [],
   "source": [
    "data['year'] = data['year'].astype(int)"
   ],
   "metadata": {
    "collapsed": false,
    "ExecuteTime": {
     "end_time": "2024-05-23T17:12:30.767160300Z",
     "start_time": "2024-05-23T17:12:30.754606600Z"
    }
   },
   "id": "419a18dabe24de83"
  },
  {
   "cell_type": "code",
   "execution_count": 71,
   "outputs": [
    {
     "name": "stdout",
     "output_type": "stream",
     "text": [
      "<class 'pandas.core.frame.DataFrame'>\n",
      "Index: 770 entries, 0 to 785\n",
      "Data columns (total 7 columns):\n",
      " #   Column      Non-Null Count  Dtype \n",
      "---  ------      --------------  ----- \n",
      " 0   Unnamed: 0  770 non-null    int64 \n",
      " 1   name        770 non-null    object\n",
      " 2   company     770 non-null    object\n",
      " 3   year        770 non-null    int32 \n",
      " 4   Price       770 non-null    int32 \n",
      " 5   kms_driven  770 non-null    int32 \n",
      " 6   fuel_type   770 non-null    object\n",
      "dtypes: int32(3), int64(1), object(3)\n",
      "memory usage: 39.1+ KB\n"
     ]
    }
   ],
   "source": [
    "data.info()"
   ],
   "metadata": {
    "collapsed": false,
    "ExecuteTime": {
     "end_time": "2024-05-23T17:12:31.136246300Z",
     "start_time": "2024-05-23T17:12:31.129222400Z"
    }
   },
   "id": "24228fe555adf8e0"
  },
  {
   "cell_type": "code",
   "execution_count": 72,
   "outputs": [],
   "source": [
    "data['name']=data['name'].str.split().str.slice(start=0,stop=3).str.join(' ')"
   ],
   "metadata": {
    "collapsed": false,
    "ExecuteTime": {
     "end_time": "2024-05-23T17:12:31.560424700Z",
     "start_time": "2024-05-23T17:12:31.552578Z"
    }
   },
   "id": "25f525bae7dac755"
  },
  {
   "cell_type": "code",
   "execution_count": 73,
   "outputs": [],
   "source": [
    "data=data.reset_index(drop=True)"
   ],
   "metadata": {
    "collapsed": false,
    "ExecuteTime": {
     "end_time": "2024-05-23T17:12:32.068421Z",
     "start_time": "2024-05-23T17:12:32.059344200Z"
    }
   },
   "id": "6e43ef557ac45f6c"
  },
  {
   "cell_type": "code",
   "execution_count": 74,
   "outputs": [
    {
     "data": {
      "text/plain": "     Unnamed: 0                  name company  year  Price  kms_driven  \\\n0             0       Toyota Camry 55  Toyota  2015  15800      150000   \n1             1   Toyota Land Cruiser  Toyota  2015  47000      145000   \n2             2       Toyota Camry 70  Toyota  2019  20500      180246   \n3             3  Toyota Highlander IV  Toyota  2019  45300      108000   \n4             4      Toyota Crown XVI  Toyota  2023  51500        7750   \n..          ...                   ...     ...   ...    ...         ...   \n765         855             Honda Fit   Honda  2003   5718      212000   \n766         856             Honda Fit   Honda  2003   5718      212000   \n767         857             Honda Fit   Honda  2003   5718      212000   \n768         858             Honda Fit   Honda  2003   5718      212000   \n769         859             Honda Fit   Honda  2003   5718      212000   \n\n    fuel_type  \n0      Hybrid  \n1      Petrol  \n2      Petrol  \n3      Hybrid  \n4      Hybrid  \n..        ...  \n765    Petrol  \n766    Petrol  \n767    Petrol  \n768    Petrol  \n769    Petrol  \n\n[770 rows x 7 columns]",
      "text/html": "<div>\n<style scoped>\n    .dataframe tbody tr th:only-of-type {\n        vertical-align: middle;\n    }\n\n    .dataframe tbody tr th {\n        vertical-align: top;\n    }\n\n    .dataframe thead th {\n        text-align: right;\n    }\n</style>\n<table border=\"1\" class=\"dataframe\">\n  <thead>\n    <tr style=\"text-align: right;\">\n      <th></th>\n      <th>Unnamed: 0</th>\n      <th>name</th>\n      <th>company</th>\n      <th>year</th>\n      <th>Price</th>\n      <th>kms_driven</th>\n      <th>fuel_type</th>\n    </tr>\n  </thead>\n  <tbody>\n    <tr>\n      <th>0</th>\n      <td>0</td>\n      <td>Toyota Camry 55</td>\n      <td>Toyota</td>\n      <td>2015</td>\n      <td>15800</td>\n      <td>150000</td>\n      <td>Hybrid</td>\n    </tr>\n    <tr>\n      <th>1</th>\n      <td>1</td>\n      <td>Toyota Land Cruiser</td>\n      <td>Toyota</td>\n      <td>2015</td>\n      <td>47000</td>\n      <td>145000</td>\n      <td>Petrol</td>\n    </tr>\n    <tr>\n      <th>2</th>\n      <td>2</td>\n      <td>Toyota Camry 70</td>\n      <td>Toyota</td>\n      <td>2019</td>\n      <td>20500</td>\n      <td>180246</td>\n      <td>Petrol</td>\n    </tr>\n    <tr>\n      <th>3</th>\n      <td>3</td>\n      <td>Toyota Highlander IV</td>\n      <td>Toyota</td>\n      <td>2019</td>\n      <td>45300</td>\n      <td>108000</td>\n      <td>Hybrid</td>\n    </tr>\n    <tr>\n      <th>4</th>\n      <td>4</td>\n      <td>Toyota Crown XVI</td>\n      <td>Toyota</td>\n      <td>2023</td>\n      <td>51500</td>\n      <td>7750</td>\n      <td>Hybrid</td>\n    </tr>\n    <tr>\n      <th>...</th>\n      <td>...</td>\n      <td>...</td>\n      <td>...</td>\n      <td>...</td>\n      <td>...</td>\n      <td>...</td>\n      <td>...</td>\n    </tr>\n    <tr>\n      <th>765</th>\n      <td>855</td>\n      <td>Honda Fit</td>\n      <td>Honda</td>\n      <td>2003</td>\n      <td>5718</td>\n      <td>212000</td>\n      <td>Petrol</td>\n    </tr>\n    <tr>\n      <th>766</th>\n      <td>856</td>\n      <td>Honda Fit</td>\n      <td>Honda</td>\n      <td>2003</td>\n      <td>5718</td>\n      <td>212000</td>\n      <td>Petrol</td>\n    </tr>\n    <tr>\n      <th>767</th>\n      <td>857</td>\n      <td>Honda Fit</td>\n      <td>Honda</td>\n      <td>2003</td>\n      <td>5718</td>\n      <td>212000</td>\n      <td>Petrol</td>\n    </tr>\n    <tr>\n      <th>768</th>\n      <td>858</td>\n      <td>Honda Fit</td>\n      <td>Honda</td>\n      <td>2003</td>\n      <td>5718</td>\n      <td>212000</td>\n      <td>Petrol</td>\n    </tr>\n    <tr>\n      <th>769</th>\n      <td>859</td>\n      <td>Honda Fit</td>\n      <td>Honda</td>\n      <td>2003</td>\n      <td>5718</td>\n      <td>212000</td>\n      <td>Petrol</td>\n    </tr>\n  </tbody>\n</table>\n<p>770 rows × 7 columns</p>\n</div>"
     },
     "execution_count": 74,
     "metadata": {},
     "output_type": "execute_result"
    }
   ],
   "source": [
    "data"
   ],
   "metadata": {
    "collapsed": false,
    "ExecuteTime": {
     "end_time": "2024-05-23T17:12:32.820992600Z",
     "start_time": "2024-05-23T17:12:32.793595700Z"
    }
   },
   "id": "6d172281c157e3fa"
  },
  {
   "cell_type": "code",
   "execution_count": 75,
   "outputs": [],
   "source": [
    "#data.to_csv('dataset/cleaned_data_cars.csv',index = False)"
   ],
   "metadata": {
    "collapsed": false,
    "ExecuteTime": {
     "end_time": "2024-05-23T17:12:33.614304500Z",
     "start_time": "2024-05-23T17:12:33.603197800Z"
    }
   },
   "id": "710d90845ef15077"
  },
  {
   "cell_type": "code",
   "execution_count": 76,
   "outputs": [
    {
     "name": "stdout",
     "output_type": "stream",
     "text": [
      "<class 'pandas.core.frame.DataFrame'>\n",
      "RangeIndex: 770 entries, 0 to 769\n",
      "Data columns (total 7 columns):\n",
      " #   Column      Non-Null Count  Dtype \n",
      "---  ------      --------------  ----- \n",
      " 0   Unnamed: 0  770 non-null    int64 \n",
      " 1   name        770 non-null    object\n",
      " 2   company     770 non-null    object\n",
      " 3   year        770 non-null    int32 \n",
      " 4   Price       770 non-null    int32 \n",
      " 5   kms_driven  770 non-null    int32 \n",
      " 6   fuel_type   770 non-null    object\n",
      "dtypes: int32(3), int64(1), object(3)\n",
      "memory usage: 33.2+ KB\n"
     ]
    }
   ],
   "source": [
    "data.info()"
   ],
   "metadata": {
    "collapsed": false,
    "ExecuteTime": {
     "end_time": "2024-05-23T17:12:34.193513900Z",
     "start_time": "2024-05-23T17:12:34.149476500Z"
    }
   },
   "id": "fc28e07e98f383c"
  },
  {
   "cell_type": "code",
   "execution_count": 77,
   "outputs": [
    {
     "data": {
      "text/plain": "        Unnamed: 0       name company         year          Price  \\\ncount   770.000000        770     770   770.000000     770.000000   \nunique         NaN        293       6          NaN            NaN   \ntop            NaN  Honda Fit   Honda          NaN            NaN   \nfreq           NaN        140     227          NaN            NaN   \nmean    391.067532        NaN     NaN  2014.310390   36373.188312   \nstd     235.148395        NaN     NaN     6.604646   48173.326688   \nmin       0.000000        NaN     NaN  1990.000000    2500.000000   \n25%     191.250000        NaN     NaN  2011.000000   12000.000000   \n50%     383.500000        NaN     NaN  2016.000000   25600.000000   \n75%     577.750000        NaN     NaN  2019.000000   45575.000000   \nmax     859.000000        NaN     NaN  2024.000000  960000.000000   \n\n           kms_driven fuel_type  \ncount      770.000000       770  \nunique            NaN         7  \ntop               NaN    Petrol  \nfreq              NaN       588  \nmean     99603.315584       NaN  \nstd      82104.788991       NaN  \nmin         17.000000       NaN  \n25%      35050.000000       NaN  \n50%      70000.000000       NaN  \n75%     150000.000000       NaN  \nmax     550000.000000       NaN  ",
      "text/html": "<div>\n<style scoped>\n    .dataframe tbody tr th:only-of-type {\n        vertical-align: middle;\n    }\n\n    .dataframe tbody tr th {\n        vertical-align: top;\n    }\n\n    .dataframe thead th {\n        text-align: right;\n    }\n</style>\n<table border=\"1\" class=\"dataframe\">\n  <thead>\n    <tr style=\"text-align: right;\">\n      <th></th>\n      <th>Unnamed: 0</th>\n      <th>name</th>\n      <th>company</th>\n      <th>year</th>\n      <th>Price</th>\n      <th>kms_driven</th>\n      <th>fuel_type</th>\n    </tr>\n  </thead>\n  <tbody>\n    <tr>\n      <th>count</th>\n      <td>770.000000</td>\n      <td>770</td>\n      <td>770</td>\n      <td>770.000000</td>\n      <td>770.000000</td>\n      <td>770.000000</td>\n      <td>770</td>\n    </tr>\n    <tr>\n      <th>unique</th>\n      <td>NaN</td>\n      <td>293</td>\n      <td>6</td>\n      <td>NaN</td>\n      <td>NaN</td>\n      <td>NaN</td>\n      <td>7</td>\n    </tr>\n    <tr>\n      <th>top</th>\n      <td>NaN</td>\n      <td>Honda Fit</td>\n      <td>Honda</td>\n      <td>NaN</td>\n      <td>NaN</td>\n      <td>NaN</td>\n      <td>Petrol</td>\n    </tr>\n    <tr>\n      <th>freq</th>\n      <td>NaN</td>\n      <td>140</td>\n      <td>227</td>\n      <td>NaN</td>\n      <td>NaN</td>\n      <td>NaN</td>\n      <td>588</td>\n    </tr>\n    <tr>\n      <th>mean</th>\n      <td>391.067532</td>\n      <td>NaN</td>\n      <td>NaN</td>\n      <td>2014.310390</td>\n      <td>36373.188312</td>\n      <td>99603.315584</td>\n      <td>NaN</td>\n    </tr>\n    <tr>\n      <th>std</th>\n      <td>235.148395</td>\n      <td>NaN</td>\n      <td>NaN</td>\n      <td>6.604646</td>\n      <td>48173.326688</td>\n      <td>82104.788991</td>\n      <td>NaN</td>\n    </tr>\n    <tr>\n      <th>min</th>\n      <td>0.000000</td>\n      <td>NaN</td>\n      <td>NaN</td>\n      <td>1990.000000</td>\n      <td>2500.000000</td>\n      <td>17.000000</td>\n      <td>NaN</td>\n    </tr>\n    <tr>\n      <th>25%</th>\n      <td>191.250000</td>\n      <td>NaN</td>\n      <td>NaN</td>\n      <td>2011.000000</td>\n      <td>12000.000000</td>\n      <td>35050.000000</td>\n      <td>NaN</td>\n    </tr>\n    <tr>\n      <th>50%</th>\n      <td>383.500000</td>\n      <td>NaN</td>\n      <td>NaN</td>\n      <td>2016.000000</td>\n      <td>25600.000000</td>\n      <td>70000.000000</td>\n      <td>NaN</td>\n    </tr>\n    <tr>\n      <th>75%</th>\n      <td>577.750000</td>\n      <td>NaN</td>\n      <td>NaN</td>\n      <td>2019.000000</td>\n      <td>45575.000000</td>\n      <td>150000.000000</td>\n      <td>NaN</td>\n    </tr>\n    <tr>\n      <th>max</th>\n      <td>859.000000</td>\n      <td>NaN</td>\n      <td>NaN</td>\n      <td>2024.000000</td>\n      <td>960000.000000</td>\n      <td>550000.000000</td>\n      <td>NaN</td>\n    </tr>\n  </tbody>\n</table>\n</div>"
     },
     "execution_count": 77,
     "metadata": {},
     "output_type": "execute_result"
    }
   ],
   "source": [
    "data.describe(include='all')"
   ],
   "metadata": {
    "collapsed": false,
    "ExecuteTime": {
     "end_time": "2024-05-23T17:12:34.883653500Z",
     "start_time": "2024-05-23T17:12:34.842067100Z"
    }
   },
   "id": "b975eb8dc8fe2339"
  },
  {
   "cell_type": "code",
   "execution_count": 78,
   "outputs": [],
   "source": [
    "#data=data[data['Price']<60000]"
   ],
   "metadata": {
    "collapsed": false,
    "ExecuteTime": {
     "end_time": "2024-05-23T17:12:35.821931400Z",
     "start_time": "2024-05-23T17:12:35.786297900Z"
    }
   },
   "id": "398f9eb9f2b6b9f"
  },
  {
   "cell_type": "code",
   "execution_count": 79,
   "outputs": [
    {
     "data": {
      "text/plain": "array(['Toyota', 'Honda', 'Mercedes-Benz', 'Lexus', 'BMW', 'Hyundai'],\n      dtype=object)"
     },
     "execution_count": 79,
     "metadata": {},
     "output_type": "execute_result"
    }
   ],
   "source": [
    "data['company'].unique()"
   ],
   "metadata": {
    "collapsed": false,
    "ExecuteTime": {
     "end_time": "2024-05-23T17:12:36.536785900Z",
     "start_time": "2024-05-23T17:12:36.505895300Z"
    }
   },
   "id": "185f7c3e063320aa"
  },
  {
   "cell_type": "code",
   "execution_count": 80,
   "outputs": [],
   "source": [
    "import pandas as pd\n",
    "import seaborn as sns\n",
    "import matplotlib.pyplot as plt"
   ],
   "metadata": {
    "collapsed": false,
    "ExecuteTime": {
     "end_time": "2024-05-23T17:12:38.352968100Z",
     "start_time": "2024-05-23T17:12:38.345957300Z"
    }
   },
   "id": "e6dfee204dc0fa2c"
  },
  {
   "cell_type": "code",
   "execution_count": 81,
   "outputs": [],
   "source": [
    "### Кодирование признаков\n"
   ],
   "metadata": {
    "collapsed": false,
    "ExecuteTime": {
     "end_time": "2024-05-23T17:12:39.065303500Z",
     "start_time": "2024-05-23T17:12:39.056604800Z"
    }
   },
   "id": "ba1c9cd218667be5"
  },
  {
   "cell_type": "code",
   "execution_count": 82,
   "outputs": [
    {
     "data": {
      "text/plain": "<Figure size 1000x800 with 2 Axes>",
      "image/png": "[encoded data removed]"
     },
     "metadata": {},
     "output_type": "display_data"
    }
   ],
   "source": [
    "# Вычисление корреляций\n",
    "numeric_cols = ['year', 'Price', 'kms_driven']\n",
    "corr_matrix = data[numeric_cols].corr()\n",
    "\n",
    "# Построение тепловой карты с помощью Seaborn\n",
    "plt.figure(figsize=(10, 8))\n",
    "sns.heatmap(corr_matrix, annot=True, cmap='coolwarm', vmin=-1, vmax=1)\n",
    "plt.title('Correlation Heatmap')\n",
    "plt.xticks(rotation=45)\n",
    "plt.yticks(rotation=0)\n",
    "plt.tight_layout()\n",
    "plt.show()"
   ],
   "metadata": {
    "collapsed": false,
    "ExecuteTime": {
     "end_time": "2024-05-23T17:12:39.876602100Z",
     "start_time": "2024-05-23T17:12:39.633328700Z"
    }
   },
   "id": "77b22224364d09f5"
  },
  {
   "cell_type": "markdown",
   "source": [
    "## Построение модели "
   ],
   "metadata": {
    "collapsed": false
   },
   "id": "36ea530917fb1b5b"
  },
  {
   "cell_type": "code",
   "execution_count": 83,
   "outputs": [],
   "source": [
    "X=data[['name','company','year','kms_driven','fuel_type']]\n",
    "y=data['Price']"
   ],
   "metadata": {
    "collapsed": false,
    "ExecuteTime": {
     "end_time": "2024-05-23T17:12:41.987517400Z",
     "start_time": "2024-05-23T17:12:41.964905100Z"
    }
   },
   "id": "f0d397863b903fd0"
  },
  {
   "cell_type": "code",
   "execution_count": 84,
   "outputs": [
    {
     "data": {
      "text/plain": "                     name company  year  kms_driven fuel_type\n0         Toyota Camry 55  Toyota  2015      150000    Hybrid\n1     Toyota Land Cruiser  Toyota  2015      145000    Petrol\n2         Toyota Camry 70  Toyota  2019      180246    Petrol\n3    Toyota Highlander IV  Toyota  2019      108000    Hybrid\n4        Toyota Crown XVI  Toyota  2023        7750    Hybrid\n..                    ...     ...   ...         ...       ...\n765             Honda Fit   Honda  2003      212000    Petrol\n766             Honda Fit   Honda  2003      212000    Petrol\n767             Honda Fit   Honda  2003      212000    Petrol\n768             Honda Fit   Honda  2003      212000    Petrol\n769             Honda Fit   Honda  2003      212000    Petrol\n\n[770 rows x 5 columns]",
      "text/html": "<div>\n<style scoped>\n    .dataframe tbody tr th:only-of-type {\n        vertical-align: middle;\n    }\n\n    .dataframe tbody tr th {\n        vertical-align: top;\n    }\n\n    .dataframe thead th {\n        text-align: right;\n    }\n</style>\n<table border=\"1\" class=\"dataframe\">\n  <thead>\n    <tr style=\"text-align: right;\">\n      <th></th>\n      <th>name</th>\n      <th>company</th>\n      <th>year</th>\n      <th>kms_driven</th>\n      <th>fuel_type</th>\n    </tr>\n  </thead>\n  <tbody>\n    <tr>\n      <th>0</th>\n      <td>Toyota Camry 55</td>\n      <td>Toyota</td>\n      <td>2015</td>\n      <td>150000</td>\n      <td>Hybrid</td>\n    </tr>\n    <tr>\n      <th>1</th>\n      <td>Toyota Land Cruiser</td>\n      <td>Toyota</td>\n      <td>2015</td>\n      <td>145000</td>\n      <td>Petrol</td>\n    </tr>\n    <tr>\n      <th>2</th>\n      <td>Toyota Camry 70</td>\n      <td>Toyota</td>\n      <td>2019</td>\n      <td>180246</td>\n      <td>Petrol</td>\n    </tr>\n    <tr>\n      <th>3</th>\n      <td>Toyota Highlander IV</td>\n      <td>Toyota</td>\n      <td>2019</td>\n      <td>108000</td>\n      <td>Hybrid</td>\n    </tr>\n    <tr>\n      <th>4</th>\n      <td>Toyota Crown XVI</td>\n      <td>Toyota</td>\n      <td>2023</td>\n      <td>7750</td>\n      <td>Hybrid</td>\n    </tr>\n    <tr>\n      <th>...</th>\n      <td>...</td>\n      <td>...</td>\n      <td>...</td>\n      <td>...</td>\n      <td>...</td>\n    </tr>\n    <tr>\n      <th>765</th>\n      <td>Honda Fit</td>\n      <td>Honda</td>\n      <td>2003</td>\n      <td>212000</td>\n      <td>Petrol</td>\n    </tr>\n    <tr>\n      <th>766</th>\n      <td>Honda Fit</td>\n      <td>Honda</td>\n      <td>2003</td>\n      <td>212000</td>\n      <td>Petrol</td>\n    </tr>\n    <tr>\n      <th>767</th>\n      <td>Honda Fit</td>\n      <td>Honda</td>\n      <td>2003</td>\n      <td>212000</td>\n      <td>Petrol</td>\n    </tr>\n    <tr>\n      <th>768</th>\n      <td>Honda Fit</td>\n      <td>Honda</td>\n      <td>2003</td>\n      <td>212000</td>\n      <td>Petrol</td>\n    </tr>\n    <tr>\n      <th>769</th>\n      <td>Honda Fit</td>\n      <td>Honda</td>\n      <td>2003</td>\n      <td>212000</td>\n      <td>Petrol</td>\n    </tr>\n  </tbody>\n</table>\n<p>770 rows × 5 columns</p>\n</div>"
     },
     "execution_count": 84,
     "metadata": {},
     "output_type": "execute_result"
    }
   ],
   "source": [
    "X"
   ],
   "metadata": {
    "collapsed": false,
    "ExecuteTime": {
     "end_time": "2024-05-23T17:12:42.769383900Z",
     "start_time": "2024-05-23T17:12:42.745358500Z"
    }
   },
   "id": "aef46a35a9e359e3"
  },
  {
   "cell_type": "code",
   "execution_count": 85,
   "outputs": [
    {
     "data": {
      "text/plain": "(770,)"
     },
     "execution_count": 85,
     "metadata": {},
     "output_type": "execute_result"
    }
   ],
   "source": [
    "y.shape"
   ],
   "metadata": {
    "collapsed": false,
    "ExecuteTime": {
     "end_time": "2024-05-23T17:12:44.632340800Z",
     "start_time": "2024-05-23T17:12:44.625265200Z"
    }
   },
   "id": "1559b53d21073f54"
  },
  {
   "cell_type": "code",
   "execution_count": 86,
   "outputs": [],
   "source": [
    "from sklearn.model_selection import train_test_split\n",
    "X_train,X_test,y_train,y_test=train_test_split(X,y,test_size=0.2)"
   ],
   "metadata": {
    "collapsed": false,
    "ExecuteTime": {
     "end_time": "2024-05-23T17:12:46.237687200Z",
     "start_time": "2024-05-23T17:12:46.230131600Z"
    }
   },
   "id": "4334f76629da5168"
  },
  {
   "cell_type": "code",
   "execution_count": 87,
   "outputs": [],
   "source": [
    "from sklearn.linear_model import LinearRegression\n",
    "from sklearn.ensemble import RandomForestRegressor"
   ],
   "metadata": {
    "collapsed": false,
    "ExecuteTime": {
     "end_time": "2024-05-23T17:12:47.148834400Z",
     "start_time": "2024-05-23T17:12:47.138529600Z"
    }
   },
   "id": "a6b22a135ccf5a76"
  },
  {
   "cell_type": "code",
   "execution_count": 88,
   "outputs": [],
   "source": [
    "from sklearn.preprocessing import OneHotEncoder\n",
    "from sklearn.compose import make_column_transformer\n",
    "from sklearn.pipeline import make_pipeline\n",
    "from sklearn.metrics import r2_score"
   ],
   "metadata": {
    "collapsed": false,
    "ExecuteTime": {
     "end_time": "2024-05-23T17:12:48.145569100Z",
     "start_time": "2024-05-23T17:12:48.138049400Z"
    }
   },
   "id": "9be2638cdb1646ff"
  },
  {
   "cell_type": "code",
   "execution_count": 89,
   "outputs": [
    {
     "data": {
      "text/plain": "OneHotEncoder()",
      "text/html": "<style>#sk-container-id-4 {color: black;}#sk-container-id-4 pre{padding: 0;}#sk-container-id-4 div.sk-toggleable {background-color: white;}#sk-container-id-4 label.sk-toggleable__label {cursor: pointer;display: block;width: 100%;margin-bottom: 0;padding: 0.3em;box-sizing: border-box;text-align: center;}#sk-container-id-4 label.sk-toggleable__label-arrow:before {content: \"▸\";float: left;margin-right: 0.25em;color: #696969;}#sk-container-id-4 label.sk-toggleable__label-arrow:hover:before {color: black;}#sk-container-id-4 div.sk-estimator:hover label.sk-toggleable__label-arrow:before {color: black;}#sk-container-id-4 div.sk-toggleable__content {max-height: 0;max-width: 0;overflow: hidden;text-align: left;background-color: #f0f8ff;}#sk-container-id-4 div.sk-toggleable__content pre {margin: 0.2em;color: black;border-radius: 0.25em;background-color: #f0f8ff;}#sk-container-id-4 input.sk-toggleable__control:checked~div.sk-toggleable__content {max-height: 200px;max-width: 100%;overflow: auto;}#sk-container-id-4 input.sk-toggleable__control:checked~label.sk-toggleable__label-arrow:before {content: \"▾\";}#sk-container-id-4 div.sk-estimator input.sk-toggleable__control:checked~label.sk-toggleable__label {background-color: #d4ebff;}#sk-container-id-4 div.sk-label input.sk-toggleable__control:checked~label.sk-toggleable__label {background-color: #d4ebff;}#sk-container-id-4 input.sk-hidden--visually {border: 0;clip: rect(1px 1px 1px 1px);clip: rect(1px, 1px, 1px, 1px);height: 1px;margin: -1px;overflow: hidden;padding: 0;position: absolute;width: 1px;}#sk-container-id-4 div.sk-estimator {font-family: monospace;background-color: #f0f8ff;border: 1px dotted black;border-radius: 0.25em;box-sizing: border-box;margin-bottom: 0.5em;}#sk-container-id-4 div.sk-estimator:hover {background-color: #d4ebff;}#sk-container-id-4 div.sk-parallel-item::after {content: \"\";width: 100%;border-bottom: 1px solid gray;flex-grow: 1;}#sk-container-id-4 div.sk-label:hover label.sk-toggleable__label {background-color: #d4ebff;}#sk-container-id-4 div.sk-serial::before {content: \"\";position: absolute;border-left: 1px solid gray;box-sizing: border-box;top: 0;bottom: 0;left: 50%;z-index: 0;}#sk-container-id-4 div.sk-serial {display: flex;flex-direction: column;align-items: center;background-color: white;padding-right: 0.2em;padding-left: 0.2em;position: relative;}#sk-container-id-4 div.sk-item {position: relative;z-index: 1;}#sk-container-id-4 div.sk-parallel {display: flex;align-items: stretch;justify-content: center;background-color: white;position: relative;}#sk-container-id-4 div.sk-item::before, #sk-container-id-4 div.sk-parallel-item::before {content: \"\";position: absolute;border-left: 1px solid gray;box-sizing: border-box;top: 0;bottom: 0;left: 50%;z-index: -1;}#sk-container-id-4 div.sk-parallel-item {display: flex;flex-direction: column;z-index: 1;position: relative;background-color: white;}#sk-container-id-4 div.sk-parallel-item:first-child::after {align-self: flex-end;width: 50%;}#sk-container-id-4 div.sk-parallel-item:last-child::after {align-self: flex-start;width: 50%;}#sk-container-id-4 div.sk-parallel-item:only-child::after {width: 0;}#sk-container-id-4 div.sk-dashed-wrapped {border: 1px dashed gray;margin: 0 0.4em 0.5em 0.4em;box-sizing: border-box;padding-bottom: 0.4em;background-color: white;}#sk-container-id-4 div.sk-label label {font-family: monospace;font-weight: bold;display: inline-block;line-height: 1.2em;}#sk-container-id-4 div.sk-label-container {text-align: center;}#sk-container-id-4 div.sk-container {/* jupyter's `normalize.less` sets `[hidden] { display: none; }` but bootstrap.min.css set `[hidden] { display: none !important; }` so we also need the `!important` here to be able to override the default hidden behavior on the sphinx rendered scikit-learn.org. See: https://github.com/scikit-learn/scikit-learn/issues/21755 */display: inline-block !important;position: relative;}#sk-container-id-4 div.sk-text-repr-fallback {display: none;}</style><div id=\"sk-container-id-4\" class=\"sk-top-container\"><div class=\"sk-text-repr-fallback\"><pre>OneHotEncoder()</pre><b>In a Jupyter environment, please rerun this cell to show the HTML representation or trust the notebook. <br />On GitHub, the HTML representation is unable to render, please try loading this page with nbviewer.org.</b></div><div class=\"sk-container\" hidden><div class=\"sk-item\"><div class=\"sk-estimator sk-toggleable\"><input class=\"sk-toggleable__control sk-hidden--visually\" id=\"sk-estimator-id-16\" type=\"checkbox\" checked><label for=\"sk-estimator-id-16\" class=\"sk-toggleable__label sk-toggleable__label-arrow\">OneHotEncoder</label><div class=\"sk-toggleable__content\"><pre>OneHotEncoder()</pre></div></div></div></div></div>"
     },
     "execution_count": 89,
     "metadata": {},
     "output_type": "execute_result"
    }
   ],
   "source": [
    "ohe=OneHotEncoder()\n",
    "ohe.fit(X[['name','company','fuel_type']])"
   ],
   "metadata": {
    "collapsed": false,
    "ExecuteTime": {
     "end_time": "2024-05-23T17:12:49.058408Z",
     "start_time": "2024-05-23T17:12:49.024859800Z"
    }
   },
   "id": "fb891f939194ee8a"
  },
  {
   "cell_type": "code",
   "execution_count": 90,
   "outputs": [],
   "source": [
    "column_trans=make_column_transformer((OneHotEncoder(categories=ohe.categories_),['name','company','fuel_type']),\n",
    "                                    remainder='passthrough')"
   ],
   "metadata": {
    "collapsed": false,
    "ExecuteTime": {
     "end_time": "2024-05-23T17:12:50.874705200Z",
     "start_time": "2024-05-23T17:12:50.867136300Z"
    }
   },
   "id": "5ae6309b4bbcf4ee"
  },
  {
   "cell_type": "code",
   "execution_count": 91,
   "outputs": [],
   "source": [
    "lr=LinearRegression()"
   ],
   "metadata": {
    "collapsed": false,
    "ExecuteTime": {
     "end_time": "2024-05-23T17:12:51.540676300Z",
     "start_time": "2024-05-23T17:12:51.531393200Z"
    }
   },
   "id": "dad21e737bce5a83"
  },
  {
   "cell_type": "code",
   "execution_count": 92,
   "outputs": [],
   "source": [
    "pipe=make_pipeline(column_trans,lr)"
   ],
   "metadata": {
    "collapsed": false,
    "ExecuteTime": {
     "end_time": "2024-05-23T17:12:52.007698600Z",
     "start_time": "2024-05-23T17:12:51.998692400Z"
    }
   },
   "id": "f544855a2b7b15d9"
  },
  {
   "cell_type": "code",
   "execution_count": 93,
   "outputs": [
    {
     "data": {
      "text/plain": "Pipeline(steps=[('columntransformer',\n                 ColumnTransformer(remainder='passthrough',\n                                   transformers=[('onehotencoder',\n                                                  OneHotEncoder(categories=[array(['BMW 116i', 'BMW 118d', 'BMW 118d Hatchback', 'BMW 118i',\n       'BMW 125d', 'BMW 125d Hatchback', 'BMW 125i',\n       'BMW 125i Convertible', 'BMW 218i Gran', 'BMW 220d',\n       'BMW 220d Gran', 'BMW 220i', 'BMW 220i Convertible',\n       'BMW 225xe Active', 'BMW 318d', 'B...\n       'Toyota Sequoia I', 'Toyota Supra 2.0', 'Toyota Supra 3.0',\n       'Toyota Supra A91', 'Toyota Supra GR', 'Toyota Yaris Hatchback',\n       'Toyota Yaris LE', 'Toyota Yaris Sedan'], dtype=object),\n                                                                            array(['BMW', 'Honda', 'Hyundai', 'Lexus', 'Mercedes-Benz', 'Toyota'],\n      dtype=object),\n                                                                            array([' Petrol', 'Diesel', 'Electric', 'Hybrid', 'Hydrogen', 'LPG',\n       'Petrol'], dtype=object)]),\n                                                  ['name', 'company',\n                                                   'fuel_type'])])),\n                ('linearregression', LinearRegression())])",
      "text/html": "<style>#sk-container-id-5 {color: black;}#sk-container-id-5 pre{padding: 0;}#sk-container-id-5 div.sk-toggleable {background-color: white;}#sk-container-id-5 label.sk-toggleable__label {cursor: pointer;display: block;width: 100%;margin-bottom: 0;padding: 0.3em;box-sizing: border-box;text-align: center;}#sk-container-id-5 label.sk-toggleable__label-arrow:before {content: \"▸\";float: left;margin-right: 0.25em;color: #696969;}#sk-container-id-5 label.sk-toggleable__label-arrow:hover:before {color: black;}#sk-container-id-5 div.sk-estimator:hover label.sk-toggleable__label-arrow:before {color: black;}#sk-container-id-5 div.sk-toggleable__content {max-height: 0;max-width: 0;overflow: hidden;text-align: left;background-color: #f0f8ff;}#sk-container-id-5 div.sk-toggleable__content pre {margin: 0.2em;color: black;border-radius: 0.25em;background-color: #f0f8ff;}#sk-container-id-5 input.sk-toggleable__control:checked~div.sk-toggleable__content {max-height: 200px;max-width: 100%;overflow: auto;}#sk-container-id-5 input.sk-toggleable__control:checked~label.sk-toggleable__label-arrow:before {content: \"▾\";}#sk-container-id-5 div.sk-estimator input.sk-toggleable__control:checked~label.sk-toggleable__label {background-color: #d4ebff;}#sk-container-id-5 div.sk-label input.sk-toggleable__control:checked~label.sk-toggleable__label {background-color: #d4ebff;}#sk-container-id-5 input.sk-hidden--visually {border: 0;clip: rect(1px 1px 1px 1px);clip: rect(1px, 1px, 1px, 1px);height: 1px;margin: -1px;overflow: hidden;padding: 0;position: absolute;width: 1px;}#sk-container-id-5 div.sk-estimator {font-family: monospace;background-color: #f0f8ff;border: 1px dotted black;border-radius: 0.25em;box-sizing: border-box;margin-bottom: 0.5em;}#sk-container-id-5 div.sk-estimator:hover {background-color: #d4ebff;}#sk-container-id-5 div.sk-parallel-item::after {content: \"\";width: 100%;border-bottom: 1px solid gray;flex-grow: 1;}#sk-container-id-5 div.sk-label:hover label.sk-toggleable__label {background-color: #d4ebff;}#sk-container-id-5 div.sk-serial::before {content: \"\";position: absolute;border-left: 1px solid gray;box-sizing: border-box;top: 0;bottom: 0;left: 50%;z-index: 0;}#sk-container-id-5 div.sk-serial {display: flex;flex-direction: column;align-items: center;background-color: white;padding-right: 0.2em;padding-left: 0.2em;position: relative;}#sk-container-id-5 div.sk-item {position: relative;z-index: 1;}#sk-container-id-5 div.sk-parallel {display: flex;align-items: stretch;justify-content: center;background-color: white;position: relative;}#sk-container-id-5 div.sk-item::before, #sk-container-id-5 div.sk-parallel-item::before {content: \"\";position: absolute;border-left: 1px solid gray;box-sizing: border-box;top: 0;bottom: 0;left: 50%;z-index: -1;}#sk-container-id-5 div.sk-parallel-item {display: flex;flex-direction: column;z-index: 1;position: relative;background-color: white;}#sk-container-id-5 div.sk-parallel-item:first-child::after {align-self: flex-end;width: 50%;}#sk-container-id-5 div.sk-parallel-item:last-child::after {align-self: flex-start;width: 50%;}#sk-container-id-5 div.sk-parallel-item:only-child::after {width: 0;}#sk-container-id-5 div.sk-dashed-wrapped {border: 1px dashed gray;margin: 0 0.4em 0.5em 0.4em;box-sizing: border-box;padding-bottom: 0.4em;background-color: white;}#sk-container-id-5 div.sk-label label {font-family: monospace;font-weight: bold;display: inline-block;line-height: 1.2em;}#sk-container-id-5 div.sk-label-container {text-align: center;}#sk-container-id-5 div.sk-container {/* jupyter's `normalize.less` sets `[hidden] { display: none; }` but bootstrap.min.css set `[hidden] { display: none !important; }` so we also need the `!important` here to be able to override the default hidden behavior on the sphinx rendered scikit-learn.org. See: https://github.com/scikit-learn/scikit-learn/issues/21755 */display: inline-block !important;position: relative;}#sk-container-id-5 div.sk-text-repr-fallback {display: none;}</style><div id=\"sk-container-id-5\" class=\"sk-top-container\"><div class=\"sk-text-repr-fallback\"><pre>Pipeline(steps=[(&#x27;columntransformer&#x27;,\n                 ColumnTransformer(remainder=&#x27;passthrough&#x27;,\n                                   transformers=[(&#x27;onehotencoder&#x27;,\n                                                  OneHotEncoder(categories=[array([&#x27;BMW 116i&#x27;, &#x27;BMW 118d&#x27;, &#x27;BMW 118d Hatchback&#x27;, &#x27;BMW 118i&#x27;,\n       &#x27;BMW 125d&#x27;, &#x27;BMW 125d Hatchback&#x27;, &#x27;BMW 125i&#x27;,\n       &#x27;BMW 125i Convertible&#x27;, &#x27;BMW 218i Gran&#x27;, &#x27;BMW 220d&#x27;,\n       &#x27;BMW 220d Gran&#x27;, &#x27;BMW 220i&#x27;, &#x27;BMW 220i Convertible&#x27;,\n       &#x27;BMW 225xe Active&#x27;, &#x27;BMW 318d&#x27;, &#x27;B...\n       &#x27;Toyota Sequoia I&#x27;, &#x27;Toyota Supra 2.0&#x27;, &#x27;Toyota Supra 3.0&#x27;,\n       &#x27;Toyota Supra A91&#x27;, &#x27;Toyota Supra GR&#x27;, &#x27;Toyota Yaris Hatchback&#x27;,\n       &#x27;Toyota Yaris LE&#x27;, &#x27;Toyota Yaris Sedan&#x27;], dtype=object),\n                                                                            array([&#x27;BMW&#x27;, &#x27;Honda&#x27;, &#x27;Hyundai&#x27;, &#x27;Lexus&#x27;, &#x27;Mercedes-Benz&#x27;, &#x27;Toyota&#x27;],\n      dtype=object),\n                                                                            array([&#x27; Petrol&#x27;, &#x27;Diesel&#x27;, &#x27;Electric&#x27;, &#x27;Hybrid&#x27;, &#x27;Hydrogen&#x27;, &#x27;LPG&#x27;,\n       &#x27;Petrol&#x27;], dtype=object)]),\n                                                  [&#x27;name&#x27;, &#x27;company&#x27;,\n                                                   &#x27;fuel_type&#x27;])])),\n                (&#x27;linearregression&#x27;, LinearRegression())])</pre><b>In a Jupyter environment, please rerun this cell to show the HTML representation or trust the notebook. <br />On GitHub, the HTML representation is unable to render, please try loading this page with nbviewer.org.</b></div><div class=\"sk-container\" hidden><div class=\"sk-item sk-dashed-wrapped\"><div class=\"sk-label-container\"><div class=\"sk-label sk-toggleable\"><input class=\"sk-toggleable__control sk-hidden--visually\" id=\"sk-estimator-id-17\" type=\"checkbox\" ><label for=\"sk-estimator-id-17\" class=\"sk-toggleable__label sk-toggleable__label-arrow\">Pipeline</label><div class=\"sk-toggleable__content\"><pre>Pipeline(steps=[(&#x27;columntransformer&#x27;,\n                 ColumnTransformer(remainder=&#x27;passthrough&#x27;,\n                                   transformers=[(&#x27;onehotencoder&#x27;,\n                                                  OneHotEncoder(categories=[array([&#x27;BMW 116i&#x27;, &#x27;BMW 118d&#x27;, &#x27;BMW 118d Hatchback&#x27;, &#x27;BMW 118i&#x27;,\n       &#x27;BMW 125d&#x27;, &#x27;BMW 125d Hatchback&#x27;, &#x27;BMW 125i&#x27;,\n       &#x27;BMW 125i Convertible&#x27;, &#x27;BMW 218i Gran&#x27;, &#x27;BMW 220d&#x27;,\n       &#x27;BMW 220d Gran&#x27;, &#x27;BMW 220i&#x27;, &#x27;BMW 220i Convertible&#x27;,\n       &#x27;BMW 225xe Active&#x27;, &#x27;BMW 318d&#x27;, &#x27;B...\n       &#x27;Toyota Sequoia I&#x27;, &#x27;Toyota Supra 2.0&#x27;, &#x27;Toyota Supra 3.0&#x27;,\n       &#x27;Toyota Supra A91&#x27;, &#x27;Toyota Supra GR&#x27;, &#x27;Toyota Yaris Hatchback&#x27;,\n       &#x27;Toyota Yaris LE&#x27;, &#x27;Toyota Yaris Sedan&#x27;], dtype=object),\n                                                                            array([&#x27;BMW&#x27;, &#x27;Honda&#x27;, &#x27;Hyundai&#x27;, &#x27;Lexus&#x27;, &#x27;Mercedes-Benz&#x27;, &#x27;Toyota&#x27;],\n      dtype=object),\n                                                                            array([&#x27; Petrol&#x27;, &#x27;Diesel&#x27;, &#x27;Electric&#x27;, &#x27;Hybrid&#x27;, &#x27;Hydrogen&#x27;, &#x27;LPG&#x27;,\n       &#x27;Petrol&#x27;], dtype=object)]),\n                                                  [&#x27;name&#x27;, &#x27;company&#x27;,\n                                                   &#x27;fuel_type&#x27;])])),\n                (&#x27;linearregression&#x27;, LinearRegression())])</pre></div></div></div><div class=\"sk-serial\"><div class=\"sk-item sk-dashed-wrapped\"><div class=\"sk-label-container\"><div class=\"sk-label sk-toggleable\"><input class=\"sk-toggleable__control sk-hidden--visually\" id=\"sk-estimator-id-18\" type=\"checkbox\" ><label for=\"sk-estimator-id-18\" class=\"sk-toggleable__label sk-toggleable__label-arrow\">columntransformer: ColumnTransformer</label><div class=\"sk-toggleable__content\"><pre>ColumnTransformer(remainder=&#x27;passthrough&#x27;,\n                  transformers=[(&#x27;onehotencoder&#x27;,\n                                 OneHotEncoder(categories=[array([&#x27;BMW 116i&#x27;, &#x27;BMW 118d&#x27;, &#x27;BMW 118d Hatchback&#x27;, &#x27;BMW 118i&#x27;,\n       &#x27;BMW 125d&#x27;, &#x27;BMW 125d Hatchback&#x27;, &#x27;BMW 125i&#x27;,\n       &#x27;BMW 125i Convertible&#x27;, &#x27;BMW 218i Gran&#x27;, &#x27;BMW 220d&#x27;,\n       &#x27;BMW 220d Gran&#x27;, &#x27;BMW 220i&#x27;, &#x27;BMW 220i Convertible&#x27;,\n       &#x27;BMW 225xe Active&#x27;, &#x27;BMW 318d&#x27;, &#x27;BMW 318d Touring&#x27;,\n       &#x27;BMW 318i Touring&#x27;, &#x27;BMW 3...\n       &#x27;Toyota Sequoia I&#x27;, &#x27;Toyota Supra 2.0&#x27;, &#x27;Toyota Supra 3.0&#x27;,\n       &#x27;Toyota Supra A91&#x27;, &#x27;Toyota Supra GR&#x27;, &#x27;Toyota Yaris Hatchback&#x27;,\n       &#x27;Toyota Yaris LE&#x27;, &#x27;Toyota Yaris Sedan&#x27;], dtype=object),\n                                                           array([&#x27;BMW&#x27;, &#x27;Honda&#x27;, &#x27;Hyundai&#x27;, &#x27;Lexus&#x27;, &#x27;Mercedes-Benz&#x27;, &#x27;Toyota&#x27;],\n      dtype=object),\n                                                           array([&#x27; Petrol&#x27;, &#x27;Diesel&#x27;, &#x27;Electric&#x27;, &#x27;Hybrid&#x27;, &#x27;Hydrogen&#x27;, &#x27;LPG&#x27;,\n       &#x27;Petrol&#x27;], dtype=object)]),\n                                 [&#x27;name&#x27;, &#x27;company&#x27;, &#x27;fuel_type&#x27;])])</pre></div></div></div><div class=\"sk-parallel\"><div class=\"sk-parallel-item\"><div class=\"sk-item\"><div class=\"sk-label-container\"><div class=\"sk-label sk-toggleable\"><input class=\"sk-toggleable__control sk-hidden--visually\" id=\"sk-estimator-id-19\" type=\"checkbox\" ><label for=\"sk-estimator-id-19\" class=\"sk-toggleable__label sk-toggleable__label-arrow\">onehotencoder</label><div class=\"sk-toggleable__content\"><pre>[&#x27;name&#x27;, &#x27;company&#x27;, &#x27;fuel_type&#x27;]</pre></div></div></div><div class=\"sk-serial\"><div class=\"sk-item\"><div class=\"sk-estimator sk-toggleable\"><input class=\"sk-toggleable__control sk-hidden--visually\" id=\"sk-estimator-id-20\" type=\"checkbox\" ><label for=\"sk-estimator-id-20\" class=\"sk-toggleable__label sk-toggleable__label-arrow\">OneHotEncoder</label><div class=\"sk-toggleable__content\"><pre>OneHotEncoder(categories=[array([&#x27;BMW 116i&#x27;, &#x27;BMW 118d&#x27;, &#x27;BMW 118d Hatchback&#x27;, &#x27;BMW 118i&#x27;,\n       &#x27;BMW 125d&#x27;, &#x27;BMW 125d Hatchback&#x27;, &#x27;BMW 125i&#x27;,\n       &#x27;BMW 125i Convertible&#x27;, &#x27;BMW 218i Gran&#x27;, &#x27;BMW 220d&#x27;,\n       &#x27;BMW 220d Gran&#x27;, &#x27;BMW 220i&#x27;, &#x27;BMW 220i Convertible&#x27;,\n       &#x27;BMW 225xe Active&#x27;, &#x27;BMW 318d&#x27;, &#x27;BMW 318d Touring&#x27;,\n       &#x27;BMW 318i Touring&#x27;, &#x27;BMW 320d Gran&#x27;, &#x27;BMW 320d xDrive&#x27;, &#x27;BMW 320i&#x27;,\n       &#x27;BMW 320i Touring&#x27;, &#x27;BMW 330d Touring&#x27;, &#x27;BMW...\n       &#x27;Toyota RAV4&#x27;, &#x27;Toyota RAV4 V&#x27;, &#x27;Toyota Sequoia&#x27;,\n       &#x27;Toyota Sequoia I&#x27;, &#x27;Toyota Supra 2.0&#x27;, &#x27;Toyota Supra 3.0&#x27;,\n       &#x27;Toyota Supra A91&#x27;, &#x27;Toyota Supra GR&#x27;, &#x27;Toyota Yaris Hatchback&#x27;,\n       &#x27;Toyota Yaris LE&#x27;, &#x27;Toyota Yaris Sedan&#x27;], dtype=object),\n                          array([&#x27;BMW&#x27;, &#x27;Honda&#x27;, &#x27;Hyundai&#x27;, &#x27;Lexus&#x27;, &#x27;Mercedes-Benz&#x27;, &#x27;Toyota&#x27;],\n      dtype=object),\n                          array([&#x27; Petrol&#x27;, &#x27;Diesel&#x27;, &#x27;Electric&#x27;, &#x27;Hybrid&#x27;, &#x27;Hydrogen&#x27;, &#x27;LPG&#x27;,\n       &#x27;Petrol&#x27;], dtype=object)])</pre></div></div></div></div></div></div><div class=\"sk-parallel-item\"><div class=\"sk-item\"><div class=\"sk-label-container\"><div class=\"sk-label sk-toggleable\"><input class=\"sk-toggleable__control sk-hidden--visually\" id=\"sk-estimator-id-21\" type=\"checkbox\" ><label for=\"sk-estimator-id-21\" class=\"sk-toggleable__label sk-toggleable__label-arrow\">remainder</label><div class=\"sk-toggleable__content\"><pre>[&#x27;year&#x27;, &#x27;kms_driven&#x27;]</pre></div></div></div><div class=\"sk-serial\"><div class=\"sk-item\"><div class=\"sk-estimator sk-toggleable\"><input class=\"sk-toggleable__control sk-hidden--visually\" id=\"sk-estimator-id-22\" type=\"checkbox\" ><label for=\"sk-estimator-id-22\" class=\"sk-toggleable__label sk-toggleable__label-arrow\">passthrough</label><div class=\"sk-toggleable__content\"><pre>passthrough</pre></div></div></div></div></div></div></div></div><div class=\"sk-item\"><div class=\"sk-estimator sk-toggleable\"><input class=\"sk-toggleable__control sk-hidden--visually\" id=\"sk-estimator-id-23\" type=\"checkbox\" ><label for=\"sk-estimator-id-23\" class=\"sk-toggleable__label sk-toggleable__label-arrow\">LinearRegression</label><div class=\"sk-toggleable__content\"><pre>LinearRegression()</pre></div></div></div></div></div></div></div>"
     },
     "execution_count": 93,
     "metadata": {},
     "output_type": "execute_result"
    }
   ],
   "source": [
    "pipe.fit(X_train,y_train)"
   ],
   "metadata": {
    "collapsed": false,
    "ExecuteTime": {
     "end_time": "2024-05-23T17:12:53.030700300Z",
     "start_time": "2024-05-23T17:12:52.901701300Z"
    }
   },
   "id": "3514a35857ca3ae7"
  },
  {
   "cell_type": "code",
   "execution_count": 94,
   "outputs": [],
   "source": [
    "y_pred=pipe.predict(X_test)"
   ],
   "metadata": {
    "collapsed": false,
    "ExecuteTime": {
     "end_time": "2024-05-23T17:12:54.430909600Z",
     "start_time": "2024-05-23T17:12:54.412790100Z"
    }
   },
   "id": "4abe38704cc9d650"
  },
  {
   "cell_type": "code",
   "execution_count": 95,
   "outputs": [
    {
     "data": {
      "text/plain": "0.42320415798027133"
     },
     "execution_count": 95,
     "metadata": {},
     "output_type": "execute_result"
    }
   ],
   "source": [
    "r2_score(y_test,y_pred)"
   ],
   "metadata": {
    "collapsed": false,
    "ExecuteTime": {
     "end_time": "2024-05-23T17:12:55.286477300Z",
     "start_time": "2024-05-23T17:12:55.266467700Z"
    }
   },
   "id": "89f20eeadda5370a"
  },
  {
   "cell_type": "code",
   "execution_count": 96,
   "outputs": [],
   "source": [
    "scores=[]\n",
    "for i in range(1000):\n",
    "    X_train,X_test,y_train,y_test=train_test_split(X,y,test_size=0.1,random_state=i)\n",
    "    lr=LinearRegression()\n",
    "    pipe=make_pipeline(column_trans,lr)\n",
    "    pipe.fit(X_train,y_train)\n",
    "    y_pred=pipe.predict(X_test)\n",
    "    scores.append(r2_score(y_test,y_pred))"
   ],
   "metadata": {
    "collapsed": false,
    "ExecuteTime": {
     "end_time": "2024-05-23T17:13:16.270326300Z",
     "start_time": "2024-05-23T17:13:06.494263Z"
    }
   },
   "id": "4f99868892c30304"
  },
  {
   "cell_type": "code",
   "execution_count": 97,
   "outputs": [
    {
     "data": {
      "text/plain": "891"
     },
     "execution_count": 97,
     "metadata": {},
     "output_type": "execute_result"
    }
   ],
   "source": [
    "np.argmax(scores)"
   ],
   "metadata": {
    "collapsed": false,
    "ExecuteTime": {
     "end_time": "2024-05-23T17:13:18.273496200Z",
     "start_time": "2024-05-23T17:13:18.253633600Z"
    }
   },
   "id": "9a7a2e6bfc73099b"
  },
  {
   "cell_type": "code",
   "execution_count": 98,
   "outputs": [
    {
     "data": {
      "text/plain": "0.6842143084515326"
     },
     "execution_count": 98,
     "metadata": {},
     "output_type": "execute_result"
    }
   ],
   "source": [
    "scores[np.argmax(scores)]"
   ],
   "metadata": {
    "collapsed": false,
    "ExecuteTime": {
     "end_time": "2024-05-23T17:13:19.719788600Z",
     "start_time": "2024-05-23T17:13:19.698355900Z"
    }
   },
   "id": "956ab45b7677738"
  },
  {
   "cell_type": "code",
   "execution_count": 99,
   "outputs": [
    {
     "data": {
      "text/plain": "array([46751.8155174])"
     },
     "execution_count": 99,
     "metadata": {},
     "output_type": "execute_result"
    }
   ],
   "source": [
    "pipe.predict(pd.DataFrame(columns=X_test.columns,data=np.array(['Toyota Camry 75','Toyota',2023,30500,'Petrol']).reshape(1,5)))"
   ],
   "metadata": {
    "collapsed": false,
    "ExecuteTime": {
     "end_time": "2024-05-23T17:13:21.837341200Z",
     "start_time": "2024-05-23T17:13:21.816639900Z"
    }
   },
   "id": "662d8c2d854b9569"
  },
  {
   "cell_type": "code",
   "execution_count": 100,
   "outputs": [
    {
     "data": {
      "text/plain": "0.6842143084515326"
     },
     "execution_count": 100,
     "metadata": {},
     "output_type": "execute_result"
    }
   ],
   "source": [
    "X_train,X_test,y_train,y_test=train_test_split(X,y,test_size=0.1,random_state=np.argmax(scores))\n",
    "lr=LinearRegression()\n",
    "pipe=make_pipeline(column_trans,lr)\n",
    "pipe.fit(X_train,y_train)\n",
    "y_pred=pipe.predict(X_test)\n",
    "r2_score(y_test,y_pred)"
   ],
   "metadata": {
    "collapsed": false,
    "ExecuteTime": {
     "end_time": "2024-05-23T17:13:45.347428400Z",
     "start_time": "2024-05-23T17:13:45.325179Z"
    }
   },
   "id": "5dd9fb96a59a9bab"
  },
  {
   "cell_type": "markdown",
   "source": [
    "## RandomForest"
   ],
   "metadata": {
    "collapsed": false
   },
   "id": "7b67d98c40b395e2"
  },
  {
   "cell_type": "code",
   "execution_count": 101,
   "outputs": [],
   "source": [
    "from sklearn.ensemble import RandomForestRegressor\n",
    "from sklearn.pipeline import make_pipeline\n",
    "from sklearn.model_selection import train_test_split\n",
    "from sklearn.metrics import r2_score\n",
    "import numpy as np\n"
   ],
   "metadata": {
    "collapsed": false,
    "ExecuteTime": {
     "end_time": "2024-05-23T17:13:49.730544Z",
     "start_time": "2024-05-23T17:13:49.723990700Z"
    }
   },
   "id": "a9403f216584c9ab"
  },
  {
   "cell_type": "code",
   "execution_count": 102,
   "outputs": [],
   "source": [
    "X_train, X_test, y_train, y_test = train_test_split(X, y, test_size=0.1, random_state=np.argmax(scores))\n"
   ],
   "metadata": {
    "collapsed": false,
    "ExecuteTime": {
     "end_time": "2024-05-23T17:13:50.627903100Z",
     "start_time": "2024-05-23T17:13:50.618447600Z"
    }
   },
   "id": "8601d1e5cfca0c9a"
  },
  {
   "cell_type": "code",
   "execution_count": 103,
   "outputs": [],
   "source": [
    "rf = RandomForestRegressor(random_state=42)\n"
   ],
   "metadata": {
    "collapsed": false,
    "ExecuteTime": {
     "end_time": "2024-05-23T17:13:51.222264900Z",
     "start_time": "2024-05-23T17:13:51.212732Z"
    }
   },
   "id": "37450b1a45bf20ea"
  },
  {
   "cell_type": "code",
   "execution_count": 104,
   "outputs": [],
   "source": [
    "pipe = make_pipeline(column_trans, rf)\n"
   ],
   "metadata": {
    "collapsed": false,
    "ExecuteTime": {
     "end_time": "2024-05-23T17:13:51.772435900Z",
     "start_time": "2024-05-23T17:13:51.765399700Z"
    }
   },
   "id": "ee40e82f1d6a40f9"
  },
  {
   "cell_type": "code",
   "execution_count": 105,
   "outputs": [
    {
     "data": {
      "text/plain": "Pipeline(steps=[('columntransformer',\n                 ColumnTransformer(remainder='passthrough',\n                                   transformers=[('onehotencoder',\n                                                  OneHotEncoder(categories=[array(['BMW 116i', 'BMW 118d', 'BMW 118d Hatchback', 'BMW 118i',\n       'BMW 125d', 'BMW 125d Hatchback', 'BMW 125i',\n       'BMW 125i Convertible', 'BMW 218i Gran', 'BMW 220d',\n       'BMW 220d Gran', 'BMW 220i', 'BMW 220i Convertible',\n       'BMW 225xe Active', 'BMW 318d', 'B...\n       'Toyota Supra A91', 'Toyota Supra GR', 'Toyota Yaris Hatchback',\n       'Toyota Yaris LE', 'Toyota Yaris Sedan'], dtype=object),\n                                                                            array(['BMW', 'Honda', 'Hyundai', 'Lexus', 'Mercedes-Benz', 'Toyota'],\n      dtype=object),\n                                                                            array([' Petrol', 'Diesel', 'Electric', 'Hybrid', 'Hydrogen', 'LPG',\n       'Petrol'], dtype=object)]),\n                                                  ['name', 'company',\n                                                   'fuel_type'])])),\n                ('randomforestregressor',\n                 RandomForestRegressor(random_state=42))])",
      "text/html": "<style>#sk-container-id-6 {color: black;}#sk-container-id-6 pre{padding: 0;}#sk-container-id-6 div.sk-toggleable {background-color: white;}#sk-container-id-6 label.sk-toggleable__label {cursor: pointer;display: block;width: 100%;margin-bottom: 0;padding: 0.3em;box-sizing: border-box;text-align: center;}#sk-container-id-6 label.sk-toggleable__label-arrow:before {content: \"▸\";float: left;margin-right: 0.25em;color: #696969;}#sk-container-id-6 label.sk-toggleable__label-arrow:hover:before {color: black;}#sk-container-id-6 div.sk-estimator:hover label.sk-toggleable__label-arrow:before {color: black;}#sk-container-id-6 div.sk-toggleable__content {max-height: 0;max-width: 0;overflow: hidden;text-align: left;background-color: #f0f8ff;}#sk-container-id-6 div.sk-toggleable__content pre {margin: 0.2em;color: black;border-radius: 0.25em;background-color: #f0f8ff;}#sk-container-id-6 input.sk-toggleable__control:checked~div.sk-toggleable__content {max-height: 200px;max-width: 100%;overflow: auto;}#sk-container-id-6 input.sk-toggleable__control:checked~label.sk-toggleable__label-arrow:before {content: \"▾\";}#sk-container-id-6 div.sk-estimator input.sk-toggleable__control:checked~label.sk-toggleable__label {background-color: #d4ebff;}#sk-container-id-6 div.sk-label input.sk-toggleable__control:checked~label.sk-toggleable__label {background-color: #d4ebff;}#sk-container-id-6 input.sk-hidden--visually {border: 0;clip: rect(1px 1px 1px 1px);clip: rect(1px, 1px, 1px, 1px);height: 1px;margin: -1px;overflow: hidden;padding: 0;position: absolute;width: 1px;}#sk-container-id-6 div.sk-estimator {font-family: monospace;background-color: #f0f8ff;border: 1px dotted black;border-radius: 0.25em;box-sizing: border-box;margin-bottom: 0.5em;}#sk-container-id-6 div.sk-estimator:hover {background-color: #d4ebff;}#sk-container-id-6 div.sk-parallel-item::after {content: \"\";width: 100%;border-bottom: 1px solid gray;flex-grow: 1;}#sk-container-id-6 div.sk-label:hover label.sk-toggleable__label {background-color: #d4ebff;}#sk-container-id-6 div.sk-serial::before {content: \"\";position: absolute;border-left: 1px solid gray;box-sizing: border-box;top: 0;bottom: 0;left: 50%;z-index: 0;}#sk-container-id-6 div.sk-serial {display: flex;flex-direction: column;align-items: center;background-color: white;padding-right: 0.2em;padding-left: 0.2em;position: relative;}#sk-container-id-6 div.sk-item {position: relative;z-index: 1;}#sk-container-id-6 div.sk-parallel {display: flex;align-items: stretch;justify-content: center;background-color: white;position: relative;}#sk-container-id-6 div.sk-item::before, #sk-container-id-6 div.sk-parallel-item::before {content: \"\";position: absolute;border-left: 1px solid gray;box-sizing: border-box;top: 0;bottom: 0;left: 50%;z-index: -1;}#sk-container-id-6 div.sk-parallel-item {display: flex;flex-direction: column;z-index: 1;position: relative;background-color: white;}#sk-container-id-6 div.sk-parallel-item:first-child::after {align-self: flex-end;width: 50%;}#sk-container-id-6 div.sk-parallel-item:last-child::after {align-self: flex-start;width: 50%;}#sk-container-id-6 div.sk-parallel-item:only-child::after {width: 0;}#sk-container-id-6 div.sk-dashed-wrapped {border: 1px dashed gray;margin: 0 0.4em 0.5em 0.4em;box-sizing: border-box;padding-bottom: 0.4em;background-color: white;}#sk-container-id-6 div.sk-label label {font-family: monospace;font-weight: bold;display: inline-block;line-height: 1.2em;}#sk-container-id-6 div.sk-label-container {text-align: center;}#sk-container-id-6 div.sk-container {/* jupyter's `normalize.less` sets `[hidden] { display: none; }` but bootstrap.min.css set `[hidden] { display: none !important; }` so we also need the `!important` here to be able to override the default hidden behavior on the sphinx rendered scikit-learn.org. See: https://github.com/scikit-learn/scikit-learn/issues/21755 */display: inline-block !important;position: relative;}#sk-container-id-6 div.sk-text-repr-fallback {display: none;}</style><div id=\"sk-container-id-6\" class=\"sk-top-container\"><div class=\"sk-text-repr-fallback\"><pre>Pipeline(steps=[(&#x27;columntransformer&#x27;,\n                 ColumnTransformer(remainder=&#x27;passthrough&#x27;,\n                                   transformers=[(&#x27;onehotencoder&#x27;,\n                                                  OneHotEncoder(categories=[array([&#x27;BMW 116i&#x27;, &#x27;BMW 118d&#x27;, &#x27;BMW 118d Hatchback&#x27;, &#x27;BMW 118i&#x27;,\n       &#x27;BMW 125d&#x27;, &#x27;BMW 125d Hatchback&#x27;, &#x27;BMW 125i&#x27;,\n       &#x27;BMW 125i Convertible&#x27;, &#x27;BMW 218i Gran&#x27;, &#x27;BMW 220d&#x27;,\n       &#x27;BMW 220d Gran&#x27;, &#x27;BMW 220i&#x27;, &#x27;BMW 220i Convertible&#x27;,\n       &#x27;BMW 225xe Active&#x27;, &#x27;BMW 318d&#x27;, &#x27;B...\n       &#x27;Toyota Supra A91&#x27;, &#x27;Toyota Supra GR&#x27;, &#x27;Toyota Yaris Hatchback&#x27;,\n       &#x27;Toyota Yaris LE&#x27;, &#x27;Toyota Yaris Sedan&#x27;], dtype=object),\n                                                                            array([&#x27;BMW&#x27;, &#x27;Honda&#x27;, &#x27;Hyundai&#x27;, &#x27;Lexus&#x27;, &#x27;Mercedes-Benz&#x27;, &#x27;Toyota&#x27;],\n      dtype=object),\n                                                                            array([&#x27; Petrol&#x27;, &#x27;Diesel&#x27;, &#x27;Electric&#x27;, &#x27;Hybrid&#x27;, &#x27;Hydrogen&#x27;, &#x27;LPG&#x27;,\n       &#x27;Petrol&#x27;], dtype=object)]),\n                                                  [&#x27;name&#x27;, &#x27;company&#x27;,\n                                                   &#x27;fuel_type&#x27;])])),\n                (&#x27;randomforestregressor&#x27;,\n                 RandomForestRegressor(random_state=42))])</pre><b>In a Jupyter environment, please rerun this cell to show the HTML representation or trust the notebook. <br />On GitHub, the HTML representation is unable to render, please try loading this page with nbviewer.org.</b></div><div class=\"sk-container\" hidden><div class=\"sk-item sk-dashed-wrapped\"><div class=\"sk-label-container\"><div class=\"sk-label sk-toggleable\"><input class=\"sk-toggleable__control sk-hidden--visually\" id=\"sk-estimator-id-24\" type=\"checkbox\" ><label for=\"sk-estimator-id-24\" class=\"sk-toggleable__label sk-toggleable__label-arrow\">Pipeline</label><div class=\"sk-toggleable__content\"><pre>Pipeline(steps=[(&#x27;columntransformer&#x27;,\n                 ColumnTransformer(remainder=&#x27;passthrough&#x27;,\n                                   transformers=[(&#x27;onehotencoder&#x27;,\n                                                  OneHotEncoder(categories=[array([&#x27;BMW 116i&#x27;, &#x27;BMW 118d&#x27;, &#x27;BMW 118d Hatchback&#x27;, &#x27;BMW 118i&#x27;,\n       &#x27;BMW 125d&#x27;, &#x27;BMW 125d Hatchback&#x27;, &#x27;BMW 125i&#x27;,\n       &#x27;BMW 125i Convertible&#x27;, &#x27;BMW 218i Gran&#x27;, &#x27;BMW 220d&#x27;,\n       &#x27;BMW 220d Gran&#x27;, &#x27;BMW 220i&#x27;, &#x27;BMW 220i Convertible&#x27;,\n       &#x27;BMW 225xe Active&#x27;, &#x27;BMW 318d&#x27;, &#x27;B...\n       &#x27;Toyota Supra A91&#x27;, &#x27;Toyota Supra GR&#x27;, &#x27;Toyota Yaris Hatchback&#x27;,\n       &#x27;Toyota Yaris LE&#x27;, &#x27;Toyota Yaris Sedan&#x27;], dtype=object),\n                                                                            array([&#x27;BMW&#x27;, &#x27;Honda&#x27;, &#x27;Hyundai&#x27;, &#x27;Lexus&#x27;, &#x27;Mercedes-Benz&#x27;, &#x27;Toyota&#x27;],\n      dtype=object),\n                                                                            array([&#x27; Petrol&#x27;, &#x27;Diesel&#x27;, &#x27;Electric&#x27;, &#x27;Hybrid&#x27;, &#x27;Hydrogen&#x27;, &#x27;LPG&#x27;,\n       &#x27;Petrol&#x27;], dtype=object)]),\n                                                  [&#x27;name&#x27;, &#x27;company&#x27;,\n                                                   &#x27;fuel_type&#x27;])])),\n                (&#x27;randomforestregressor&#x27;,\n                 RandomForestRegressor(random_state=42))])</pre></div></div></div><div class=\"sk-serial\"><div class=\"sk-item sk-dashed-wrapped\"><div class=\"sk-label-container\"><div class=\"sk-label sk-toggleable\"><input class=\"sk-toggleable__control sk-hidden--visually\" id=\"sk-estimator-id-25\" type=\"checkbox\" ><label for=\"sk-estimator-id-25\" class=\"sk-toggleable__label sk-toggleable__label-arrow\">columntransformer: ColumnTransformer</label><div class=\"sk-toggleable__content\"><pre>ColumnTransformer(remainder=&#x27;passthrough&#x27;,\n                  transformers=[(&#x27;onehotencoder&#x27;,\n                                 OneHotEncoder(categories=[array([&#x27;BMW 116i&#x27;, &#x27;BMW 118d&#x27;, &#x27;BMW 118d Hatchback&#x27;, &#x27;BMW 118i&#x27;,\n       &#x27;BMW 125d&#x27;, &#x27;BMW 125d Hatchback&#x27;, &#x27;BMW 125i&#x27;,\n       &#x27;BMW 125i Convertible&#x27;, &#x27;BMW 218i Gran&#x27;, &#x27;BMW 220d&#x27;,\n       &#x27;BMW 220d Gran&#x27;, &#x27;BMW 220i&#x27;, &#x27;BMW 220i Convertible&#x27;,\n       &#x27;BMW 225xe Active&#x27;, &#x27;BMW 318d&#x27;, &#x27;BMW 318d Touring&#x27;,\n       &#x27;BMW 318i Touring&#x27;, &#x27;BMW 3...\n       &#x27;Toyota Sequoia I&#x27;, &#x27;Toyota Supra 2.0&#x27;, &#x27;Toyota Supra 3.0&#x27;,\n       &#x27;Toyota Supra A91&#x27;, &#x27;Toyota Supra GR&#x27;, &#x27;Toyota Yaris Hatchback&#x27;,\n       &#x27;Toyota Yaris LE&#x27;, &#x27;Toyota Yaris Sedan&#x27;], dtype=object),\n                                                           array([&#x27;BMW&#x27;, &#x27;Honda&#x27;, &#x27;Hyundai&#x27;, &#x27;Lexus&#x27;, &#x27;Mercedes-Benz&#x27;, &#x27;Toyota&#x27;],\n      dtype=object),\n                                                           array([&#x27; Petrol&#x27;, &#x27;Diesel&#x27;, &#x27;Electric&#x27;, &#x27;Hybrid&#x27;, &#x27;Hydrogen&#x27;, &#x27;LPG&#x27;,\n       &#x27;Petrol&#x27;], dtype=object)]),\n                                 [&#x27;name&#x27;, &#x27;company&#x27;, &#x27;fuel_type&#x27;])])</pre></div></div></div><div class=\"sk-parallel\"><div class=\"sk-parallel-item\"><div class=\"sk-item\"><div class=\"sk-label-container\"><div class=\"sk-label sk-toggleable\"><input class=\"sk-toggleable__control sk-hidden--visually\" id=\"sk-estimator-id-26\" type=\"checkbox\" ><label for=\"sk-estimator-id-26\" class=\"sk-toggleable__label sk-toggleable__label-arrow\">onehotencoder</label><div class=\"sk-toggleable__content\"><pre>[&#x27;name&#x27;, &#x27;company&#x27;, &#x27;fuel_type&#x27;]</pre></div></div></div><div class=\"sk-serial\"><div class=\"sk-item\"><div class=\"sk-estimator sk-toggleable\"><input class=\"sk-toggleable__control sk-hidden--visually\" id=\"sk-estimator-id-27\" type=\"checkbox\" ><label for=\"sk-estimator-id-27\" class=\"sk-toggleable__label sk-toggleable__label-arrow\">OneHotEncoder</label><div class=\"sk-toggleable__content\"><pre>OneHotEncoder(categories=[array([&#x27;BMW 116i&#x27;, &#x27;BMW 118d&#x27;, &#x27;BMW 118d Hatchback&#x27;, &#x27;BMW 118i&#x27;,\n       &#x27;BMW 125d&#x27;, &#x27;BMW 125d Hatchback&#x27;, &#x27;BMW 125i&#x27;,\n       &#x27;BMW 125i Convertible&#x27;, &#x27;BMW 218i Gran&#x27;, &#x27;BMW 220d&#x27;,\n       &#x27;BMW 220d Gran&#x27;, &#x27;BMW 220i&#x27;, &#x27;BMW 220i Convertible&#x27;,\n       &#x27;BMW 225xe Active&#x27;, &#x27;BMW 318d&#x27;, &#x27;BMW 318d Touring&#x27;,\n       &#x27;BMW 318i Touring&#x27;, &#x27;BMW 320d Gran&#x27;, &#x27;BMW 320d xDrive&#x27;, &#x27;BMW 320i&#x27;,\n       &#x27;BMW 320i Touring&#x27;, &#x27;BMW 330d Touring&#x27;, &#x27;BMW...\n       &#x27;Toyota RAV4&#x27;, &#x27;Toyota RAV4 V&#x27;, &#x27;Toyota Sequoia&#x27;,\n       &#x27;Toyota Sequoia I&#x27;, &#x27;Toyota Supra 2.0&#x27;, &#x27;Toyota Supra 3.0&#x27;,\n       &#x27;Toyota Supra A91&#x27;, &#x27;Toyota Supra GR&#x27;, &#x27;Toyota Yaris Hatchback&#x27;,\n       &#x27;Toyota Yaris LE&#x27;, &#x27;Toyota Yaris Sedan&#x27;], dtype=object),\n                          array([&#x27;BMW&#x27;, &#x27;Honda&#x27;, &#x27;Hyundai&#x27;, &#x27;Lexus&#x27;, &#x27;Mercedes-Benz&#x27;, &#x27;Toyota&#x27;],\n      dtype=object),\n                          array([&#x27; Petrol&#x27;, &#x27;Diesel&#x27;, &#x27;Electric&#x27;, &#x27;Hybrid&#x27;, &#x27;Hydrogen&#x27;, &#x27;LPG&#x27;,\n       &#x27;Petrol&#x27;], dtype=object)])</pre></div></div></div></div></div></div><div class=\"sk-parallel-item\"><div class=\"sk-item\"><div class=\"sk-label-container\"><div class=\"sk-label sk-toggleable\"><input class=\"sk-toggleable__control sk-hidden--visually\" id=\"sk-estimator-id-28\" type=\"checkbox\" ><label for=\"sk-estimator-id-28\" class=\"sk-toggleable__label sk-toggleable__label-arrow\">remainder</label><div class=\"sk-toggleable__content\"><pre>[&#x27;year&#x27;, &#x27;kms_driven&#x27;]</pre></div></div></div><div class=\"sk-serial\"><div class=\"sk-item\"><div class=\"sk-estimator sk-toggleable\"><input class=\"sk-toggleable__control sk-hidden--visually\" id=\"sk-estimator-id-29\" type=\"checkbox\" ><label for=\"sk-estimator-id-29\" class=\"sk-toggleable__label sk-toggleable__label-arrow\">passthrough</label><div class=\"sk-toggleable__content\"><pre>passthrough</pre></div></div></div></div></div></div></div></div><div class=\"sk-item\"><div class=\"sk-estimator sk-toggleable\"><input class=\"sk-toggleable__control sk-hidden--visually\" id=\"sk-estimator-id-30\" type=\"checkbox\" ><label for=\"sk-estimator-id-30\" class=\"sk-toggleable__label sk-toggleable__label-arrow\">RandomForestRegressor</label><div class=\"sk-toggleable__content\"><pre>RandomForestRegressor(random_state=42)</pre></div></div></div></div></div></div></div>"
     },
     "execution_count": 105,
     "metadata": {},
     "output_type": "execute_result"
    }
   ],
   "source": [
    "pipe.fit(X_train, y_train)\n"
   ],
   "metadata": {
    "collapsed": false,
    "ExecuteTime": {
     "end_time": "2024-05-23T17:13:53.952925100Z",
     "start_time": "2024-05-23T17:13:52.610682600Z"
    }
   },
   "id": "554d2c02df626cd5"
  },
  {
   "cell_type": "code",
   "execution_count": 106,
   "outputs": [],
   "source": [
    "y_pred = pipe.predict(X_test)\n"
   ],
   "metadata": {
    "collapsed": false,
    "ExecuteTime": {
     "end_time": "2024-05-23T17:13:55.609985100Z",
     "start_time": "2024-05-23T17:13:55.580218200Z"
    }
   },
   "id": "3f93cdfb43359aff"
  },
  {
   "cell_type": "code",
   "execution_count": 107,
   "outputs": [
    {
     "data": {
      "text/plain": "-4.980368399263105"
     },
     "execution_count": 107,
     "metadata": {},
     "output_type": "execute_result"
    }
   ],
   "source": [
    "r2 = r2_score(y_test, y_pred)\n",
    "r2\n"
   ],
   "metadata": {
    "collapsed": false,
    "ExecuteTime": {
     "end_time": "2024-05-23T17:13:57.990516900Z",
     "start_time": "2024-05-23T17:13:57.973109700Z"
    }
   },
   "id": "929e4f3c5d2e9744"
  },
  {
   "cell_type": "code",
   "execution_count": 111,
   "outputs": [],
   "source": [
    "import pandas as pd\n",
    "import numpy as np\n",
    "from sklearn.model_selection import train_test_split\n",
    "from sklearn.preprocessing import OneHotEncoder\n",
    "from sklearn.compose import ColumnTransformer\n",
    "from sklearn.pipeline import Pipeline\n",
    "from sklearn.metrics import r2_score\n",
    "from xgboost import XGBRegressor\n",
    "from sklearn.ensemble import GradientBoostingRegressor\n"
   ],
   "metadata": {
    "collapsed": false,
    "ExecuteTime": {
     "end_time": "2024-05-23T17:25:40.791841600Z",
     "start_time": "2024-05-23T17:25:40.761550800Z"
    }
   },
   "id": "d135ea4368861cc3"
  },
  {
   "cell_type": "code",
   "execution_count": 112,
   "outputs": [
    {
     "name": "stdout",
     "output_type": "stream",
     "text": [
      "R^2 for XGBRegressor: -17.119063744367228\n"
     ]
    }
   ],
   "source": [
    "from catboost import CatBoostRegressor\n",
    "\n",
    "catboost = CatBoostRegressor(random_state=42, verbose=0)\n",
    "pipe_catboost = Pipeline(steps=[('preprocessor', column_trans), ('regressor', catboost)])\n",
    "pipe_catboost.fit(X_train, y_train)\n",
    "y_pred_catboost = pipe_catboost.predict(X_test)\n",
    "r2_catboost = r2_score(y_test, y_pred_catboost)\n",
    "print(f'R^2 for CatBoostRegressor: {r2_catboost}')\n",
    "\n",
    "\n"
   ],
   "metadata": {
    "collapsed": false,
    "ExecuteTime": {
     "end_time": "2024-05-23T17:25:42.648074800Z",
     "start_time": "2024-05-23T17:25:41.470154500Z"
    }
   },
   "id": "3c630f00a9a1156"
  },
  {
   "cell_type": "code",
   "execution_count": null,
   "outputs": [],
   "source": [],
   "metadata": {
    "collapsed": false
   },
   "id": "689a28cc67d0e2bf"
  },
  {
   "cell_type": "code",
   "execution_count": null,
   "outputs": [],
   "source": [],
   "metadata": {
    "collapsed": false
   },
   "id": "1d3b7f01eae51dd5"
  },
  {
   "cell_type": "code",
   "execution_count": null,
   "outputs": [],
   "source": [],
   "metadata": {
    "collapsed": false
   },
   "id": "e6d8050d009502ab"
  },
  {
   "cell_type": "code",
   "execution_count": null,
   "outputs": [],
   "source": [],
   "metadata": {
    "collapsed": false
   },
   "id": "1fba8de742e34124"
  },
  {
   "cell_type": "code",
   "execution_count": null,
   "outputs": [],
   "source": [],
   "metadata": {
    "collapsed": false
   },
   "id": "d74d0722e0d2041c"
  },
  {
   "cell_type": "code",
   "execution_count": 46,
   "outputs": [],
   "source": [
    "import pickle\n",
    "pickle.dump(pipe,open('LinearRegressionModel.pkl','wb'))"
   ],
   "metadata": {
    "collapsed": false,
    "ExecuteTime": {
     "end_time": "2024-05-23T17:05:08.044374900Z",
     "start_time": "2024-05-23T17:05:08.036843300Z"
    }
   },
   "id": "3818b1727fdd39af"
  },
  {
   "cell_type": "code",
   "execution_count": 47,
   "outputs": [
    {
     "data": {
      "text/plain": "array([1434.13838723])"
     },
     "execution_count": 47,
     "metadata": {},
     "output_type": "execute_result"
    }
   ],
   "source": [
    "pipe.predict(pd.DataFrame(columns=X_test.columns,data=np.array(['Honda Fit','Honda',2003,212000,'Petrol']).reshape(1,5)))"
   ],
   "metadata": {
    "collapsed": false,
    "ExecuteTime": {
     "end_time": "2024-05-23T17:05:08.621246600Z",
     "start_time": "2024-05-23T17:05:08.598374800Z"
    }
   },
   "id": "89c5589eea20a46d"
  },
  {
   "cell_type": "code",
   "execution_count": 192,
   "outputs": [
    {
     "data": {
      "text/plain": "array(['BMW 116i', 'BMW 118d', 'BMW 118d Hatchback', 'BMW 118i',\n       'BMW 125d', 'BMW 125d Hatchback', 'BMW 125i',\n       'BMW 125i Convertible', 'BMW 218i Gran', 'BMW 220d',\n       'BMW 220d Gran', 'BMW 220i', 'BMW 220i Convertible',\n       'BMW 225xe Active', 'BMW 318d', 'BMW 318d Touring',\n       'BMW 318i Touring', 'BMW 320d Gran', 'BMW 320d xDrive', 'BMW 320i',\n       'BMW 320i Touring', 'BMW 330d Touring', 'BMW 330e',\n       'BMW 330e Plug-in', 'BMW 330i', 'BMW 330i M', 'BMW 330i Touring',\n       'BMW 330i xDrive', 'BMW 335d', 'BMW 420d Gran', 'BMW 420i Gran',\n       'BMW 430i Convertible', 'BMW 520d', 'BMW 520d Touring',\n       'BMW 520d xDrive', 'BMW 520i', 'BMW 530d Touring',\n       'BMW 530d xDrive', 'BMW 530e Plug-in', 'BMW 530i X', 'BMW 535i',\n       'BMW 540i X', 'BMW 640d Gran', 'BMW 640i Gran', 'BMW 730 LD',\n       'BMW 730d', 'BMW 730i', 'BMW 740Le xDrive', 'BMW 740i',\n       'BMW 760Li X', 'BMW M2', 'BMW M2 Competition', 'BMW M235i',\n       'BMW M3', 'BMW M3 Competition', 'BMW M4', 'BMW M4 CS',\n       'BMW M4 Convertible', 'BMW M5', 'BMW M5 Competition',\n       'BMW M6 Gran', 'BMW M850i xDrive', 'BMW X1 sDrive18d',\n       'BMW X1 sDrive18i', 'BMW X1 sDrive20d', 'BMW X1 sDrive20i',\n       'BMW X1 xDrive25i', 'BMW X2 sDrive18d', 'BMW X2 sDrive18i',\n       'BMW X2 sDrive20i', 'BMW X3 M', 'BMW X3 M40i', 'BMW X3 xDrive20d',\n       'BMW X3 xDrive30i', 'BMW X4 M', 'BMW X4 M40i', 'BMW X4 xDrive20d',\n       'BMW X4 xDrive30d', 'BMW X4 xDrive30i', 'BMW X4 xDrive35i',\n       'BMW X5 35i', 'BMW X5 G05', 'BMW X5 M', 'BMW X5 M50d',\n       'BMW X5 xDrive30d', 'BMW X5 xDrive40d', 'BMW X5 xDrive45e',\n       'BMW X5 xDrive50i', 'BMW X6 M', 'BMW X6 M50d', 'BMW X6 M50i',\n       'BMW X6 xDrive35i', 'BMW X6 xDrive40d', 'BMW X7 M50i',\n       'BMW X7 xDrive30d', 'BMW X7 xDrive40i', 'BMW i3', 'BMW i3s',\n       'BMW i8', 'Honda Accord', 'Honda CR-V', 'Honda CR-V III',\n       'Honda Civic', 'Honda Civic VIII', 'Honda Fit', 'Honda Fit I',\n       'Honda Jazz', 'Honda Jazz II', 'Honda Odyssey', 'Honda Stepwgn',\n       'Honda Stepwgn II', 'Honda Stream I', 'Hyundai Accent',\n       'Hyundai Accent Blue', 'Hyundai Atos', 'Hyundai Atos Prime',\n       'Hyundai Avante', 'Hyundai Avante AD', 'Hyundai Azera',\n       'Hyundai Centennial', 'Hyundai Coupe', 'Hyundai Creta',\n       'Hyundai Elantra', 'Hyundai Elantra GT', 'Hyundai Elantra N',\n       'Hyundai Encino', 'Hyundai Entourage', 'Hyundai Excel',\n       'Hyundai Galloper', 'Hyundai Genesis', 'Hyundai Genesis Coupe',\n       'Hyundai Getz', 'Hyundai Grand Starex', 'Hyundai Grand i10',\n       'Hyundai Grandeur', 'Hyundai H-1', 'Hyundai H-100', 'Hyundai HB20',\n       'Hyundai Ioniq Electric', 'Hyundai Ioniq Hybrid',\n       'Hyundai Ioniq Plug-in', 'Hyundai Kona', 'Hyundai Kona Electric',\n       'Hyundai Kona N', 'Hyundai Lantra', 'Hyundai Lavita',\n       'Hyundai Mistra', 'Hyundai Nexo', 'Hyundai Palisade',\n       'Hyundai Pony', 'Hyundai Santa Cruz', 'Hyundai Santa Fe',\n       'Hyundai Santa-fe', 'Hyundai Santro', 'Hyundai Santro Xing',\n       'Hyundai Scoupe', 'Hyundai Scoupe Turbo', 'Hyundai Solaris',\n       'Hyundai Sonata', 'Hyundai Sonata DN8', 'Hyundai Sonata Hybrid',\n       'Hyundai Sonata N', 'Hyundai Sonata Plug-in', 'Hyundai Starex',\n       'Hyundai Staria', 'Hyundai Terracan', 'Hyundai Tiburon',\n       'Hyundai Tucson', 'Hyundai Tucson Hybrid', 'Hyundai Veloster',\n       'Hyundai Veloster N', 'Hyundai Veloster Turbo', 'Hyundai Venue',\n       'Hyundai Veracruz', 'Hyundai Verna', 'Hyundai i10', 'Hyundai i20',\n       'Hyundai i30', 'Hyundai i40', 'Hyundai i40 Tourer', 'Hyundai i800',\n       'Hyundai ix20', 'Hyundai ix25', 'Hyundai ix35', 'Hyundai ix45',\n       'Hyundai ix55', 'Lexus ES 300', 'Lexus ES 300h', 'Lexus ES 350',\n       'Lexus GX 460', 'Lexus GX 470', 'Lexus IS 250', 'Lexus IS 300',\n       'Lexus IS 300h', 'Lexus LS 460', 'Lexus LS 500', 'Lexus LS 500h',\n       'Lexus LX 570', 'Lexus NX 200t', 'Lexus NX 300', 'Lexus NX 300h',\n       'Lexus RC 200t', 'Lexus RC 350', 'Lexus RC F', 'Lexus RX 350',\n       'Lexus RX 450', 'Lexus RX 450h', 'Lexus UX 250h',\n       'Mercedes-Benz A-Класс W177', 'Mercedes-Benz B-Класс W246',\n       'Mercedes-Benz C-Класс W204', 'Mercedes-Benz C-Класс W205',\n       'Mercedes-Benz C-Класс W206', 'Mercedes-Benz CLA-Класс C117',\n       'Mercedes-Benz CLS-Класс C257', 'Mercedes-Benz E-Класс W210',\n       'Mercedes-Benz E-Класс W211', 'Mercedes-Benz E-Класс W212',\n       'Mercedes-Benz E-Класс W213', 'Mercedes-Benz EQC',\n       'Mercedes-Benz G-Класс W463', 'Mercedes-Benz G63 AMG',\n       'Mercedes-Benz GLA-Класс X156', 'Mercedes-Benz GLB-Класс X247',\n       'Mercedes-Benz GLC Coupe', 'Mercedes-Benz GLC-Класс X253',\n       'Mercedes-Benz GLE Coupe', 'Mercedes-Benz GLE-Класс W166',\n       'Mercedes-Benz GLE-Класс W167', 'Mercedes-Benz GLS Coupe',\n       'Mercedes-Benz GLS-Класс X167', 'Mercedes-Benz M-Класс W166',\n       'Mercedes-Benz S-Класс W220', 'Mercedes-Benz S-Класс W222',\n       'Mercedes-Benz S-Класс W223', 'Mercedes-Benz SLR McLaren',\n       'Mercedes-Benz SLS AMG', 'Mercedes-Benz Sprinter W906',\n       'Mercedes-Benz V-Класс W447', 'Toyota 4Runner Limited',\n       'Toyota 4Runner SR5', 'Toyota 4Runner TRD',\n       'Toyota Alphard Executive', 'Toyota Alphard Vellfire',\n       'Toyota Avalon', 'Toyota Avalon Limited', 'Toyota Avalon Touring',\n       'Toyota Avalon XLE', 'Toyota Avalon XSE', 'Toyota Camry 40',\n       'Toyota Camry 50', 'Toyota Camry 55', 'Toyota Camry 60',\n       'Toyota Camry 65', 'Toyota Camry 70', 'Toyota Camry 75',\n       'Toyota Corolla 45', 'Toyota Corolla 50', 'Toyota Corolla 55',\n       'Toyota Corolla 60', 'Toyota Crown', 'Toyota Crown 55',\n       'Toyota Crown Athlete', 'Toyota Crown Hybrid',\n       'Toyota Crown Majesta', 'Toyota Crown XVI', 'Toyota Estima Aeras',\n       'Toyota Estima Hybrid', 'Toyota Grand Highlander',\n       'Toyota Highlander', 'Toyota Highlander IV',\n       'Toyota Highlander Limited', 'Toyota Highlander XLE',\n       'Toyota Highlander XSE', 'Toyota Land Cruiser', 'Toyota Prado GXL',\n       'Toyota Prado Kakadu', 'Toyota Prado TXL', 'Toyota Prado VX',\n       'Toyota Prius L', 'Toyota Prius Prime', 'Toyota Prius XLE',\n       'Toyota RAV4', 'Toyota RAV4 V', 'Toyota Sequoia',\n       'Toyota Sequoia I', 'Toyota Supra 2.0', 'Toyota Supra 3.0',\n       'Toyota Supra A91', 'Toyota Supra GR', 'Toyota Yaris Hatchback',\n       'Toyota Yaris LE', 'Toyota Yaris Sedan'], dtype=object)"
     },
     "execution_count": 192,
     "metadata": {},
     "output_type": "execute_result"
    }
   ],
   "source": [
    "pipe.steps[0][1].transformers[0][1].categories[0]"
   ],
   "metadata": {
    "collapsed": false,
    "ExecuteTime": {
     "end_time": "2024-05-23T16:50:54.791611900Z",
     "start_time": "2024-05-23T16:50:54.784863400Z"
    }
   },
   "id": "933b784296235074"
  },
  {
   "cell_type": "code",
   "execution_count": 97,
   "outputs": [],
   "source": [],
   "metadata": {
    "collapsed": false,
    "ExecuteTime": {
     "end_time": "2024-05-23T08:50:08.896726200Z",
     "start_time": "2024-05-23T08:50:08.850733700Z"
    }
   },
   "id": "d2b5a3a916feeb5e"
  },
  {
   "cell_type": "code",
   "execution_count": null,
   "outputs": [],
   "source": [],
   "metadata": {
    "collapsed": false
   },
   "id": "b18f7c9aab950bcc"
  }
 ],
 "metadata": {
  "kernelspec": {
   "display_name": "Python 3",
   "language": "python",
   "name": "python3"
  },
  "language_info": {
   "codemirror_mode": {
    "name": "ipython",
    "version": 2
   },
   "file_extension": ".py",
   "mimetype": "text/x-python",
   "name": "python",
   "nbconvert_exporter": "python",
   "pygments_lexer": "ipython2",
   "version": "2.7.6"
  }
 },
 "nbformat": 4,
 "nbformat_minor": 5
}
