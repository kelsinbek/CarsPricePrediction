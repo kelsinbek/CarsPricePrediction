{
 "cells": [
  {
   "cell_type": "markdown",
   "source": [
    "# Курсовой проект по машинному обучению\n",
    "## Car price prediction\n",
    "## Использование произвольных автомобильных данных для анализа предсказание цен на автомобили.\n"
   ],
   "metadata": {
    "collapsed": false
   },
   "id": "74766608b4a7b985"
  },
  {
   "cell_type": "markdown",
   "source": [
    "### Описание признаков\n",
    "   - **name**: Название автомобиля (марка и модель),\n",
    "   - **company**: Компания-производитель,\n",
    "   - **year**: Год выпуска автомобиля,\n",
    "   - **Price**: Цена автомобиля,\n",
    "   - **kms_driven**: Пробег автомобиля в километрах,\n",
    "   - **fuel_type**: Тип топлива, используемого автомобилем"
   ],
   "metadata": {
    "collapsed": false
   },
   "id": "8213d94c5ae88fdc"
  },
  {
   "cell_type": "markdown",
   "source": [
    "### Исследование данных"
   ],
   "metadata": {
    "collapsed": false
   },
   "id": "e7934e4ec0f4ae1b"
  },
  {
   "cell_type": "code",
   "execution_count": 1,
   "outputs": [],
   "source": [
    "\n",
    "import pandas as pd\n",
    "import numpy as np\n",
    "import matplotlib.pyplot as plt\n",
    "import matplotlib as mpl\n",
    "%matplotlib inline\n",
    "mpl.style.use('ggplot')"
   ],
   "metadata": {
    "collapsed": false,
    "ExecuteTime": {
     "end_time": "2024-05-23T18:34:15.581745200Z",
     "start_time": "2024-05-23T18:34:13.711967800Z"
    }
   },
   "id": "7f41c9367e2cbbec"
  },
  {
   "cell_type": "code",
   "execution_count": 2,
   "outputs": [],
   "source": [
    "data=pd.read_csv('dataset/CAR.csv')\n"
   ],
   "metadata": {
    "collapsed": false,
    "ExecuteTime": {
     "end_time": "2024-05-23T18:34:30.751502200Z",
     "start_time": "2024-05-23T18:34:30.169394900Z"
    }
   },
   "id": "323639fde088390f"
  },
  {
   "cell_type": "code",
   "execution_count": 3,
   "outputs": [
    {
     "data": {
      "text/plain": "   Unnamed: 0                        name company    year    Price  \\\n0           0      Toyota Camry 55 SE USA  Toyota  2015.0   15800$   \n1           1     Toyota Land Cruiser 200  Toyota  2015.0   47000$   \n2           1     Toyota Land Cruiser 200  Toyota  2015.0   47000$   \n3           1     Toyota Land Cruiser 200  Toyota  2015.0   47000$   \n4           1     Toyota Land Cruiser 200  Toyota  2015.0   47000$   \n5           2         Toyota Camry 70 XSE  Toyota  2019.0   20500$   \n6           3  Toyota Highlander IV (U70)  Toyota  2019.0   45300$   \n7           4     Toyota Crown XVI (S235)  Toyota  2023.0   51500$   \n8           5  Toyota Sequoia I Restyling  Toyota  2004.0   23500$   \n9           6        Toyota RAV4 V (XA50)  Toyota  2021.0   37500$   \n\n   kms_driven fuel_type  \n0  150 000 km    Hybrid  \n1  145 000 km    Petrol  \n2  145 000 km    Petrol  \n3  145 000 km    Petrol  \n4  145 000 km    Petrol  \n5  180 246 km    Petrol  \n6  108 000 km    Hybrid  \n7    7 750 km    Hybrid  \n8  167 000 km    Petrol  \n9   56 000 km    Hybrid  ",
      "text/html": "<div>\n<style scoped>\n    .dataframe tbody tr th:only-of-type {\n        vertical-align: middle;\n    }\n\n    .dataframe tbody tr th {\n        vertical-align: top;\n    }\n\n    .dataframe thead th {\n        text-align: right;\n    }\n</style>\n<table border=\"1\" class=\"dataframe\">\n  <thead>\n    <tr style=\"text-align: right;\">\n      <th></th>\n      <th>Unnamed: 0</th>\n      <th>name</th>\n      <th>company</th>\n      <th>year</th>\n      <th>Price</th>\n      <th>kms_driven</th>\n      <th>fuel_type</th>\n    </tr>\n  </thead>\n  <tbody>\n    <tr>\n      <th>0</th>\n      <td>0</td>\n      <td>Toyota Camry 55 SE USA</td>\n      <td>Toyota</td>\n      <td>2015.0</td>\n      <td>15800$</td>\n      <td>150 000 km</td>\n      <td>Hybrid</td>\n    </tr>\n    <tr>\n      <th>1</th>\n      <td>1</td>\n      <td>Toyota Land Cruiser 200</td>\n      <td>Toyota</td>\n      <td>2015.0</td>\n      <td>47000$</td>\n      <td>145 000 km</td>\n      <td>Petrol</td>\n    </tr>\n    <tr>\n      <th>2</th>\n      <td>1</td>\n      <td>Toyota Land Cruiser 200</td>\n      <td>Toyota</td>\n      <td>2015.0</td>\n      <td>47000$</td>\n      <td>145 000 km</td>\n      <td>Petrol</td>\n    </tr>\n    <tr>\n      <th>3</th>\n      <td>1</td>\n      <td>Toyota Land Cruiser 200</td>\n      <td>Toyota</td>\n      <td>2015.0</td>\n      <td>47000$</td>\n      <td>145 000 km</td>\n      <td>Petrol</td>\n    </tr>\n    <tr>\n      <th>4</th>\n      <td>1</td>\n      <td>Toyota Land Cruiser 200</td>\n      <td>Toyota</td>\n      <td>2015.0</td>\n      <td>47000$</td>\n      <td>145 000 km</td>\n      <td>Petrol</td>\n    </tr>\n    <tr>\n      <th>5</th>\n      <td>2</td>\n      <td>Toyota Camry 70 XSE</td>\n      <td>Toyota</td>\n      <td>2019.0</td>\n      <td>20500$</td>\n      <td>180 246 km</td>\n      <td>Petrol</td>\n    </tr>\n    <tr>\n      <th>6</th>\n      <td>3</td>\n      <td>Toyota Highlander IV (U70)</td>\n      <td>Toyota</td>\n      <td>2019.0</td>\n      <td>45300$</td>\n      <td>108 000 km</td>\n      <td>Hybrid</td>\n    </tr>\n    <tr>\n      <th>7</th>\n      <td>4</td>\n      <td>Toyota Crown XVI (S235)</td>\n      <td>Toyota</td>\n      <td>2023.0</td>\n      <td>51500$</td>\n      <td>7 750 km</td>\n      <td>Hybrid</td>\n    </tr>\n    <tr>\n      <th>8</th>\n      <td>5</td>\n      <td>Toyota Sequoia I Restyling</td>\n      <td>Toyota</td>\n      <td>2004.0</td>\n      <td>23500$</td>\n      <td>167 000 km</td>\n      <td>Petrol</td>\n    </tr>\n    <tr>\n      <th>9</th>\n      <td>6</td>\n      <td>Toyota RAV4 V (XA50)</td>\n      <td>Toyota</td>\n      <td>2021.0</td>\n      <td>37500$</td>\n      <td>56 000 km</td>\n      <td>Hybrid</td>\n    </tr>\n  </tbody>\n</table>\n</div>"
     },
     "execution_count": 3,
     "metadata": {},
     "output_type": "execute_result"
    }
   ],
   "source": [
    "data.head(10)"
   ],
   "metadata": {
    "collapsed": false,
    "ExecuteTime": {
     "end_time": "2024-05-23T18:34:38.455550200Z",
     "start_time": "2024-05-23T18:34:38.059239800Z"
    }
   },
   "id": "ca8b60cb14b324e1"
  },
  {
   "cell_type": "code",
   "execution_count": 7,
   "outputs": [
    {
     "data": {
      "text/plain": "(660, 7)"
     },
     "execution_count": 7,
     "metadata": {},
     "output_type": "execute_result"
    }
   ],
   "source": [
    "data.shape"
   ],
   "metadata": {
    "collapsed": false,
    "ExecuteTime": {
     "end_time": "2024-05-23T18:35:04.862803100Z",
     "start_time": "2024-05-23T18:35:04.831463Z"
    }
   },
   "id": "94fe13a903a460b8"
  },
  {
   "cell_type": "code",
   "execution_count": 8,
   "outputs": [
    {
     "name": "stdout",
     "output_type": "stream",
     "text": [
      "<class 'pandas.core.frame.DataFrame'>\n",
      "RangeIndex: 660 entries, 0 to 659\n",
      "Data columns (total 7 columns):\n",
      " #   Column      Non-Null Count  Dtype  \n",
      "---  ------      --------------  -----  \n",
      " 0   Unnamed: 0  660 non-null    int64  \n",
      " 1   name        660 non-null    object \n",
      " 2   company     659 non-null    object \n",
      " 3   year        657 non-null    float64\n",
      " 4   Price       654 non-null    object \n",
      " 5   kms_driven  659 non-null    object \n",
      " 6   fuel_type   655 non-null    object \n",
      "dtypes: float64(1), int64(1), object(5)\n",
      "memory usage: 36.2+ KB\n"
     ]
    }
   ],
   "source": [
    "data.info()"
   ],
   "metadata": {
    "collapsed": false,
    "ExecuteTime": {
     "end_time": "2024-05-23T18:35:05.924390400Z",
     "start_time": "2024-05-23T18:35:05.879191400Z"
    }
   },
   "id": "ca00d03f65029a62"
  },
  {
   "cell_type": "code",
   "execution_count": 9,
   "outputs": [],
   "source": [
    "backup=data.copy()"
   ],
   "metadata": {
    "collapsed": false,
    "ExecuteTime": {
     "end_time": "2024-05-23T18:35:07.052057500Z",
     "start_time": "2024-05-23T18:35:06.838789700Z"
    }
   },
   "id": "32289b5996630b47"
  },
  {
   "cell_type": "code",
   "execution_count": 10,
   "outputs": [
    {
     "data": {
      "text/plain": "       Unnamed: 0         year\ncount  660.000000   657.000000\nmean   304.681818  2016.345510\nstd    180.526389     5.018042\nmin      0.000000  1990.000000\n25%    140.750000  2014.000000\n50%    305.500000  2017.000000\n75%    470.250000  2020.000000\nmax    600.000000  2024.000000",
      "text/html": "<div>\n<style scoped>\n    .dataframe tbody tr th:only-of-type {\n        vertical-align: middle;\n    }\n\n    .dataframe tbody tr th {\n        vertical-align: top;\n    }\n\n    .dataframe thead th {\n        text-align: right;\n    }\n</style>\n<table border=\"1\" class=\"dataframe\">\n  <thead>\n    <tr style=\"text-align: right;\">\n      <th></th>\n      <th>Unnamed: 0</th>\n      <th>year</th>\n    </tr>\n  </thead>\n  <tbody>\n    <tr>\n      <th>count</th>\n      <td>660.000000</td>\n      <td>657.000000</td>\n    </tr>\n    <tr>\n      <th>mean</th>\n      <td>304.681818</td>\n      <td>2016.345510</td>\n    </tr>\n    <tr>\n      <th>std</th>\n      <td>180.526389</td>\n      <td>5.018042</td>\n    </tr>\n    <tr>\n      <th>min</th>\n      <td>0.000000</td>\n      <td>1990.000000</td>\n    </tr>\n    <tr>\n      <th>25%</th>\n      <td>140.750000</td>\n      <td>2014.000000</td>\n    </tr>\n    <tr>\n      <th>50%</th>\n      <td>305.500000</td>\n      <td>2017.000000</td>\n    </tr>\n    <tr>\n      <th>75%</th>\n      <td>470.250000</td>\n      <td>2020.000000</td>\n    </tr>\n    <tr>\n      <th>max</th>\n      <td>600.000000</td>\n      <td>2024.000000</td>\n    </tr>\n  </tbody>\n</table>\n</div>"
     },
     "execution_count": 10,
     "metadata": {},
     "output_type": "execute_result"
    }
   ],
   "source": [
    "data.describe()"
   ],
   "metadata": {
    "collapsed": false,
    "ExecuteTime": {
     "end_time": "2024-05-23T18:35:09.815599700Z",
     "start_time": "2024-05-23T18:35:09.524531600Z"
    }
   },
   "id": "a92bd5e7d1be228d"
  },
  {
   "cell_type": "markdown",
   "source": [],
   "metadata": {
    "collapsed": false
   },
   "id": "9f328b251b97b9ef"
  },
  {
   "cell_type": "markdown",
   "source": [
    "## Очистка данных"
   ],
   "metadata": {
    "collapsed": false
   },
   "id": "faeee7bbf7f11bac"
  },
  {
   "cell_type": "code",
   "execution_count": 11,
   "outputs": [
    {
     "data": {
      "text/plain": "Unnamed: 0    0\nname          0\ncompany       1\nyear          3\nPrice         6\nkms_driven    1\nfuel_type     5\ndtype: int64"
     },
     "execution_count": 11,
     "metadata": {},
     "output_type": "execute_result"
    }
   ],
   "source": [
    "data.isnull().sum()"
   ],
   "metadata": {
    "collapsed": false,
    "ExecuteTime": {
     "end_time": "2024-05-23T18:35:14.825460700Z",
     "start_time": "2024-05-23T18:35:14.777869800Z"
    }
   },
   "id": "61ed40d3fdad5904"
  },
  {
   "cell_type": "code",
   "execution_count": 12,
   "outputs": [],
   "source": [
    "data = data.dropna()"
   ],
   "metadata": {
    "collapsed": false,
    "ExecuteTime": {
     "end_time": "2024-05-23T18:35:15.830866400Z",
     "start_time": "2024-05-23T18:35:15.719837500Z"
    }
   },
   "id": "ded70ce8436fffae"
  },
  {
   "cell_type": "code",
   "execution_count": 13,
   "outputs": [
    {
     "data": {
      "text/plain": "Unnamed: 0    0\nname          0\ncompany       0\nyear          0\nPrice         0\nkms_driven    0\nfuel_type     0\ndtype: int64"
     },
     "execution_count": 13,
     "metadata": {},
     "output_type": "execute_result"
    }
   ],
   "source": [
    "data.isnull().sum()"
   ],
   "metadata": {
    "collapsed": false,
    "ExecuteTime": {
     "end_time": "2024-05-23T18:35:16.741483300Z",
     "start_time": "2024-05-23T18:35:16.719977800Z"
    }
   },
   "id": "6ce0b5d46c611ead"
  },
  {
   "cell_type": "code",
   "execution_count": 14,
   "outputs": [
    {
     "data": {
      "text/plain": "0      False\n1      False\n2       True\n3       True\n4       True\n       ...  \n654     True\n655     True\n656     True\n657     True\n658     True\nLength: 644, dtype: bool"
     },
     "execution_count": 14,
     "metadata": {},
     "output_type": "execute_result"
    }
   ],
   "source": [
    "data.duplicated()"
   ],
   "metadata": {
    "collapsed": false,
    "ExecuteTime": {
     "end_time": "2024-05-23T18:35:18.877351400Z",
     "start_time": "2024-05-23T18:35:17.828492Z"
    }
   },
   "id": "7314932fb475db69"
  },
  {
   "cell_type": "code",
   "execution_count": 15,
   "outputs": [],
   "source": [
    "data['Price'] = data['Price'].str.replace('$', '').astype(int)"
   ],
   "metadata": {
    "collapsed": false,
    "ExecuteTime": {
     "end_time": "2024-05-23T18:35:38.500431Z",
     "start_time": "2024-05-23T18:35:36.310544900Z"
    }
   },
   "id": "588a45001b0d1088"
  },
  {
   "cell_type": "code",
   "execution_count": 16,
   "outputs": [],
   "source": [
    "data['kms_driven'] = data['kms_driven'].str.replace(' km', '').str.replace(' ', '').astype(int)\n"
   ],
   "metadata": {
    "collapsed": false,
    "ExecuteTime": {
     "end_time": "2024-05-23T18:38:26.313189700Z",
     "start_time": "2024-05-23T18:38:26.268458800Z"
    }
   },
   "id": "47f5d9896ad3455a"
  },
  {
   "cell_type": "code",
   "execution_count": 17,
   "outputs": [],
   "source": [
    "data['year'] = data['year'].astype(int)"
   ],
   "metadata": {
    "collapsed": false,
    "ExecuteTime": {
     "end_time": "2024-05-23T18:38:36.187674700Z",
     "start_time": "2024-05-23T18:38:34.157604900Z"
    }
   },
   "id": "419a18dabe24de83"
  },
  {
   "cell_type": "code",
   "execution_count": 18,
   "outputs": [
    {
     "name": "stdout",
     "output_type": "stream",
     "text": [
      "<class 'pandas.core.frame.DataFrame'>\n",
      "Index: 644 entries, 0 to 658\n",
      "Data columns (total 7 columns):\n",
      " #   Column      Non-Null Count  Dtype \n",
      "---  ------      --------------  ----- \n",
      " 0   Unnamed: 0  644 non-null    int64 \n",
      " 1   name        644 non-null    object\n",
      " 2   company     644 non-null    object\n",
      " 3   year        644 non-null    int32 \n",
      " 4   Price       644 non-null    int32 \n",
      " 5   kms_driven  644 non-null    int32 \n",
      " 6   fuel_type   644 non-null    object\n",
      "dtypes: int32(3), int64(1), object(3)\n",
      "memory usage: 32.7+ KB\n"
     ]
    }
   ],
   "source": [
    "data.info()"
   ],
   "metadata": {
    "collapsed": false,
    "ExecuteTime": {
     "end_time": "2024-05-23T18:38:39.714645400Z",
     "start_time": "2024-05-23T18:38:36.274365500Z"
    }
   },
   "id": "24228fe555adf8e0"
  },
  {
   "cell_type": "code",
   "execution_count": 19,
   "outputs": [],
   "source": [
    "data['name']=data['name'].str.split().str.slice(start=0,stop=3).str.join(' ')"
   ],
   "metadata": {
    "collapsed": false,
    "ExecuteTime": {
     "end_time": "2024-05-23T18:39:21.785538500Z",
     "start_time": "2024-05-23T18:39:21.692153Z"
    }
   },
   "id": "25f525bae7dac755"
  },
  {
   "cell_type": "code",
   "execution_count": 20,
   "outputs": [],
   "source": [
    "data=data.reset_index(drop=True)"
   ],
   "metadata": {
    "collapsed": false,
    "ExecuteTime": {
     "end_time": "2024-05-23T18:39:24.169111600Z",
     "start_time": "2024-05-23T18:39:24.079890900Z"
    }
   },
   "id": "6e43ef557ac45f6c"
  },
  {
   "cell_type": "code",
   "execution_count": 21,
   "outputs": [
    {
     "data": {
      "text/plain": "     Unnamed: 0                   name company  year  Price  kms_driven  \\\n0             0        Toyota Camry 55  Toyota  2015  15800      150000   \n1             1    Toyota Land Cruiser  Toyota  2015  47000      145000   \n2             1    Toyota Land Cruiser  Toyota  2015  47000      145000   \n3             1    Toyota Land Cruiser  Toyota  2015  47000      145000   \n4             1    Toyota Land Cruiser  Toyota  2015  47000      145000   \n..          ...                    ...     ...   ...    ...         ...   \n639          88      Toyota Avalon XSE  Toyota  2022  42700       18200   \n640          89        Toyota Camry 70  Toyota  2019  20500       65500   \n641          90      Toyota Corolla 60  Toyota  2021  19800       23700   \n642          91  Toyota Avalon Limited  Toyota  2020  39700       21400   \n643          92   Toyota Crown Majesta  Toyota  2023  75000        9800   \n\n    fuel_type  \n0      Hybrid  \n1      Petrol  \n2      Petrol  \n3      Petrol  \n4      Petrol  \n..        ...  \n639    Petrol  \n640    Hybrid  \n641    Hybrid  \n642    Petrol  \n643    Hybrid  \n\n[644 rows x 7 columns]",
      "text/html": "<div>\n<style scoped>\n    .dataframe tbody tr th:only-of-type {\n        vertical-align: middle;\n    }\n\n    .dataframe tbody tr th {\n        vertical-align: top;\n    }\n\n    .dataframe thead th {\n        text-align: right;\n    }\n</style>\n<table border=\"1\" class=\"dataframe\">\n  <thead>\n    <tr style=\"text-align: right;\">\n      <th></th>\n      <th>Unnamed: 0</th>\n      <th>name</th>\n      <th>company</th>\n      <th>year</th>\n      <th>Price</th>\n      <th>kms_driven</th>\n      <th>fuel_type</th>\n    </tr>\n  </thead>\n  <tbody>\n    <tr>\n      <th>0</th>\n      <td>0</td>\n      <td>Toyota Camry 55</td>\n      <td>Toyota</td>\n      <td>2015</td>\n      <td>15800</td>\n      <td>150000</td>\n      <td>Hybrid</td>\n    </tr>\n    <tr>\n      <th>1</th>\n      <td>1</td>\n      <td>Toyota Land Cruiser</td>\n      <td>Toyota</td>\n      <td>2015</td>\n      <td>47000</td>\n      <td>145000</td>\n      <td>Petrol</td>\n    </tr>\n    <tr>\n      <th>2</th>\n      <td>1</td>\n      <td>Toyota Land Cruiser</td>\n      <td>Toyota</td>\n      <td>2015</td>\n      <td>47000</td>\n      <td>145000</td>\n      <td>Petrol</td>\n    </tr>\n    <tr>\n      <th>3</th>\n      <td>1</td>\n      <td>Toyota Land Cruiser</td>\n      <td>Toyota</td>\n      <td>2015</td>\n      <td>47000</td>\n      <td>145000</td>\n      <td>Petrol</td>\n    </tr>\n    <tr>\n      <th>4</th>\n      <td>1</td>\n      <td>Toyota Land Cruiser</td>\n      <td>Toyota</td>\n      <td>2015</td>\n      <td>47000</td>\n      <td>145000</td>\n      <td>Petrol</td>\n    </tr>\n    <tr>\n      <th>...</th>\n      <td>...</td>\n      <td>...</td>\n      <td>...</td>\n      <td>...</td>\n      <td>...</td>\n      <td>...</td>\n      <td>...</td>\n    </tr>\n    <tr>\n      <th>639</th>\n      <td>88</td>\n      <td>Toyota Avalon XSE</td>\n      <td>Toyota</td>\n      <td>2022</td>\n      <td>42700</td>\n      <td>18200</td>\n      <td>Petrol</td>\n    </tr>\n    <tr>\n      <th>640</th>\n      <td>89</td>\n      <td>Toyota Camry 70</td>\n      <td>Toyota</td>\n      <td>2019</td>\n      <td>20500</td>\n      <td>65500</td>\n      <td>Hybrid</td>\n    </tr>\n    <tr>\n      <th>641</th>\n      <td>90</td>\n      <td>Toyota Corolla 60</td>\n      <td>Toyota</td>\n      <td>2021</td>\n      <td>19800</td>\n      <td>23700</td>\n      <td>Hybrid</td>\n    </tr>\n    <tr>\n      <th>642</th>\n      <td>91</td>\n      <td>Toyota Avalon Limited</td>\n      <td>Toyota</td>\n      <td>2020</td>\n      <td>39700</td>\n      <td>21400</td>\n      <td>Petrol</td>\n    </tr>\n    <tr>\n      <th>643</th>\n      <td>92</td>\n      <td>Toyota Crown Majesta</td>\n      <td>Toyota</td>\n      <td>2023</td>\n      <td>75000</td>\n      <td>9800</td>\n      <td>Hybrid</td>\n    </tr>\n  </tbody>\n</table>\n<p>644 rows × 7 columns</p>\n</div>"
     },
     "execution_count": 21,
     "metadata": {},
     "output_type": "execute_result"
    }
   ],
   "source": [
    "data"
   ],
   "metadata": {
    "collapsed": false,
    "ExecuteTime": {
     "end_time": "2024-05-23T18:39:25.561176600Z",
     "start_time": "2024-05-23T18:39:25.494570100Z"
    }
   },
   "id": "6d172281c157e3fa"
  },
  {
   "cell_type": "code",
   "execution_count": 22,
   "outputs": [],
   "source": [
    "## data.to_csv('dataset/cleaned_data_cars.csv',index = False)"
   ],
   "metadata": {
    "collapsed": false,
    "ExecuteTime": {
     "end_time": "2024-05-23T18:39:28.505836100Z",
     "start_time": "2024-05-23T18:39:27.135627600Z"
    }
   },
   "id": "710d90845ef15077"
  },
  {
   "cell_type": "code",
   "execution_count": 23,
   "outputs": [
    {
     "name": "stdout",
     "output_type": "stream",
     "text": [
      "<class 'pandas.core.frame.DataFrame'>\n",
      "RangeIndex: 644 entries, 0 to 643\n",
      "Data columns (total 7 columns):\n",
      " #   Column      Non-Null Count  Dtype \n",
      "---  ------      --------------  ----- \n",
      " 0   Unnamed: 0  644 non-null    int64 \n",
      " 1   name        644 non-null    object\n",
      " 2   company     644 non-null    object\n",
      " 3   year        644 non-null    int32 \n",
      " 4   Price       644 non-null    int32 \n",
      " 5   kms_driven  644 non-null    int32 \n",
      " 6   fuel_type   644 non-null    object\n",
      "dtypes: int32(3), int64(1), object(3)\n",
      "memory usage: 27.8+ KB\n"
     ]
    }
   ],
   "source": [
    "data.info()"
   ],
   "metadata": {
    "collapsed": false,
    "ExecuteTime": {
     "end_time": "2024-05-23T18:39:31.133524800Z",
     "start_time": "2024-05-23T18:39:30.997142200Z"
    }
   },
   "id": "fc28e07e98f383c"
  },
  {
   "cell_type": "code",
   "execution_count": 24,
   "outputs": [
    {
     "data": {
      "text/plain": "        Unnamed: 0       name company         year          Price  \\\ncount   644.000000        644     644   644.000000     644.000000   \nunique         NaN        293       6          NaN            NaN   \ntop            NaN  Honda Fit     BMW          NaN            NaN   \nfreq           NaN         14     123          NaN            NaN   \nmean    300.650621        NaN     NaN  2016.380435   42291.770186   \nstd     178.359050        NaN     NaN     4.995767   50604.459297   \nmin       0.000000        NaN     NaN  1990.000000    2500.000000   \n25%     139.750000        NaN     NaN  2014.000000   18000.000000   \n50%     300.500000        NaN     NaN  2017.000000   31550.000000   \n75%     462.250000        NaN     NaN  2020.000000   50000.000000   \nmax     600.000000        NaN     NaN  2024.000000  960000.000000   \n\n           kms_driven fuel_type  \ncount      644.000000       644  \nunique            NaN         7  \ntop               NaN    Petrol  \nfreq              NaN       462  \nmean     75665.071429       NaN  \nstd      60886.190813       NaN  \nmin         17.000000       NaN  \n25%      30000.000000       NaN  \n50%      60000.000000       NaN  \n75%     100000.000000       NaN  \nmax     312500.000000       NaN  ",
      "text/html": "<div>\n<style scoped>\n    .dataframe tbody tr th:only-of-type {\n        vertical-align: middle;\n    }\n\n    .dataframe tbody tr th {\n        vertical-align: top;\n    }\n\n    .dataframe thead th {\n        text-align: right;\n    }\n</style>\n<table border=\"1\" class=\"dataframe\">\n  <thead>\n    <tr style=\"text-align: right;\">\n      <th></th>\n      <th>Unnamed: 0</th>\n      <th>name</th>\n      <th>company</th>\n      <th>year</th>\n      <th>Price</th>\n      <th>kms_driven</th>\n      <th>fuel_type</th>\n    </tr>\n  </thead>\n  <tbody>\n    <tr>\n      <th>count</th>\n      <td>644.000000</td>\n      <td>644</td>\n      <td>644</td>\n      <td>644.000000</td>\n      <td>644.000000</td>\n      <td>644.000000</td>\n      <td>644</td>\n    </tr>\n    <tr>\n      <th>unique</th>\n      <td>NaN</td>\n      <td>293</td>\n      <td>6</td>\n      <td>NaN</td>\n      <td>NaN</td>\n      <td>NaN</td>\n      <td>7</td>\n    </tr>\n    <tr>\n      <th>top</th>\n      <td>NaN</td>\n      <td>Honda Fit</td>\n      <td>BMW</td>\n      <td>NaN</td>\n      <td>NaN</td>\n      <td>NaN</td>\n      <td>Petrol</td>\n    </tr>\n    <tr>\n      <th>freq</th>\n      <td>NaN</td>\n      <td>14</td>\n      <td>123</td>\n      <td>NaN</td>\n      <td>NaN</td>\n      <td>NaN</td>\n      <td>462</td>\n    </tr>\n    <tr>\n      <th>mean</th>\n      <td>300.650621</td>\n      <td>NaN</td>\n      <td>NaN</td>\n      <td>2016.380435</td>\n      <td>42291.770186</td>\n      <td>75665.071429</td>\n      <td>NaN</td>\n    </tr>\n    <tr>\n      <th>std</th>\n      <td>178.359050</td>\n      <td>NaN</td>\n      <td>NaN</td>\n      <td>4.995767</td>\n      <td>50604.459297</td>\n      <td>60886.190813</td>\n      <td>NaN</td>\n    </tr>\n    <tr>\n      <th>min</th>\n      <td>0.000000</td>\n      <td>NaN</td>\n      <td>NaN</td>\n      <td>1990.000000</td>\n      <td>2500.000000</td>\n      <td>17.000000</td>\n      <td>NaN</td>\n    </tr>\n    <tr>\n      <th>25%</th>\n      <td>139.750000</td>\n      <td>NaN</td>\n      <td>NaN</td>\n      <td>2014.000000</td>\n      <td>18000.000000</td>\n      <td>30000.000000</td>\n      <td>NaN</td>\n    </tr>\n    <tr>\n      <th>50%</th>\n      <td>300.500000</td>\n      <td>NaN</td>\n      <td>NaN</td>\n      <td>2017.000000</td>\n      <td>31550.000000</td>\n      <td>60000.000000</td>\n      <td>NaN</td>\n    </tr>\n    <tr>\n      <th>75%</th>\n      <td>462.250000</td>\n      <td>NaN</td>\n      <td>NaN</td>\n      <td>2020.000000</td>\n      <td>50000.000000</td>\n      <td>100000.000000</td>\n      <td>NaN</td>\n    </tr>\n    <tr>\n      <th>max</th>\n      <td>600.000000</td>\n      <td>NaN</td>\n      <td>NaN</td>\n      <td>2024.000000</td>\n      <td>960000.000000</td>\n      <td>312500.000000</td>\n      <td>NaN</td>\n    </tr>\n  </tbody>\n</table>\n</div>"
     },
     "execution_count": 24,
     "metadata": {},
     "output_type": "execute_result"
    }
   ],
   "source": [
    "data.describe(include='all')"
   ],
   "metadata": {
    "collapsed": false,
    "ExecuteTime": {
     "end_time": "2024-05-23T18:39:32.204088300Z",
     "start_time": "2024-05-23T18:39:32.134638700Z"
    }
   },
   "id": "b975eb8dc8fe2339"
  },
  {
   "cell_type": "code",
   "execution_count": 25,
   "outputs": [],
   "source": [
    "#data=data[data['Price']<60000]"
   ],
   "metadata": {
    "collapsed": false,
    "ExecuteTime": {
     "end_time": "2024-05-23T18:39:34.490159100Z",
     "start_time": "2024-05-23T18:39:34.462720800Z"
    }
   },
   "id": "398f9eb9f2b6b9f"
  },
  {
   "cell_type": "code",
   "execution_count": 26,
   "outputs": [
    {
     "data": {
      "text/plain": "array(['Toyota', 'Honda', 'Mercedes-Benz', 'Lexus', 'BMW', 'Hyundai'],\n      dtype=object)"
     },
     "execution_count": 26,
     "metadata": {},
     "output_type": "execute_result"
    }
   ],
   "source": [
    "data['company'].unique()"
   ],
   "metadata": {
    "collapsed": false,
    "ExecuteTime": {
     "end_time": "2024-05-23T18:39:35.791180400Z",
     "start_time": "2024-05-23T18:39:35.621910800Z"
    }
   },
   "id": "185f7c3e063320aa"
  },
  {
   "cell_type": "code",
   "execution_count": 27,
   "outputs": [],
   "source": [
    "import pandas as pd\n",
    "import seaborn as sns\n",
    "import matplotlib.pyplot as plt"
   ],
   "metadata": {
    "collapsed": false,
    "ExecuteTime": {
     "end_time": "2024-05-23T18:39:36.596966700Z",
     "start_time": "2024-05-23T18:39:36.515553800Z"
    }
   },
   "id": "e6dfee204dc0fa2c"
  },
  {
   "cell_type": "code",
   "execution_count": 28,
   "outputs": [],
   "source": [
    "### Кодирование признаков\n"
   ],
   "metadata": {
    "collapsed": false,
    "ExecuteTime": {
     "end_time": "2024-05-23T18:39:37.314131800Z",
     "start_time": "2024-05-23T18:39:37.307209700Z"
    }
   },
   "id": "ba1c9cd218667be5"
  },
  {
   "cell_type": "code",
   "execution_count": 29,
   "outputs": [
    {
     "data": {
      "text/plain": "<Figure size 1000x800 with 2 Axes>",
      "image/png": "[encoded data removed]"
     },
     "metadata": {},
     "output_type": "display_data"
    }
   ],
   "source": [
    "# Вычисление корреляций\n",
    "numeric_cols = ['year', 'Price', 'kms_driven']\n",
    "corr_matrix = data[numeric_cols].corr()\n",
    "\n",
    "# Построение тепловой карты с помощью Seaborn\n",
    "plt.figure(figsize=(10, 8))\n",
    "sns.heatmap(corr_matrix, annot=True, cmap='coolwarm', vmin=-1, vmax=1)\n",
    "plt.title('Correlation Heatmap')\n",
    "plt.xticks(rotation=45)\n",
    "plt.yticks(rotation=0)\n",
    "plt.tight_layout()\n",
    "plt.show()"
   ],
   "metadata": {
    "collapsed": false,
    "ExecuteTime": {
     "end_time": "2024-05-23T18:39:40.313684400Z",
     "start_time": "2024-05-23T18:39:38.429324Z"
    }
   },
   "id": "77b22224364d09f5"
  },
  {
   "cell_type": "markdown",
   "source": [
    "## Построение модели "
   ],
   "metadata": {
    "collapsed": false
   },
   "id": "36ea530917fb1b5b"
  },
  {
   "cell_type": "code",
   "execution_count": 30,
   "outputs": [],
   "source": [
    "X=data[['name','company','year','kms_driven','fuel_type']]\n",
    "y=data['Price']"
   ],
   "metadata": {
    "collapsed": false,
    "ExecuteTime": {
     "end_time": "2024-05-23T18:39:43.613300800Z",
     "start_time": "2024-05-23T18:39:43.576801600Z"
    }
   },
   "id": "f0d397863b903fd0"
  },
  {
   "cell_type": "code",
   "execution_count": 31,
   "outputs": [
    {
     "data": {
      "text/plain": "                      name company  year  kms_driven fuel_type\n0          Toyota Camry 55  Toyota  2015      150000    Hybrid\n1      Toyota Land Cruiser  Toyota  2015      145000    Petrol\n2      Toyota Land Cruiser  Toyota  2015      145000    Petrol\n3      Toyota Land Cruiser  Toyota  2015      145000    Petrol\n4      Toyota Land Cruiser  Toyota  2015      145000    Petrol\n..                     ...     ...   ...         ...       ...\n639      Toyota Avalon XSE  Toyota  2022       18200    Petrol\n640        Toyota Camry 70  Toyota  2019       65500    Hybrid\n641      Toyota Corolla 60  Toyota  2021       23700    Hybrid\n642  Toyota Avalon Limited  Toyota  2020       21400    Petrol\n643   Toyota Crown Majesta  Toyota  2023        9800    Hybrid\n\n[644 rows x 5 columns]",
      "text/html": "<div>\n<style scoped>\n    .dataframe tbody tr th:only-of-type {\n        vertical-align: middle;\n    }\n\n    .dataframe tbody tr th {\n        vertical-align: top;\n    }\n\n    .dataframe thead th {\n        text-align: right;\n    }\n</style>\n<table border=\"1\" class=\"dataframe\">\n  <thead>\n    <tr style=\"text-align: right;\">\n      <th></th>\n      <th>name</th>\n      <th>company</th>\n      <th>year</th>\n      <th>kms_driven</th>\n      <th>fuel_type</th>\n    </tr>\n  </thead>\n  <tbody>\n    <tr>\n      <th>0</th>\n      <td>Toyota Camry 55</td>\n      <td>Toyota</td>\n      <td>2015</td>\n      <td>150000</td>\n      <td>Hybrid</td>\n    </tr>\n    <tr>\n      <th>1</th>\n      <td>Toyota Land Cruiser</td>\n      <td>Toyota</td>\n      <td>2015</td>\n      <td>145000</td>\n      <td>Petrol</td>\n    </tr>\n    <tr>\n      <th>2</th>\n      <td>Toyota Land Cruiser</td>\n      <td>Toyota</td>\n      <td>2015</td>\n      <td>145000</td>\n      <td>Petrol</td>\n    </tr>\n    <tr>\n      <th>3</th>\n      <td>Toyota Land Cruiser</td>\n      <td>Toyota</td>\n      <td>2015</td>\n      <td>145000</td>\n      <td>Petrol</td>\n    </tr>\n    <tr>\n      <th>4</th>\n      <td>Toyota Land Cruiser</td>\n      <td>Toyota</td>\n      <td>2015</td>\n      <td>145000</td>\n      <td>Petrol</td>\n    </tr>\n    <tr>\n      <th>...</th>\n      <td>...</td>\n      <td>...</td>\n      <td>...</td>\n      <td>...</td>\n      <td>...</td>\n    </tr>\n    <tr>\n      <th>639</th>\n      <td>Toyota Avalon XSE</td>\n      <td>Toyota</td>\n      <td>2022</td>\n      <td>18200</td>\n      <td>Petrol</td>\n    </tr>\n    <tr>\n      <th>640</th>\n      <td>Toyota Camry 70</td>\n      <td>Toyota</td>\n      <td>2019</td>\n      <td>65500</td>\n      <td>Hybrid</td>\n    </tr>\n    <tr>\n      <th>641</th>\n      <td>Toyota Corolla 60</td>\n      <td>Toyota</td>\n      <td>2021</td>\n      <td>23700</td>\n      <td>Hybrid</td>\n    </tr>\n    <tr>\n      <th>642</th>\n      <td>Toyota Avalon Limited</td>\n      <td>Toyota</td>\n      <td>2020</td>\n      <td>21400</td>\n      <td>Petrol</td>\n    </tr>\n    <tr>\n      <th>643</th>\n      <td>Toyota Crown Majesta</td>\n      <td>Toyota</td>\n      <td>2023</td>\n      <td>9800</td>\n      <td>Hybrid</td>\n    </tr>\n  </tbody>\n</table>\n<p>644 rows × 5 columns</p>\n</div>"
     },
     "execution_count": 31,
     "metadata": {},
     "output_type": "execute_result"
    }
   ],
   "source": [
    "X"
   ],
   "metadata": {
    "collapsed": false,
    "ExecuteTime": {
     "end_time": "2024-05-23T18:39:45.140119600Z",
     "start_time": "2024-05-23T18:39:45.067655Z"
    }
   },
   "id": "aef46a35a9e359e3"
  },
  {
   "cell_type": "code",
   "execution_count": 32,
   "outputs": [
    {
     "data": {
      "text/plain": "(644,)"
     },
     "execution_count": 32,
     "metadata": {},
     "output_type": "execute_result"
    }
   ],
   "source": [
    "y.shape"
   ],
   "metadata": {
    "collapsed": false,
    "ExecuteTime": {
     "end_time": "2024-05-23T18:39:45.947387900Z",
     "start_time": "2024-05-23T18:39:45.910926100Z"
    }
   },
   "id": "1559b53d21073f54"
  },
  {
   "cell_type": "code",
   "execution_count": 33,
   "outputs": [],
   "source": [
    "from sklearn.model_selection import train_test_split\n",
    "X_train,X_test,y_train,y_test=train_test_split(X,y,test_size=0.2)"
   ],
   "metadata": {
    "collapsed": false,
    "ExecuteTime": {
     "end_time": "2024-05-23T18:39:47.733334200Z",
     "start_time": "2024-05-23T18:39:46.724727500Z"
    }
   },
   "id": "4334f76629da5168"
  },
  {
   "cell_type": "code",
   "execution_count": 34,
   "outputs": [],
   "source": [
    "from sklearn.linear_model import LinearRegression"
   ],
   "metadata": {
    "collapsed": false,
    "ExecuteTime": {
     "end_time": "2024-05-23T18:39:47.944077300Z",
     "start_time": "2024-05-23T18:39:47.736891200Z"
    }
   },
   "id": "a6b22a135ccf5a76"
  },
  {
   "cell_type": "code",
   "execution_count": 35,
   "outputs": [],
   "source": [
    "from sklearn.preprocessing import OneHotEncoder\n",
    "from sklearn.compose import make_column_transformer\n",
    "from sklearn.pipeline import make_pipeline\n",
    "from sklearn.metrics import r2_score"
   ],
   "metadata": {
    "collapsed": false,
    "ExecuteTime": {
     "end_time": "2024-05-23T18:39:48.543781300Z",
     "start_time": "2024-05-23T18:39:48.492722400Z"
    }
   },
   "id": "9be2638cdb1646ff"
  },
  {
   "cell_type": "code",
   "execution_count": 36,
   "outputs": [
    {
     "data": {
      "text/plain": "OneHotEncoder()",
      "text/html": "<style>#sk-container-id-1 {color: black;}#sk-container-id-1 pre{padding: 0;}#sk-container-id-1 div.sk-toggleable {background-color: white;}#sk-container-id-1 label.sk-toggleable__label {cursor: pointer;display: block;width: 100%;margin-bottom: 0;padding: 0.3em;box-sizing: border-box;text-align: center;}#sk-container-id-1 label.sk-toggleable__label-arrow:before {content: \"▸\";float: left;margin-right: 0.25em;color: #696969;}#sk-container-id-1 label.sk-toggleable__label-arrow:hover:before {color: black;}#sk-container-id-1 div.sk-estimator:hover label.sk-toggleable__label-arrow:before {color: black;}#sk-container-id-1 div.sk-toggleable__content {max-height: 0;max-width: 0;overflow: hidden;text-align: left;background-color: #f0f8ff;}#sk-container-id-1 div.sk-toggleable__content pre {margin: 0.2em;color: black;border-radius: 0.25em;background-color: #f0f8ff;}#sk-container-id-1 input.sk-toggleable__control:checked~div.sk-toggleable__content {max-height: 200px;max-width: 100%;overflow: auto;}#sk-container-id-1 input.sk-toggleable__control:checked~label.sk-toggleable__label-arrow:before {content: \"▾\";}#sk-container-id-1 div.sk-estimator input.sk-toggleable__control:checked~label.sk-toggleable__label {background-color: #d4ebff;}#sk-container-id-1 div.sk-label input.sk-toggleable__control:checked~label.sk-toggleable__label {background-color: #d4ebff;}#sk-container-id-1 input.sk-hidden--visually {border: 0;clip: rect(1px 1px 1px 1px);clip: rect(1px, 1px, 1px, 1px);height: 1px;margin: -1px;overflow: hidden;padding: 0;position: absolute;width: 1px;}#sk-container-id-1 div.sk-estimator {font-family: monospace;background-color: #f0f8ff;border: 1px dotted black;border-radius: 0.25em;box-sizing: border-box;margin-bottom: 0.5em;}#sk-container-id-1 div.sk-estimator:hover {background-color: #d4ebff;}#sk-container-id-1 div.sk-parallel-item::after {content: \"\";width: 100%;border-bottom: 1px solid gray;flex-grow: 1;}#sk-container-id-1 div.sk-label:hover label.sk-toggleable__label {background-color: #d4ebff;}#sk-container-id-1 div.sk-serial::before {content: \"\";position: absolute;border-left: 1px solid gray;box-sizing: border-box;top: 0;bottom: 0;left: 50%;z-index: 0;}#sk-container-id-1 div.sk-serial {display: flex;flex-direction: column;align-items: center;background-color: white;padding-right: 0.2em;padding-left: 0.2em;position: relative;}#sk-container-id-1 div.sk-item {position: relative;z-index: 1;}#sk-container-id-1 div.sk-parallel {display: flex;align-items: stretch;justify-content: center;background-color: white;position: relative;}#sk-container-id-1 div.sk-item::before, #sk-container-id-1 div.sk-parallel-item::before {content: \"\";position: absolute;border-left: 1px solid gray;box-sizing: border-box;top: 0;bottom: 0;left: 50%;z-index: -1;}#sk-container-id-1 div.sk-parallel-item {display: flex;flex-direction: column;z-index: 1;position: relative;background-color: white;}#sk-container-id-1 div.sk-parallel-item:first-child::after {align-self: flex-end;width: 50%;}#sk-container-id-1 div.sk-parallel-item:last-child::after {align-self: flex-start;width: 50%;}#sk-container-id-1 div.sk-parallel-item:only-child::after {width: 0;}#sk-container-id-1 div.sk-dashed-wrapped {border: 1px dashed gray;margin: 0 0.4em 0.5em 0.4em;box-sizing: border-box;padding-bottom: 0.4em;background-color: white;}#sk-container-id-1 div.sk-label label {font-family: monospace;font-weight: bold;display: inline-block;line-height: 1.2em;}#sk-container-id-1 div.sk-label-container {text-align: center;}#sk-container-id-1 div.sk-container {/* jupyter's `normalize.less` sets `[hidden] { display: none; }` but bootstrap.min.css set `[hidden] { display: none !important; }` so we also need the `!important` here to be able to override the default hidden behavior on the sphinx rendered scikit-learn.org. See: https://github.com/scikit-learn/scikit-learn/issues/21755 */display: inline-block !important;position: relative;}#sk-container-id-1 div.sk-text-repr-fallback {display: none;}</style><div id=\"sk-container-id-1\" class=\"sk-top-container\"><div class=\"sk-text-repr-fallback\"><pre>OneHotEncoder()</pre><b>In a Jupyter environment, please rerun this cell to show the HTML representation or trust the notebook. <br />On GitHub, the HTML representation is unable to render, please try loading this page with nbviewer.org.</b></div><div class=\"sk-container\" hidden><div class=\"sk-item\"><div class=\"sk-estimator sk-toggleable\"><input class=\"sk-toggleable__control sk-hidden--visually\" id=\"sk-estimator-id-1\" type=\"checkbox\" checked><label for=\"sk-estimator-id-1\" class=\"sk-toggleable__label sk-toggleable__label-arrow\">OneHotEncoder</label><div class=\"sk-toggleable__content\"><pre>OneHotEncoder()</pre></div></div></div></div></div>"
     },
     "execution_count": 36,
     "metadata": {},
     "output_type": "execute_result"
    }
   ],
   "source": [
    "ohe=OneHotEncoder()\n",
    "ohe.fit(X[['name','company','fuel_type']])"
   ],
   "metadata": {
    "collapsed": false,
    "ExecuteTime": {
     "end_time": "2024-05-23T18:39:49.245106Z",
     "start_time": "2024-05-23T18:39:49.191852500Z"
    }
   },
   "id": "fb891f939194ee8a"
  },
  {
   "cell_type": "code",
   "execution_count": 37,
   "outputs": [],
   "source": [
    "column_trans=make_column_transformer((OneHotEncoder(categories=ohe.categories_),['name','company','fuel_type']),\n",
    "                                    remainder='passthrough')"
   ],
   "metadata": {
    "collapsed": false,
    "ExecuteTime": {
     "end_time": "2024-05-23T18:39:49.828192300Z",
     "start_time": "2024-05-23T18:39:49.800917Z"
    }
   },
   "id": "5ae6309b4bbcf4ee"
  },
  {
   "cell_type": "code",
   "execution_count": 38,
   "outputs": [],
   "source": [
    "lr=LinearRegression()"
   ],
   "metadata": {
    "collapsed": false,
    "ExecuteTime": {
     "end_time": "2024-05-23T18:39:50.536060700Z",
     "start_time": "2024-05-23T18:39:50.510866900Z"
    }
   },
   "id": "dad21e737bce5a83"
  },
  {
   "cell_type": "code",
   "execution_count": 39,
   "outputs": [],
   "source": [
    "pipe=make_pipeline(column_trans,lr)"
   ],
   "metadata": {
    "collapsed": false,
    "ExecuteTime": {
     "end_time": "2024-05-23T18:39:51.247418700Z",
     "start_time": "2024-05-23T18:39:51.223385Z"
    }
   },
   "id": "f544855a2b7b15d9"
  },
  {
   "cell_type": "code",
   "execution_count": 40,
   "outputs": [
    {
     "data": {
      "text/plain": "Pipeline(steps=[('columntransformer',\n                 ColumnTransformer(remainder='passthrough',\n                                   transformers=[('onehotencoder',\n                                                  OneHotEncoder(categories=[array(['BMW 116i', 'BMW 118d', 'BMW 118d Hatchback', 'BMW 118i',\n       'BMW 125d', 'BMW 125d Hatchback', 'BMW 125i',\n       'BMW 125i Convertible', 'BMW 218i Gran', 'BMW 220d',\n       'BMW 220d Gran', 'BMW 220i', 'BMW 220i Convertible',\n       'BMW 225xe Active', 'BMW 318d', 'B...\n       'Toyota Sequoia I', 'Toyota Supra 2.0', 'Toyota Supra 3.0',\n       'Toyota Supra A91', 'Toyota Supra GR', 'Toyota Yaris Hatchback',\n       'Toyota Yaris LE', 'Toyota Yaris Sedan'], dtype=object),\n                                                                            array(['BMW', 'Honda', 'Hyundai', 'Lexus', 'Mercedes-Benz', 'Toyota'],\n      dtype=object),\n                                                                            array([' Petrol', 'Diesel', 'Electric', 'Hybrid', 'Hydrogen', 'LPG',\n       'Petrol'], dtype=object)]),\n                                                  ['name', 'company',\n                                                   'fuel_type'])])),\n                ('linearregression', LinearRegression())])",
      "text/html": "<style>#sk-container-id-2 {color: black;}#sk-container-id-2 pre{padding: 0;}#sk-container-id-2 div.sk-toggleable {background-color: white;}#sk-container-id-2 label.sk-toggleable__label {cursor: pointer;display: block;width: 100%;margin-bottom: 0;padding: 0.3em;box-sizing: border-box;text-align: center;}#sk-container-id-2 label.sk-toggleable__label-arrow:before {content: \"▸\";float: left;margin-right: 0.25em;color: #696969;}#sk-container-id-2 label.sk-toggleable__label-arrow:hover:before {color: black;}#sk-container-id-2 div.sk-estimator:hover label.sk-toggleable__label-arrow:before {color: black;}#sk-container-id-2 div.sk-toggleable__content {max-height: 0;max-width: 0;overflow: hidden;text-align: left;background-color: #f0f8ff;}#sk-container-id-2 div.sk-toggleable__content pre {margin: 0.2em;color: black;border-radius: 0.25em;background-color: #f0f8ff;}#sk-container-id-2 input.sk-toggleable__control:checked~div.sk-toggleable__content {max-height: 200px;max-width: 100%;overflow: auto;}#sk-container-id-2 input.sk-toggleable__control:checked~label.sk-toggleable__label-arrow:before {content: \"▾\";}#sk-container-id-2 div.sk-estimator input.sk-toggleable__control:checked~label.sk-toggleable__label {background-color: #d4ebff;}#sk-container-id-2 div.sk-label input.sk-toggleable__control:checked~label.sk-toggleable__label {background-color: #d4ebff;}#sk-container-id-2 input.sk-hidden--visually {border: 0;clip: rect(1px 1px 1px 1px);clip: rect(1px, 1px, 1px, 1px);height: 1px;margin: -1px;overflow: hidden;padding: 0;position: absolute;width: 1px;}#sk-container-id-2 div.sk-estimator {font-family: monospace;background-color: #f0f8ff;border: 1px dotted black;border-radius: 0.25em;box-sizing: border-box;margin-bottom: 0.5em;}#sk-container-id-2 div.sk-estimator:hover {background-color: #d4ebff;}#sk-container-id-2 div.sk-parallel-item::after {content: \"\";width: 100%;border-bottom: 1px solid gray;flex-grow: 1;}#sk-container-id-2 div.sk-label:hover label.sk-toggleable__label {background-color: #d4ebff;}#sk-container-id-2 div.sk-serial::before {content: \"\";position: absolute;border-left: 1px solid gray;box-sizing: border-box;top: 0;bottom: 0;left: 50%;z-index: 0;}#sk-container-id-2 div.sk-serial {display: flex;flex-direction: column;align-items: center;background-color: white;padding-right: 0.2em;padding-left: 0.2em;position: relative;}#sk-container-id-2 div.sk-item {position: relative;z-index: 1;}#sk-container-id-2 div.sk-parallel {display: flex;align-items: stretch;justify-content: center;background-color: white;position: relative;}#sk-container-id-2 div.sk-item::before, #sk-container-id-2 div.sk-parallel-item::before {content: \"\";position: absolute;border-left: 1px solid gray;box-sizing: border-box;top: 0;bottom: 0;left: 50%;z-index: -1;}#sk-container-id-2 div.sk-parallel-item {display: flex;flex-direction: column;z-index: 1;position: relative;background-color: white;}#sk-container-id-2 div.sk-parallel-item:first-child::after {align-self: flex-end;width: 50%;}#sk-container-id-2 div.sk-parallel-item:last-child::after {align-self: flex-start;width: 50%;}#sk-container-id-2 div.sk-parallel-item:only-child::after {width: 0;}#sk-container-id-2 div.sk-dashed-wrapped {border: 1px dashed gray;margin: 0 0.4em 0.5em 0.4em;box-sizing: border-box;padding-bottom: 0.4em;background-color: white;}#sk-container-id-2 div.sk-label label {font-family: monospace;font-weight: bold;display: inline-block;line-height: 1.2em;}#sk-container-id-2 div.sk-label-container {text-align: center;}#sk-container-id-2 div.sk-container {/* jupyter's `normalize.less` sets `[hidden] { display: none; }` but bootstrap.min.css set `[hidden] { display: none !important; }` so we also need the `!important` here to be able to override the default hidden behavior on the sphinx rendered scikit-learn.org. See: https://github.com/scikit-learn/scikit-learn/issues/21755 */display: inline-block !important;position: relative;}#sk-container-id-2 div.sk-text-repr-fallback {display: none;}</style><div id=\"sk-container-id-2\" class=\"sk-top-container\"><div class=\"sk-text-repr-fallback\"><pre>Pipeline(steps=[(&#x27;columntransformer&#x27;,\n                 ColumnTransformer(remainder=&#x27;passthrough&#x27;,\n                                   transformers=[(&#x27;onehotencoder&#x27;,\n                                                  OneHotEncoder(categories=[array([&#x27;BMW 116i&#x27;, &#x27;BMW 118d&#x27;, &#x27;BMW 118d Hatchback&#x27;, &#x27;BMW 118i&#x27;,\n       &#x27;BMW 125d&#x27;, &#x27;BMW 125d Hatchback&#x27;, &#x27;BMW 125i&#x27;,\n       &#x27;BMW 125i Convertible&#x27;, &#x27;BMW 218i Gran&#x27;, &#x27;BMW 220d&#x27;,\n       &#x27;BMW 220d Gran&#x27;, &#x27;BMW 220i&#x27;, &#x27;BMW 220i Convertible&#x27;,\n       &#x27;BMW 225xe Active&#x27;, &#x27;BMW 318d&#x27;, &#x27;B...\n       &#x27;Toyota Sequoia I&#x27;, &#x27;Toyota Supra 2.0&#x27;, &#x27;Toyota Supra 3.0&#x27;,\n       &#x27;Toyota Supra A91&#x27;, &#x27;Toyota Supra GR&#x27;, &#x27;Toyota Yaris Hatchback&#x27;,\n       &#x27;Toyota Yaris LE&#x27;, &#x27;Toyota Yaris Sedan&#x27;], dtype=object),\n                                                                            array([&#x27;BMW&#x27;, &#x27;Honda&#x27;, &#x27;Hyundai&#x27;, &#x27;Lexus&#x27;, &#x27;Mercedes-Benz&#x27;, &#x27;Toyota&#x27;],\n      dtype=object),\n                                                                            array([&#x27; Petrol&#x27;, &#x27;Diesel&#x27;, &#x27;Electric&#x27;, &#x27;Hybrid&#x27;, &#x27;Hydrogen&#x27;, &#x27;LPG&#x27;,\n       &#x27;Petrol&#x27;], dtype=object)]),\n                                                  [&#x27;name&#x27;, &#x27;company&#x27;,\n                                                   &#x27;fuel_type&#x27;])])),\n                (&#x27;linearregression&#x27;, LinearRegression())])</pre><b>In a Jupyter environment, please rerun this cell to show the HTML representation or trust the notebook. <br />On GitHub, the HTML representation is unable to render, please try loading this page with nbviewer.org.</b></div><div class=\"sk-container\" hidden><div class=\"sk-item sk-dashed-wrapped\"><div class=\"sk-label-container\"><div class=\"sk-label sk-toggleable\"><input class=\"sk-toggleable__control sk-hidden--visually\" id=\"sk-estimator-id-2\" type=\"checkbox\" ><label for=\"sk-estimator-id-2\" class=\"sk-toggleable__label sk-toggleable__label-arrow\">Pipeline</label><div class=\"sk-toggleable__content\"><pre>Pipeline(steps=[(&#x27;columntransformer&#x27;,\n                 ColumnTransformer(remainder=&#x27;passthrough&#x27;,\n                                   transformers=[(&#x27;onehotencoder&#x27;,\n                                                  OneHotEncoder(categories=[array([&#x27;BMW 116i&#x27;, &#x27;BMW 118d&#x27;, &#x27;BMW 118d Hatchback&#x27;, &#x27;BMW 118i&#x27;,\n       &#x27;BMW 125d&#x27;, &#x27;BMW 125d Hatchback&#x27;, &#x27;BMW 125i&#x27;,\n       &#x27;BMW 125i Convertible&#x27;, &#x27;BMW 218i Gran&#x27;, &#x27;BMW 220d&#x27;,\n       &#x27;BMW 220d Gran&#x27;, &#x27;BMW 220i&#x27;, &#x27;BMW 220i Convertible&#x27;,\n       &#x27;BMW 225xe Active&#x27;, &#x27;BMW 318d&#x27;, &#x27;B...\n       &#x27;Toyota Sequoia I&#x27;, &#x27;Toyota Supra 2.0&#x27;, &#x27;Toyota Supra 3.0&#x27;,\n       &#x27;Toyota Supra A91&#x27;, &#x27;Toyota Supra GR&#x27;, &#x27;Toyota Yaris Hatchback&#x27;,\n       &#x27;Toyota Yaris LE&#x27;, &#x27;Toyota Yaris Sedan&#x27;], dtype=object),\n                                                                            array([&#x27;BMW&#x27;, &#x27;Honda&#x27;, &#x27;Hyundai&#x27;, &#x27;Lexus&#x27;, &#x27;Mercedes-Benz&#x27;, &#x27;Toyota&#x27;],\n      dtype=object),\n                                                                            array([&#x27; Petrol&#x27;, &#x27;Diesel&#x27;, &#x27;Electric&#x27;, &#x27;Hybrid&#x27;, &#x27;Hydrogen&#x27;, &#x27;LPG&#x27;,\n       &#x27;Petrol&#x27;], dtype=object)]),\n                                                  [&#x27;name&#x27;, &#x27;company&#x27;,\n                                                   &#x27;fuel_type&#x27;])])),\n                (&#x27;linearregression&#x27;, LinearRegression())])</pre></div></div></div><div class=\"sk-serial\"><div class=\"sk-item sk-dashed-wrapped\"><div class=\"sk-label-container\"><div class=\"sk-label sk-toggleable\"><input class=\"sk-toggleable__control sk-hidden--visually\" id=\"sk-estimator-id-3\" type=\"checkbox\" ><label for=\"sk-estimator-id-3\" class=\"sk-toggleable__label sk-toggleable__label-arrow\">columntransformer: ColumnTransformer</label><div class=\"sk-toggleable__content\"><pre>ColumnTransformer(remainder=&#x27;passthrough&#x27;,\n                  transformers=[(&#x27;onehotencoder&#x27;,\n                                 OneHotEncoder(categories=[array([&#x27;BMW 116i&#x27;, &#x27;BMW 118d&#x27;, &#x27;BMW 118d Hatchback&#x27;, &#x27;BMW 118i&#x27;,\n       &#x27;BMW 125d&#x27;, &#x27;BMW 125d Hatchback&#x27;, &#x27;BMW 125i&#x27;,\n       &#x27;BMW 125i Convertible&#x27;, &#x27;BMW 218i Gran&#x27;, &#x27;BMW 220d&#x27;,\n       &#x27;BMW 220d Gran&#x27;, &#x27;BMW 220i&#x27;, &#x27;BMW 220i Convertible&#x27;,\n       &#x27;BMW 225xe Active&#x27;, &#x27;BMW 318d&#x27;, &#x27;BMW 318d Touring&#x27;,\n       &#x27;BMW 318i Touring&#x27;, &#x27;BMW 3...\n       &#x27;Toyota Sequoia I&#x27;, &#x27;Toyota Supra 2.0&#x27;, &#x27;Toyota Supra 3.0&#x27;,\n       &#x27;Toyota Supra A91&#x27;, &#x27;Toyota Supra GR&#x27;, &#x27;Toyota Yaris Hatchback&#x27;,\n       &#x27;Toyota Yaris LE&#x27;, &#x27;Toyota Yaris Sedan&#x27;], dtype=object),\n                                                           array([&#x27;BMW&#x27;, &#x27;Honda&#x27;, &#x27;Hyundai&#x27;, &#x27;Lexus&#x27;, &#x27;Mercedes-Benz&#x27;, &#x27;Toyota&#x27;],\n      dtype=object),\n                                                           array([&#x27; Petrol&#x27;, &#x27;Diesel&#x27;, &#x27;Electric&#x27;, &#x27;Hybrid&#x27;, &#x27;Hydrogen&#x27;, &#x27;LPG&#x27;,\n       &#x27;Petrol&#x27;], dtype=object)]),\n                                 [&#x27;name&#x27;, &#x27;company&#x27;, &#x27;fuel_type&#x27;])])</pre></div></div></div><div class=\"sk-parallel\"><div class=\"sk-parallel-item\"><div class=\"sk-item\"><div class=\"sk-label-container\"><div class=\"sk-label sk-toggleable\"><input class=\"sk-toggleable__control sk-hidden--visually\" id=\"sk-estimator-id-4\" type=\"checkbox\" ><label for=\"sk-estimator-id-4\" class=\"sk-toggleable__label sk-toggleable__label-arrow\">onehotencoder</label><div class=\"sk-toggleable__content\"><pre>[&#x27;name&#x27;, &#x27;company&#x27;, &#x27;fuel_type&#x27;]</pre></div></div></div><div class=\"sk-serial\"><div class=\"sk-item\"><div class=\"sk-estimator sk-toggleable\"><input class=\"sk-toggleable__control sk-hidden--visually\" id=\"sk-estimator-id-5\" type=\"checkbox\" ><label for=\"sk-estimator-id-5\" class=\"sk-toggleable__label sk-toggleable__label-arrow\">OneHotEncoder</label><div class=\"sk-toggleable__content\"><pre>OneHotEncoder(categories=[array([&#x27;BMW 116i&#x27;, &#x27;BMW 118d&#x27;, &#x27;BMW 118d Hatchback&#x27;, &#x27;BMW 118i&#x27;,\n       &#x27;BMW 125d&#x27;, &#x27;BMW 125d Hatchback&#x27;, &#x27;BMW 125i&#x27;,\n       &#x27;BMW 125i Convertible&#x27;, &#x27;BMW 218i Gran&#x27;, &#x27;BMW 220d&#x27;,\n       &#x27;BMW 220d Gran&#x27;, &#x27;BMW 220i&#x27;, &#x27;BMW 220i Convertible&#x27;,\n       &#x27;BMW 225xe Active&#x27;, &#x27;BMW 318d&#x27;, &#x27;BMW 318d Touring&#x27;,\n       &#x27;BMW 318i Touring&#x27;, &#x27;BMW 320d Gran&#x27;, &#x27;BMW 320d xDrive&#x27;, &#x27;BMW 320i&#x27;,\n       &#x27;BMW 320i Touring&#x27;, &#x27;BMW 330d Touring&#x27;, &#x27;BMW...\n       &#x27;Toyota RAV4&#x27;, &#x27;Toyota RAV4 V&#x27;, &#x27;Toyota Sequoia&#x27;,\n       &#x27;Toyota Sequoia I&#x27;, &#x27;Toyota Supra 2.0&#x27;, &#x27;Toyota Supra 3.0&#x27;,\n       &#x27;Toyota Supra A91&#x27;, &#x27;Toyota Supra GR&#x27;, &#x27;Toyota Yaris Hatchback&#x27;,\n       &#x27;Toyota Yaris LE&#x27;, &#x27;Toyota Yaris Sedan&#x27;], dtype=object),\n                          array([&#x27;BMW&#x27;, &#x27;Honda&#x27;, &#x27;Hyundai&#x27;, &#x27;Lexus&#x27;, &#x27;Mercedes-Benz&#x27;, &#x27;Toyota&#x27;],\n      dtype=object),\n                          array([&#x27; Petrol&#x27;, &#x27;Diesel&#x27;, &#x27;Electric&#x27;, &#x27;Hybrid&#x27;, &#x27;Hydrogen&#x27;, &#x27;LPG&#x27;,\n       &#x27;Petrol&#x27;], dtype=object)])</pre></div></div></div></div></div></div><div class=\"sk-parallel-item\"><div class=\"sk-item\"><div class=\"sk-label-container\"><div class=\"sk-label sk-toggleable\"><input class=\"sk-toggleable__control sk-hidden--visually\" id=\"sk-estimator-id-6\" type=\"checkbox\" ><label for=\"sk-estimator-id-6\" class=\"sk-toggleable__label sk-toggleable__label-arrow\">remainder</label><div class=\"sk-toggleable__content\"><pre>[&#x27;year&#x27;, &#x27;kms_driven&#x27;]</pre></div></div></div><div class=\"sk-serial\"><div class=\"sk-item\"><div class=\"sk-estimator sk-toggleable\"><input class=\"sk-toggleable__control sk-hidden--visually\" id=\"sk-estimator-id-7\" type=\"checkbox\" ><label for=\"sk-estimator-id-7\" class=\"sk-toggleable__label sk-toggleable__label-arrow\">passthrough</label><div class=\"sk-toggleable__content\"><pre>passthrough</pre></div></div></div></div></div></div></div></div><div class=\"sk-item\"><div class=\"sk-estimator sk-toggleable\"><input class=\"sk-toggleable__control sk-hidden--visually\" id=\"sk-estimator-id-8\" type=\"checkbox\" ><label for=\"sk-estimator-id-8\" class=\"sk-toggleable__label sk-toggleable__label-arrow\">LinearRegression</label><div class=\"sk-toggleable__content\"><pre>LinearRegression()</pre></div></div></div></div></div></div></div>"
     },
     "execution_count": 40,
     "metadata": {},
     "output_type": "execute_result"
    }
   ],
   "source": [
    "pipe.fit(X_train,y_train)"
   ],
   "metadata": {
    "collapsed": false,
    "ExecuteTime": {
     "end_time": "2024-05-23T18:39:56.959571800Z",
     "start_time": "2024-05-23T18:39:56.734281600Z"
    }
   },
   "id": "3514a35857ca3ae7"
  },
  {
   "cell_type": "code",
   "execution_count": 41,
   "outputs": [],
   "source": [
    "y_pred=pipe.predict(X_test)"
   ],
   "metadata": {
    "collapsed": false,
    "ExecuteTime": {
     "end_time": "2024-05-23T18:39:58.351722900Z",
     "start_time": "2024-05-23T18:39:58.286496900Z"
    }
   },
   "id": "4abe38704cc9d650"
  },
  {
   "cell_type": "code",
   "execution_count": 42,
   "outputs": [
    {
     "data": {
      "text/plain": "0.2736190563970543"
     },
     "execution_count": 42,
     "metadata": {},
     "output_type": "execute_result"
    }
   ],
   "source": [
    "r2_score(y_test,y_pred)"
   ],
   "metadata": {
    "collapsed": false,
    "ExecuteTime": {
     "end_time": "2024-05-23T18:39:59.498699Z",
     "start_time": "2024-05-23T18:39:59.481340800Z"
    }
   },
   "id": "89f20eeadda5370a"
  },
  {
   "cell_type": "code",
   "execution_count": 43,
   "outputs": [],
   "source": [
    "scores=[]\n",
    "for i in range(1000):\n",
    "    X_train,X_test,y_train,y_test=train_test_split(X,y,test_size=0.1,random_state=i)\n",
    "    lr=LinearRegression()\n",
    "    pipe=make_pipeline(column_trans,lr)\n",
    "    pipe.fit(X_train,y_train)\n",
    "    y_pred=pipe.predict(X_test)\n",
    "    scores.append(r2_score(y_test,y_pred))"
   ],
   "metadata": {
    "collapsed": false,
    "ExecuteTime": {
     "end_time": "2024-05-23T18:40:14.985188900Z",
     "start_time": "2024-05-23T18:40:01.594737200Z"
    }
   },
   "id": "4f99868892c30304"
  },
  {
   "cell_type": "code",
   "execution_count": 44,
   "outputs": [
    {
     "data": {
      "text/plain": "142"
     },
     "execution_count": 44,
     "metadata": {},
     "output_type": "execute_result"
    }
   ],
   "source": [
    "np.argmax(scores)"
   ],
   "metadata": {
    "collapsed": false,
    "ExecuteTime": {
     "end_time": "2024-05-23T18:40:31.463771500Z",
     "start_time": "2024-05-23T18:40:31.442579900Z"
    }
   },
   "id": "9a7a2e6bfc73099b"
  },
  {
   "cell_type": "code",
   "execution_count": 45,
   "outputs": [
    {
     "data": {
      "text/plain": "0.6334323854067453"
     },
     "execution_count": 45,
     "metadata": {},
     "output_type": "execute_result"
    }
   ],
   "source": [
    "scores[np.argmax(scores)]"
   ],
   "metadata": {
    "collapsed": false,
    "ExecuteTime": {
     "end_time": "2024-05-23T18:40:35.667236200Z",
     "start_time": "2024-05-23T18:40:35.640316Z"
    }
   },
   "id": "956ab45b7677738"
  },
  {
   "cell_type": "code",
   "execution_count": 46,
   "outputs": [
    {
     "data": {
      "text/plain": "array([46445.29809286])"
     },
     "execution_count": 46,
     "metadata": {},
     "output_type": "execute_result"
    }
   ],
   "source": [
    "pipe.predict(pd.DataFrame(columns=X_test.columns,data=np.array(['Toyota Camry 75','Toyota',2023,30500,'Petrol']).reshape(1,5)))"
   ],
   "metadata": {
    "collapsed": false,
    "ExecuteTime": {
     "end_time": "2024-05-23T18:40:36.734707200Z",
     "start_time": "2024-05-23T18:40:36.652818800Z"
    }
   },
   "id": "662d8c2d854b9569"
  },
  {
   "cell_type": "code",
   "execution_count": 47,
   "outputs": [
    {
     "data": {
      "text/plain": "0.6334323854067453"
     },
     "execution_count": 47,
     "metadata": {},
     "output_type": "execute_result"
    }
   ],
   "source": [
    "X_train,X_test,y_train,y_test=train_test_split(X,y,test_size=0.1,random_state=np.argmax(scores))\n",
    "lr=LinearRegression()\n",
    "pipe=make_pipeline(column_trans,lr)\n",
    "pipe.fit(X_train,y_train)\n",
    "y_pred=pipe.predict(X_test)\n",
    "r2_score(y_test,y_pred)"
   ],
   "metadata": {
    "collapsed": false,
    "ExecuteTime": {
     "end_time": "2024-05-23T18:40:37.899125800Z",
     "start_time": "2024-05-23T18:40:37.735054900Z"
    }
   },
   "id": "5dd9fb96a59a9bab"
  },
  {
   "cell_type": "code",
   "execution_count": 48,
   "outputs": [],
   "source": [
    "import pickle\n",
    "pickle.dump(pipe,open('LinearRegressionModel.pkl','wb'))"
   ],
   "metadata": {
    "collapsed": false,
    "ExecuteTime": {
     "end_time": "2024-05-23T18:40:39.054374800Z",
     "start_time": "2024-05-23T18:40:39.035486Z"
    }
   },
   "id": "3818b1727fdd39af"
  },
  {
   "cell_type": "code",
   "execution_count": 49,
   "outputs": [
    {
     "data": {
      "text/plain": "array([46421.51741499])"
     },
     "execution_count": 49,
     "metadata": {},
     "output_type": "execute_result"
    }
   ],
   "source": [
    "pipe.predict(pd.DataFrame(columns=X_test.columns,data=np.array(['Toyota Camry 75','Toyota',2023,30500,'Petrol']).reshape(1,5)))"
   ],
   "metadata": {
    "collapsed": false,
    "ExecuteTime": {
     "end_time": "2024-05-23T18:40:40.097363100Z",
     "start_time": "2024-05-23T18:40:40.044508300Z"
    }
   },
   "id": "89c5589eea20a46d"
  },
  {
   "cell_type": "code",
   "execution_count": 50,
   "outputs": [
    {
     "data": {
      "text/plain": "array(['BMW 116i', 'BMW 118d', 'BMW 118d Hatchback', 'BMW 118i',\n       'BMW 125d', 'BMW 125d Hatchback', 'BMW 125i',\n       'BMW 125i Convertible', 'BMW 218i Gran', 'BMW 220d',\n       'BMW 220d Gran', 'BMW 220i', 'BMW 220i Convertible',\n       'BMW 225xe Active', 'BMW 318d', 'BMW 318d Touring',\n       'BMW 318i Touring', 'BMW 320d Gran', 'BMW 320d xDrive', 'BMW 320i',\n       'BMW 320i Touring', 'BMW 330d Touring', 'BMW 330e',\n       'BMW 330e Plug-in', 'BMW 330i', 'BMW 330i M', 'BMW 330i Touring',\n       'BMW 330i xDrive', 'BMW 335d', 'BMW 420d Gran', 'BMW 420i Gran',\n       'BMW 430i Convertible', 'BMW 520d', 'BMW 520d Touring',\n       'BMW 520d xDrive', 'BMW 520i', 'BMW 530d Touring',\n       'BMW 530d xDrive', 'BMW 530e Plug-in', 'BMW 530i X', 'BMW 535i',\n       'BMW 540i X', 'BMW 640d Gran', 'BMW 640i Gran', 'BMW 730 LD',\n       'BMW 730d', 'BMW 730i', 'BMW 740Le xDrive', 'BMW 740i',\n       'BMW 760Li X', 'BMW M2', 'BMW M2 Competition', 'BMW M235i',\n       'BMW M3', 'BMW M3 Competition', 'BMW M4', 'BMW M4 CS',\n       'BMW M4 Convertible', 'BMW M5', 'BMW M5 Competition',\n       'BMW M6 Gran', 'BMW M850i xDrive', 'BMW X1 sDrive18d',\n       'BMW X1 sDrive18i', 'BMW X1 sDrive20d', 'BMW X1 sDrive20i',\n       'BMW X1 xDrive25i', 'BMW X2 sDrive18d', 'BMW X2 sDrive18i',\n       'BMW X2 sDrive20i', 'BMW X3 M', 'BMW X3 M40i', 'BMW X3 xDrive20d',\n       'BMW X3 xDrive30i', 'BMW X4 M', 'BMW X4 M40i', 'BMW X4 xDrive20d',\n       'BMW X4 xDrive30d', 'BMW X4 xDrive30i', 'BMW X4 xDrive35i',\n       'BMW X5 35i', 'BMW X5 G05', 'BMW X5 M', 'BMW X5 M50d',\n       'BMW X5 xDrive30d', 'BMW X5 xDrive40d', 'BMW X5 xDrive45e',\n       'BMW X5 xDrive50i', 'BMW X6 M', 'BMW X6 M50d', 'BMW X6 M50i',\n       'BMW X6 xDrive35i', 'BMW X6 xDrive40d', 'BMW X7 M50i',\n       'BMW X7 xDrive30d', 'BMW X7 xDrive40i', 'BMW i3', 'BMW i3s',\n       'BMW i8', 'Honda Accord', 'Honda CR-V', 'Honda CR-V III',\n       'Honda Civic', 'Honda Civic VIII', 'Honda Fit', 'Honda Fit I',\n       'Honda Jazz', 'Honda Jazz II', 'Honda Odyssey', 'Honda Stepwgn',\n       'Honda Stepwgn II', 'Honda Stream I', 'Hyundai Accent',\n       'Hyundai Accent Blue', 'Hyundai Atos', 'Hyundai Atos Prime',\n       'Hyundai Avante', 'Hyundai Avante AD', 'Hyundai Azera',\n       'Hyundai Centennial', 'Hyundai Coupe', 'Hyundai Creta',\n       'Hyundai Elantra', 'Hyundai Elantra GT', 'Hyundai Elantra N',\n       'Hyundai Encino', 'Hyundai Entourage', 'Hyundai Excel',\n       'Hyundai Galloper', 'Hyundai Genesis', 'Hyundai Genesis Coupe',\n       'Hyundai Getz', 'Hyundai Grand Starex', 'Hyundai Grand i10',\n       'Hyundai Grandeur', 'Hyundai H-1', 'Hyundai H-100', 'Hyundai HB20',\n       'Hyundai Ioniq Electric', 'Hyundai Ioniq Hybrid',\n       'Hyundai Ioniq Plug-in', 'Hyundai Kona', 'Hyundai Kona Electric',\n       'Hyundai Kona N', 'Hyundai Lantra', 'Hyundai Lavita',\n       'Hyundai Mistra', 'Hyundai Nexo', 'Hyundai Palisade',\n       'Hyundai Pony', 'Hyundai Santa Cruz', 'Hyundai Santa Fe',\n       'Hyundai Santa-fe', 'Hyundai Santro', 'Hyundai Santro Xing',\n       'Hyundai Scoupe', 'Hyundai Scoupe Turbo', 'Hyundai Solaris',\n       'Hyundai Sonata', 'Hyundai Sonata DN8', 'Hyundai Sonata Hybrid',\n       'Hyundai Sonata N', 'Hyundai Sonata Plug-in', 'Hyundai Starex',\n       'Hyundai Staria', 'Hyundai Terracan', 'Hyundai Tiburon',\n       'Hyundai Tucson', 'Hyundai Tucson Hybrid', 'Hyundai Veloster',\n       'Hyundai Veloster N', 'Hyundai Veloster Turbo', 'Hyundai Venue',\n       'Hyundai Veracruz', 'Hyundai Verna', 'Hyundai i10', 'Hyundai i20',\n       'Hyundai i30', 'Hyundai i40', 'Hyundai i40 Tourer', 'Hyundai i800',\n       'Hyundai ix20', 'Hyundai ix25', 'Hyundai ix35', 'Hyundai ix45',\n       'Hyundai ix55', 'Lexus ES 300', 'Lexus ES 300h', 'Lexus ES 350',\n       'Lexus GX 460', 'Lexus GX 470', 'Lexus IS 250', 'Lexus IS 300',\n       'Lexus IS 300h', 'Lexus LS 460', 'Lexus LS 500', 'Lexus LS 500h',\n       'Lexus LX 570', 'Lexus NX 200t', 'Lexus NX 300', 'Lexus NX 300h',\n       'Lexus RC 200t', 'Lexus RC 350', 'Lexus RC F', 'Lexus RX 350',\n       'Lexus RX 450', 'Lexus RX 450h', 'Lexus UX 250h',\n       'Mercedes-Benz A-Класс W177', 'Mercedes-Benz B-Класс W246',\n       'Mercedes-Benz C-Класс W204', 'Mercedes-Benz C-Класс W205',\n       'Mercedes-Benz C-Класс W206', 'Mercedes-Benz CLA-Класс C117',\n       'Mercedes-Benz CLS-Класс C257', 'Mercedes-Benz E-Класс W210',\n       'Mercedes-Benz E-Класс W211', 'Mercedes-Benz E-Класс W212',\n       'Mercedes-Benz E-Класс W213', 'Mercedes-Benz EQC',\n       'Mercedes-Benz G-Класс W463', 'Mercedes-Benz G63 AMG',\n       'Mercedes-Benz GLA-Класс X156', 'Mercedes-Benz GLB-Класс X247',\n       'Mercedes-Benz GLC Coupe', 'Mercedes-Benz GLC-Класс X253',\n       'Mercedes-Benz GLE Coupe', 'Mercedes-Benz GLE-Класс W166',\n       'Mercedes-Benz GLE-Класс W167', 'Mercedes-Benz GLS Coupe',\n       'Mercedes-Benz GLS-Класс X167', 'Mercedes-Benz M-Класс W166',\n       'Mercedes-Benz S-Класс W220', 'Mercedes-Benz S-Класс W222',\n       'Mercedes-Benz S-Класс W223', 'Mercedes-Benz SLR McLaren',\n       'Mercedes-Benz SLS AMG', 'Mercedes-Benz Sprinter W906',\n       'Mercedes-Benz V-Класс W447', 'Toyota 4Runner Limited',\n       'Toyota 4Runner SR5', 'Toyota 4Runner TRD',\n       'Toyota Alphard Executive', 'Toyota Alphard Vellfire',\n       'Toyota Avalon', 'Toyota Avalon Limited', 'Toyota Avalon Touring',\n       'Toyota Avalon XLE', 'Toyota Avalon XSE', 'Toyota Camry 40',\n       'Toyota Camry 50', 'Toyota Camry 55', 'Toyota Camry 60',\n       'Toyota Camry 65', 'Toyota Camry 70', 'Toyota Camry 75',\n       'Toyota Corolla 45', 'Toyota Corolla 50', 'Toyota Corolla 55',\n       'Toyota Corolla 60', 'Toyota Crown', 'Toyota Crown 55',\n       'Toyota Crown Athlete', 'Toyota Crown Hybrid',\n       'Toyota Crown Majesta', 'Toyota Crown XVI', 'Toyota Estima Aeras',\n       'Toyota Estima Hybrid', 'Toyota Grand Highlander',\n       'Toyota Highlander', 'Toyota Highlander IV',\n       'Toyota Highlander Limited', 'Toyota Highlander XLE',\n       'Toyota Highlander XSE', 'Toyota Land Cruiser', 'Toyota Prado GXL',\n       'Toyota Prado Kakadu', 'Toyota Prado TXL', 'Toyota Prado VX',\n       'Toyota Prius L', 'Toyota Prius Prime', 'Toyota Prius XLE',\n       'Toyota RAV4', 'Toyota RAV4 V', 'Toyota Sequoia',\n       'Toyota Sequoia I', 'Toyota Supra 2.0', 'Toyota Supra 3.0',\n       'Toyota Supra A91', 'Toyota Supra GR', 'Toyota Yaris Hatchback',\n       'Toyota Yaris LE', 'Toyota Yaris Sedan'], dtype=object)"
     },
     "execution_count": 50,
     "metadata": {},
     "output_type": "execute_result"
    }
   ],
   "source": [
    "pipe.steps[0][1].transformers[0][1].categories[0]"
   ],
   "metadata": {
    "collapsed": false,
    "ExecuteTime": {
     "end_time": "2024-05-23T18:40:41.225546Z",
     "start_time": "2024-05-23T18:40:41.152213300Z"
    }
   },
   "id": "933b784296235074"
  },
  {
   "cell_type": "code",
   "execution_count": 50,
   "outputs": [],
   "source": [],
   "metadata": {
    "collapsed": false,
    "ExecuteTime": {
     "end_time": "2024-05-23T18:40:42.879279400Z",
     "start_time": "2024-05-23T18:40:42.862540600Z"
    }
   },
   "id": "d2b5a3a916feeb5e"
  },
  {
   "cell_type": "code",
   "execution_count": null,
   "outputs": [],
   "source": [],
   "metadata": {
    "collapsed": false
   },
   "id": "b18f7c9aab950bcc"
  }
 ],
 "metadata": {
  "kernelspec": {
   "display_name": "Python 3",
   "language": "python",
   "name": "python3"
  },
  "language_info": {
   "codemirror_mode": {
    "name": "ipython",
    "version": 2
   },
   "file_extension": ".py",
   "mimetype": "text/x-python",
   "name": "python",
   "nbconvert_exporter": "python",
   "pygments_lexer": "ipython2",
   "version": "2.7.6"
  }
 },
 "nbformat": 4,
 "nbformat_minor": 5
}
